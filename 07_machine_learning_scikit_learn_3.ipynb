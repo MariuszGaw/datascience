{
  "nbformat": 4,
  "nbformat_minor": 0,
  "metadata": {
    "colab": {
      "provenance": [],
      "authorship_tag": "ABX9TyM4GqrRQTVqcmMRhk+GCqU/",
      "include_colab_link": true
    },
    "kernelspec": {
      "name": "python3",
      "display_name": "Python 3"
    },
    "language_info": {
      "name": "python"
    }
  },
  "cells": [
    {
      "cell_type": "markdown",
      "metadata": {
        "id": "view-in-github",
        "colab_type": "text"
      },
      "source": [
        "<a href=\"https://colab.research.google.com/github/MariuszGaw/datascience/blob/main/07_machine_learning_scikit_learn_3.ipynb\" target=\"_parent\"><img src=\"https://colab.research.google.com/assets/colab-badge.svg\" alt=\"Open In Colab\"/></a>"
      ]
    },
    {
      "cell_type": "code",
      "execution_count": 1,
      "metadata": {
        "id": "hYIWapMNvQW-"
      },
      "outputs": [],
      "source": [
        "import numpy as np\n",
        "import pandas as pd\n",
        "import plotly.express as px\n",
        "import plotly.graph_objects as go"
      ]
    },
    {
      "cell_type": "code",
      "source": [
        "y_true = 100 + 20*np.random.randn(50)\n",
        "y_true"
      ],
      "metadata": {
        "colab": {
          "base_uri": "https://localhost:8080/"
        },
        "id": "8_0iaDn3yu2v",
        "outputId": "e5d16b22-0fa0-4a23-fc64-cf7f1f94ccbd"
      },
      "execution_count": 2,
      "outputs": [
        {
          "output_type": "execute_result",
          "data": {
            "text/plain": [
              "array([ 59.93347984, 147.88382261, 106.11983074, 122.63432812,\n",
              "       117.82738294, 106.6156368 , 108.17537563,  72.30667455,\n",
              "       115.31985723,  73.83588694,  67.54611577,  81.47769941,\n",
              "        89.81579627, 124.59002521, 136.35657432, 116.08149791,\n",
              "       105.51482733,  92.42007571,  89.55414904,  74.08699292,\n",
              "       144.9608058 ,  89.27612849, 109.64975735,  56.9271344 ,\n",
              "       119.87648188, 125.35806427, 121.57396487, 119.28526012,\n",
              "        92.283609  , 112.62499465, 119.90603871, 108.00164752,\n",
              "       102.699094  ,  94.80479394,  76.37930397, 109.00445803,\n",
              "        85.68687942,  83.70739203, 113.35209382, 119.70814981,\n",
              "        90.99962311,  88.50675202,  95.5692741 , 119.47713296,\n",
              "       108.49218853,  97.60416288,  98.82634495,  96.87145172,\n",
              "       129.80182261,  87.85690269])"
            ]
          },
          "metadata": {},
          "execution_count": 2
        }
      ]
    },
    {
      "cell_type": "code",
      "source": [
        "y_pred = y_true + 10*np.random.randn(50)\n",
        "y_pred"
      ],
      "metadata": {
        "colab": {
          "base_uri": "https://localhost:8080/"
        },
        "id": "Of-dJAcNy5LA",
        "outputId": "a8605d0d-f246-42b6-b124-56c45a795db2"
      },
      "execution_count": 7,
      "outputs": [
        {
          "output_type": "execute_result",
          "data": {
            "text/plain": [
              "array([ 51.81273199, 139.24266694, 105.52963305, 129.2514858 ,\n",
              "       105.207157  , 113.40259268, 100.77524374,  83.91123571,\n",
              "        95.33330644,  58.72143678,  59.7003286 ,  87.83387703,\n",
              "        85.0789721 , 128.77500256, 138.5579152 , 103.3626271 ,\n",
              "       104.30104515,  84.9050646 ,  76.5856088 ,  61.22833802,\n",
              "       140.09116437,  97.45286848, 112.0634597 ,  45.14958933,\n",
              "       131.42078414, 124.99987426, 109.72778214, 119.66364846,\n",
              "        77.02096088, 110.76040637, 116.54935435, 112.17663985,\n",
              "        98.73775322,  86.57529065,  72.43106469, 113.21698627,\n",
              "        81.09300113,  71.66773061, 122.0893935 , 118.34888658,\n",
              "        79.95395972,  75.57195094,  89.2518167 , 115.99911632,\n",
              "       115.52379207,  72.77875376,  98.89388324,  91.88453001,\n",
              "       133.38137589,  94.92444682])"
            ]
          },
          "metadata": {},
          "execution_count": 7
        }
      ]
    },
    {
      "cell_type": "code",
      "source": [
        "results = pd.DataFrame({'y_true':y_true, 'y_pred':y_pred})\n",
        "results.head()"
      ],
      "metadata": {
        "colab": {
          "base_uri": "https://localhost:8080/",
          "height": 206
        },
        "id": "Bb4TfsjGzFWG",
        "outputId": "4856a12b-227f-435b-c417-3a07368b0909"
      },
      "execution_count": 10,
      "outputs": [
        {
          "output_type": "execute_result",
          "data": {
            "text/plain": [
              "       y_true      y_pred\n",
              "0   59.933480   51.812732\n",
              "1  147.883823  139.242667\n",
              "2  106.119831  105.529633\n",
              "3  122.634328  129.251486\n",
              "4  117.827383  105.207157"
            ],
            "text/html": [
              "\n",
              "  <div id=\"df-0cc5324e-1222-4d69-9d26-154820840980\">\n",
              "    <div class=\"colab-df-container\">\n",
              "      <div>\n",
              "<style scoped>\n",
              "    .dataframe tbody tr th:only-of-type {\n",
              "        vertical-align: middle;\n",
              "    }\n",
              "\n",
              "    .dataframe tbody tr th {\n",
              "        vertical-align: top;\n",
              "    }\n",
              "\n",
              "    .dataframe thead th {\n",
              "        text-align: right;\n",
              "    }\n",
              "</style>\n",
              "<table border=\"1\" class=\"dataframe\">\n",
              "  <thead>\n",
              "    <tr style=\"text-align: right;\">\n",
              "      <th></th>\n",
              "      <th>y_true</th>\n",
              "      <th>y_pred</th>\n",
              "    </tr>\n",
              "  </thead>\n",
              "  <tbody>\n",
              "    <tr>\n",
              "      <th>0</th>\n",
              "      <td>59.933480</td>\n",
              "      <td>51.812732</td>\n",
              "    </tr>\n",
              "    <tr>\n",
              "      <th>1</th>\n",
              "      <td>147.883823</td>\n",
              "      <td>139.242667</td>\n",
              "    </tr>\n",
              "    <tr>\n",
              "      <th>2</th>\n",
              "      <td>106.119831</td>\n",
              "      <td>105.529633</td>\n",
              "    </tr>\n",
              "    <tr>\n",
              "      <th>3</th>\n",
              "      <td>122.634328</td>\n",
              "      <td>129.251486</td>\n",
              "    </tr>\n",
              "    <tr>\n",
              "      <th>4</th>\n",
              "      <td>117.827383</td>\n",
              "      <td>105.207157</td>\n",
              "    </tr>\n",
              "  </tbody>\n",
              "</table>\n",
              "</div>\n",
              "      <button class=\"colab-df-convert\" onclick=\"convertToInteractive('df-0cc5324e-1222-4d69-9d26-154820840980')\"\n",
              "              title=\"Convert this dataframe to an interactive table.\"\n",
              "              style=\"display:none;\">\n",
              "        \n",
              "  <svg xmlns=\"http://www.w3.org/2000/svg\" height=\"24px\"viewBox=\"0 0 24 24\"\n",
              "       width=\"24px\">\n",
              "    <path d=\"M0 0h24v24H0V0z\" fill=\"none\"/>\n",
              "    <path d=\"M18.56 5.44l.94 2.06.94-2.06 2.06-.94-2.06-.94-.94-2.06-.94 2.06-2.06.94zm-11 1L8.5 8.5l.94-2.06 2.06-.94-2.06-.94L8.5 2.5l-.94 2.06-2.06.94zm10 10l.94 2.06.94-2.06 2.06-.94-2.06-.94-.94-2.06-.94 2.06-2.06.94z\"/><path d=\"M17.41 7.96l-1.37-1.37c-.4-.4-.92-.59-1.43-.59-.52 0-1.04.2-1.43.59L10.3 9.45l-7.72 7.72c-.78.78-.78 2.05 0 2.83L4 21.41c.39.39.9.59 1.41.59.51 0 1.02-.2 1.41-.59l7.78-7.78 2.81-2.81c.8-.78.8-2.07 0-2.86zM5.41 20L4 18.59l7.72-7.72 1.47 1.35L5.41 20z\"/>\n",
              "  </svg>\n",
              "      </button>\n",
              "      \n",
              "  <style>\n",
              "    .colab-df-container {\n",
              "      display:flex;\n",
              "      flex-wrap:wrap;\n",
              "      gap: 12px;\n",
              "    }\n",
              "\n",
              "    .colab-df-convert {\n",
              "      background-color: #E8F0FE;\n",
              "      border: none;\n",
              "      border-radius: 50%;\n",
              "      cursor: pointer;\n",
              "      display: none;\n",
              "      fill: #1967D2;\n",
              "      height: 32px;\n",
              "      padding: 0 0 0 0;\n",
              "      width: 32px;\n",
              "    }\n",
              "\n",
              "    .colab-df-convert:hover {\n",
              "      background-color: #E2EBFA;\n",
              "      box-shadow: 0px 1px 2px rgba(60, 64, 67, 0.3), 0px 1px 3px 1px rgba(60, 64, 67, 0.15);\n",
              "      fill: #174EA6;\n",
              "    }\n",
              "\n",
              "    [theme=dark] .colab-df-convert {\n",
              "      background-color: #3B4455;\n",
              "      fill: #D2E3FC;\n",
              "    }\n",
              "\n",
              "    [theme=dark] .colab-df-convert:hover {\n",
              "      background-color: #434B5C;\n",
              "      box-shadow: 0px 1px 3px 1px rgba(0, 0, 0, 0.15);\n",
              "      filter: drop-shadow(0px 1px 2px rgba(0, 0, 0, 0.3));\n",
              "      fill: #FFFFFF;\n",
              "    }\n",
              "  </style>\n",
              "\n",
              "      <script>\n",
              "        const buttonEl =\n",
              "          document.querySelector('#df-0cc5324e-1222-4d69-9d26-154820840980 button.colab-df-convert');\n",
              "        buttonEl.style.display =\n",
              "          google.colab.kernel.accessAllowed ? 'block' : 'none';\n",
              "\n",
              "        async function convertToInteractive(key) {\n",
              "          const element = document.querySelector('#df-0cc5324e-1222-4d69-9d26-154820840980');\n",
              "          const dataTable =\n",
              "            await google.colab.kernel.invokeFunction('convertToInteractive',\n",
              "                                                     [key], {});\n",
              "          if (!dataTable) return;\n",
              "\n",
              "          const docLinkHtml = 'Like what you see? Visit the ' +\n",
              "            '<a target=\"_blank\" href=https://colab.research.google.com/notebooks/data_table.ipynb>data table notebook</a>'\n",
              "            + ' to learn more about interactive tables.';\n",
              "          element.innerHTML = '';\n",
              "          dataTable['output_type'] = 'display_data';\n",
              "          await google.colab.output.renderOutput(dataTable, element);\n",
              "          const docLink = document.createElement('div');\n",
              "          docLink.innerHTML = docLinkHtml;\n",
              "          element.appendChild(docLink);\n",
              "        }\n",
              "      </script>\n",
              "    </div>\n",
              "  </div>\n",
              "  "
            ]
          },
          "metadata": {},
          "execution_count": 10
        }
      ]
    },
    {
      "cell_type": "code",
      "source": [
        "results['error'] = results['y_true'] - results['y_pred']\n",
        "results.head()"
      ],
      "metadata": {
        "colab": {
          "base_uri": "https://localhost:8080/",
          "height": 206
        },
        "id": "AV23_XDIzWG7",
        "outputId": "0bf826b7-1843-4554-a4a1-0ab2c1a9cf24"
      },
      "execution_count": 11,
      "outputs": [
        {
          "output_type": "execute_result",
          "data": {
            "text/plain": [
              "       y_true      y_pred      error\n",
              "0   59.933480   51.812732   8.120748\n",
              "1  147.883823  139.242667   8.641156\n",
              "2  106.119831  105.529633   0.590198\n",
              "3  122.634328  129.251486  -6.617158\n",
              "4  117.827383  105.207157  12.620226"
            ],
            "text/html": [
              "\n",
              "  <div id=\"df-fe83d447-0513-4179-a348-af4aa9d3859e\">\n",
              "    <div class=\"colab-df-container\">\n",
              "      <div>\n",
              "<style scoped>\n",
              "    .dataframe tbody tr th:only-of-type {\n",
              "        vertical-align: middle;\n",
              "    }\n",
              "\n",
              "    .dataframe tbody tr th {\n",
              "        vertical-align: top;\n",
              "    }\n",
              "\n",
              "    .dataframe thead th {\n",
              "        text-align: right;\n",
              "    }\n",
              "</style>\n",
              "<table border=\"1\" class=\"dataframe\">\n",
              "  <thead>\n",
              "    <tr style=\"text-align: right;\">\n",
              "      <th></th>\n",
              "      <th>y_true</th>\n",
              "      <th>y_pred</th>\n",
              "      <th>error</th>\n",
              "    </tr>\n",
              "  </thead>\n",
              "  <tbody>\n",
              "    <tr>\n",
              "      <th>0</th>\n",
              "      <td>59.933480</td>\n",
              "      <td>51.812732</td>\n",
              "      <td>8.120748</td>\n",
              "    </tr>\n",
              "    <tr>\n",
              "      <th>1</th>\n",
              "      <td>147.883823</td>\n",
              "      <td>139.242667</td>\n",
              "      <td>8.641156</td>\n",
              "    </tr>\n",
              "    <tr>\n",
              "      <th>2</th>\n",
              "      <td>106.119831</td>\n",
              "      <td>105.529633</td>\n",
              "      <td>0.590198</td>\n",
              "    </tr>\n",
              "    <tr>\n",
              "      <th>3</th>\n",
              "      <td>122.634328</td>\n",
              "      <td>129.251486</td>\n",
              "      <td>-6.617158</td>\n",
              "    </tr>\n",
              "    <tr>\n",
              "      <th>4</th>\n",
              "      <td>117.827383</td>\n",
              "      <td>105.207157</td>\n",
              "      <td>12.620226</td>\n",
              "    </tr>\n",
              "  </tbody>\n",
              "</table>\n",
              "</div>\n",
              "      <button class=\"colab-df-convert\" onclick=\"convertToInteractive('df-fe83d447-0513-4179-a348-af4aa9d3859e')\"\n",
              "              title=\"Convert this dataframe to an interactive table.\"\n",
              "              style=\"display:none;\">\n",
              "        \n",
              "  <svg xmlns=\"http://www.w3.org/2000/svg\" height=\"24px\"viewBox=\"0 0 24 24\"\n",
              "       width=\"24px\">\n",
              "    <path d=\"M0 0h24v24H0V0z\" fill=\"none\"/>\n",
              "    <path d=\"M18.56 5.44l.94 2.06.94-2.06 2.06-.94-2.06-.94-.94-2.06-.94 2.06-2.06.94zm-11 1L8.5 8.5l.94-2.06 2.06-.94-2.06-.94L8.5 2.5l-.94 2.06-2.06.94zm10 10l.94 2.06.94-2.06 2.06-.94-2.06-.94-.94-2.06-.94 2.06-2.06.94z\"/><path d=\"M17.41 7.96l-1.37-1.37c-.4-.4-.92-.59-1.43-.59-.52 0-1.04.2-1.43.59L10.3 9.45l-7.72 7.72c-.78.78-.78 2.05 0 2.83L4 21.41c.39.39.9.59 1.41.59.51 0 1.02-.2 1.41-.59l7.78-7.78 2.81-2.81c.8-.78.8-2.07 0-2.86zM5.41 20L4 18.59l7.72-7.72 1.47 1.35L5.41 20z\"/>\n",
              "  </svg>\n",
              "      </button>\n",
              "      \n",
              "  <style>\n",
              "    .colab-df-container {\n",
              "      display:flex;\n",
              "      flex-wrap:wrap;\n",
              "      gap: 12px;\n",
              "    }\n",
              "\n",
              "    .colab-df-convert {\n",
              "      background-color: #E8F0FE;\n",
              "      border: none;\n",
              "      border-radius: 50%;\n",
              "      cursor: pointer;\n",
              "      display: none;\n",
              "      fill: #1967D2;\n",
              "      height: 32px;\n",
              "      padding: 0 0 0 0;\n",
              "      width: 32px;\n",
              "    }\n",
              "\n",
              "    .colab-df-convert:hover {\n",
              "      background-color: #E2EBFA;\n",
              "      box-shadow: 0px 1px 2px rgba(60, 64, 67, 0.3), 0px 1px 3px 1px rgba(60, 64, 67, 0.15);\n",
              "      fill: #174EA6;\n",
              "    }\n",
              "\n",
              "    [theme=dark] .colab-df-convert {\n",
              "      background-color: #3B4455;\n",
              "      fill: #D2E3FC;\n",
              "    }\n",
              "\n",
              "    [theme=dark] .colab-df-convert:hover {\n",
              "      background-color: #434B5C;\n",
              "      box-shadow: 0px 1px 3px 1px rgba(0, 0, 0, 0.15);\n",
              "      filter: drop-shadow(0px 1px 2px rgba(0, 0, 0, 0.3));\n",
              "      fill: #FFFFFF;\n",
              "    }\n",
              "  </style>\n",
              "\n",
              "      <script>\n",
              "        const buttonEl =\n",
              "          document.querySelector('#df-fe83d447-0513-4179-a348-af4aa9d3859e button.colab-df-convert');\n",
              "        buttonEl.style.display =\n",
              "          google.colab.kernel.accessAllowed ? 'block' : 'none';\n",
              "\n",
              "        async function convertToInteractive(key) {\n",
              "          const element = document.querySelector('#df-fe83d447-0513-4179-a348-af4aa9d3859e');\n",
              "          const dataTable =\n",
              "            await google.colab.kernel.invokeFunction('convertToInteractive',\n",
              "                                                     [key], {});\n",
              "          if (!dataTable) return;\n",
              "\n",
              "          const docLinkHtml = 'Like what you see? Visit the ' +\n",
              "            '<a target=\"_blank\" href=https://colab.research.google.com/notebooks/data_table.ipynb>data table notebook</a>'\n",
              "            + ' to learn more about interactive tables.';\n",
              "          element.innerHTML = '';\n",
              "          dataTable['output_type'] = 'display_data';\n",
              "          await google.colab.output.renderOutput(dataTable, element);\n",
              "          const docLink = document.createElement('div');\n",
              "          docLink.innerHTML = docLinkHtml;\n",
              "          element.appendChild(docLink);\n",
              "        }\n",
              "      </script>\n",
              "    </div>\n",
              "  </div>\n",
              "  "
            ]
          },
          "metadata": {},
          "execution_count": 11
        }
      ]
    },
    {
      "cell_type": "code",
      "source": [
        "def plot_regression_results(y_true, y_pred): \n",
        "    results = pd.DataFrame({'y_true': y_true, 'y_pred': y_pred})\n",
        "    min = results[['y_true', 'y_pred']].min().min()\n",
        "    max = results[['y_true', 'y_pred']].max().max()\n",
        "\n",
        "    fig = go.Figure(data=[go.Scatter(x=results['y_true'], y=results['y_pred'], mode='markers'),\n",
        "                    go.Scatter(x=[min, max], y=[min, max])],\n",
        "                    layout=go.Layout(showlegend=False, width=800, height=500,\n",
        "                                     xaxis_title='y_true', \n",
        "                                     yaxis_title='y_pred',\n",
        "                                     title='Regression results'))\n",
        "    fig.show()\n",
        "plot_regression_results(y_true, y_pred)"
      ],
      "metadata": {
        "colab": {
          "base_uri": "https://localhost:8080/",
          "height": 537
        },
        "id": "1Dte__Apzlso",
        "outputId": "905a0a43-2ce7-40be-ae40-cd169181819f"
      },
      "execution_count": 12,
      "outputs": [
        {
          "output_type": "display_data",
          "data": {
            "text/html": [
              "<html>\n",
              "<head><meta charset=\"utf-8\" /></head>\n",
              "<body>\n",
              "    <div>            <script src=\"https://cdnjs.cloudflare.com/ajax/libs/mathjax/2.7.5/MathJax.js?config=TeX-AMS-MML_SVG\"></script><script type=\"text/javascript\">if (window.MathJax) {MathJax.Hub.Config({SVG: {font: \"STIX-Web\"}});}</script>                <script type=\"text/javascript\">window.PlotlyConfig = {MathJaxConfig: 'local'};</script>\n",
              "        <script src=\"https://cdn.plot.ly/plotly-2.8.3.min.js\"></script>                <div id=\"29c90804-a23b-4809-a007-88c76e253c8c\" class=\"plotly-graph-div\" style=\"height:500px; width:800px;\"></div>            <script type=\"text/javascript\">                                    window.PLOTLYENV=window.PLOTLYENV || {};                                    if (document.getElementById(\"29c90804-a23b-4809-a007-88c76e253c8c\")) {                    Plotly.newPlot(                        \"29c90804-a23b-4809-a007-88c76e253c8c\",                        [{\"mode\":\"markers\",\"x\":[59.93347983601857,147.8838226147426,106.11983074369252,122.63432811960763,117.82738293677374,106.615636795625,108.1753756271331,72.30667455465723,115.31985723439477,73.8358869355922,67.54611576749204,81.4776994099669,89.8157962729185,124.59002521021394,136.35657432137936,116.08149790955241,105.51482732736537,92.42007571303938,89.55414904441741,74.08699291713637,144.9608058023921,89.27612849346956,109.64975734750472,56.927134396019746,119.87648187744664,125.35806427203866,121.57396486680145,119.28526012437548,92.28360900461259,112.6249946452802,119.9060387086831,108.00164751630649,102.69909399621042,94.80479393544857,76.37930396781775,109.00445802899549,85.68687942316335,83.70739203207799,113.35209382377776,119.70814981371912,90.99962310542965,88.5067520240964,95.56927410391485,119.47713295548093,108.49218853386179,97.6041628807299,98.82634494668669,96.87145172274951,129.8018226090174,87.85690268995329],\"y\":[51.812731985285694,139.24266694238273,105.52963305178903,129.2514857969122,105.20715699774769,113.40259268301116,100.77524373781984,83.91123570944906,95.33330644135619,58.72143677889908,59.700328599516105,87.83387703182774,85.07897209575914,128.77500255714622,138.55791519764688,103.36262710087709,104.30104515116774,84.90506460208599,76.58560879588663,61.228338019309255,140.09116436747755,97.45286847562406,112.06345969550665,45.14958933189552,131.42078414495117,124.99987425715047,109.72778214014139,119.66364846355326,77.02096087600907,110.76040636503132,116.5493543518495,112.17663984527782,98.73775321942614,86.57529064660991,72.43106468801066,113.21698627272562,81.09300112651063,71.6677306126563,122.08939350133038,118.34888658252342,79.95395971541615,75.57195093809509,89.25181670061262,115.99911632326591,115.52379207023688,72.77875375852257,98.89388323761999,91.88453001131103,133.38137588857748,94.92444682041707],\"type\":\"scatter\"},{\"x\":[45.14958933189552,147.8838226147426],\"y\":[45.14958933189552,147.8838226147426],\"type\":\"scatter\"}],                        {\"height\":500,\"showlegend\":false,\"title\":{\"text\":\"Regression results\"},\"width\":800,\"xaxis\":{\"title\":{\"text\":\"y_true\"}},\"yaxis\":{\"title\":{\"text\":\"y_pred\"}},\"template\":{\"data\":{\"bar\":[{\"error_x\":{\"color\":\"#2a3f5f\"},\"error_y\":{\"color\":\"#2a3f5f\"},\"marker\":{\"line\":{\"color\":\"#E5ECF6\",\"width\":0.5},\"pattern\":{\"fillmode\":\"overlay\",\"size\":10,\"solidity\":0.2}},\"type\":\"bar\"}],\"barpolar\":[{\"marker\":{\"line\":{\"color\":\"#E5ECF6\",\"width\":0.5},\"pattern\":{\"fillmode\":\"overlay\",\"size\":10,\"solidity\":0.2}},\"type\":\"barpolar\"}],\"carpet\":[{\"aaxis\":{\"endlinecolor\":\"#2a3f5f\",\"gridcolor\":\"white\",\"linecolor\":\"white\",\"minorgridcolor\":\"white\",\"startlinecolor\":\"#2a3f5f\"},\"baxis\":{\"endlinecolor\":\"#2a3f5f\",\"gridcolor\":\"white\",\"linecolor\":\"white\",\"minorgridcolor\":\"white\",\"startlinecolor\":\"#2a3f5f\"},\"type\":\"carpet\"}],\"choropleth\":[{\"colorbar\":{\"outlinewidth\":0,\"ticks\":\"\"},\"type\":\"choropleth\"}],\"contour\":[{\"colorbar\":{\"outlinewidth\":0,\"ticks\":\"\"},\"colorscale\":[[0.0,\"#0d0887\"],[0.1111111111111111,\"#46039f\"],[0.2222222222222222,\"#7201a8\"],[0.3333333333333333,\"#9c179e\"],[0.4444444444444444,\"#bd3786\"],[0.5555555555555556,\"#d8576b\"],[0.6666666666666666,\"#ed7953\"],[0.7777777777777778,\"#fb9f3a\"],[0.8888888888888888,\"#fdca26\"],[1.0,\"#f0f921\"]],\"type\":\"contour\"}],\"contourcarpet\":[{\"colorbar\":{\"outlinewidth\":0,\"ticks\":\"\"},\"type\":\"contourcarpet\"}],\"heatmap\":[{\"colorbar\":{\"outlinewidth\":0,\"ticks\":\"\"},\"colorscale\":[[0.0,\"#0d0887\"],[0.1111111111111111,\"#46039f\"],[0.2222222222222222,\"#7201a8\"],[0.3333333333333333,\"#9c179e\"],[0.4444444444444444,\"#bd3786\"],[0.5555555555555556,\"#d8576b\"],[0.6666666666666666,\"#ed7953\"],[0.7777777777777778,\"#fb9f3a\"],[0.8888888888888888,\"#fdca26\"],[1.0,\"#f0f921\"]],\"type\":\"heatmap\"}],\"heatmapgl\":[{\"colorbar\":{\"outlinewidth\":0,\"ticks\":\"\"},\"colorscale\":[[0.0,\"#0d0887\"],[0.1111111111111111,\"#46039f\"],[0.2222222222222222,\"#7201a8\"],[0.3333333333333333,\"#9c179e\"],[0.4444444444444444,\"#bd3786\"],[0.5555555555555556,\"#d8576b\"],[0.6666666666666666,\"#ed7953\"],[0.7777777777777778,\"#fb9f3a\"],[0.8888888888888888,\"#fdca26\"],[1.0,\"#f0f921\"]],\"type\":\"heatmapgl\"}],\"histogram\":[{\"marker\":{\"pattern\":{\"fillmode\":\"overlay\",\"size\":10,\"solidity\":0.2}},\"type\":\"histogram\"}],\"histogram2d\":[{\"colorbar\":{\"outlinewidth\":0,\"ticks\":\"\"},\"colorscale\":[[0.0,\"#0d0887\"],[0.1111111111111111,\"#46039f\"],[0.2222222222222222,\"#7201a8\"],[0.3333333333333333,\"#9c179e\"],[0.4444444444444444,\"#bd3786\"],[0.5555555555555556,\"#d8576b\"],[0.6666666666666666,\"#ed7953\"],[0.7777777777777778,\"#fb9f3a\"],[0.8888888888888888,\"#fdca26\"],[1.0,\"#f0f921\"]],\"type\":\"histogram2d\"}],\"histogram2dcontour\":[{\"colorbar\":{\"outlinewidth\":0,\"ticks\":\"\"},\"colorscale\":[[0.0,\"#0d0887\"],[0.1111111111111111,\"#46039f\"],[0.2222222222222222,\"#7201a8\"],[0.3333333333333333,\"#9c179e\"],[0.4444444444444444,\"#bd3786\"],[0.5555555555555556,\"#d8576b\"],[0.6666666666666666,\"#ed7953\"],[0.7777777777777778,\"#fb9f3a\"],[0.8888888888888888,\"#fdca26\"],[1.0,\"#f0f921\"]],\"type\":\"histogram2dcontour\"}],\"mesh3d\":[{\"colorbar\":{\"outlinewidth\":0,\"ticks\":\"\"},\"type\":\"mesh3d\"}],\"parcoords\":[{\"line\":{\"colorbar\":{\"outlinewidth\":0,\"ticks\":\"\"}},\"type\":\"parcoords\"}],\"pie\":[{\"automargin\":true,\"type\":\"pie\"}],\"scatter\":[{\"marker\":{\"colorbar\":{\"outlinewidth\":0,\"ticks\":\"\"}},\"type\":\"scatter\"}],\"scatter3d\":[{\"line\":{\"colorbar\":{\"outlinewidth\":0,\"ticks\":\"\"}},\"marker\":{\"colorbar\":{\"outlinewidth\":0,\"ticks\":\"\"}},\"type\":\"scatter3d\"}],\"scattercarpet\":[{\"marker\":{\"colorbar\":{\"outlinewidth\":0,\"ticks\":\"\"}},\"type\":\"scattercarpet\"}],\"scattergeo\":[{\"marker\":{\"colorbar\":{\"outlinewidth\":0,\"ticks\":\"\"}},\"type\":\"scattergeo\"}],\"scattergl\":[{\"marker\":{\"colorbar\":{\"outlinewidth\":0,\"ticks\":\"\"}},\"type\":\"scattergl\"}],\"scattermapbox\":[{\"marker\":{\"colorbar\":{\"outlinewidth\":0,\"ticks\":\"\"}},\"type\":\"scattermapbox\"}],\"scatterpolar\":[{\"marker\":{\"colorbar\":{\"outlinewidth\":0,\"ticks\":\"\"}},\"type\":\"scatterpolar\"}],\"scatterpolargl\":[{\"marker\":{\"colorbar\":{\"outlinewidth\":0,\"ticks\":\"\"}},\"type\":\"scatterpolargl\"}],\"scatterternary\":[{\"marker\":{\"colorbar\":{\"outlinewidth\":0,\"ticks\":\"\"}},\"type\":\"scatterternary\"}],\"surface\":[{\"colorbar\":{\"outlinewidth\":0,\"ticks\":\"\"},\"colorscale\":[[0.0,\"#0d0887\"],[0.1111111111111111,\"#46039f\"],[0.2222222222222222,\"#7201a8\"],[0.3333333333333333,\"#9c179e\"],[0.4444444444444444,\"#bd3786\"],[0.5555555555555556,\"#d8576b\"],[0.6666666666666666,\"#ed7953\"],[0.7777777777777778,\"#fb9f3a\"],[0.8888888888888888,\"#fdca26\"],[1.0,\"#f0f921\"]],\"type\":\"surface\"}],\"table\":[{\"cells\":{\"fill\":{\"color\":\"#EBF0F8\"},\"line\":{\"color\":\"white\"}},\"header\":{\"fill\":{\"color\":\"#C8D4E3\"},\"line\":{\"color\":\"white\"}},\"type\":\"table\"}]},\"layout\":{\"annotationdefaults\":{\"arrowcolor\":\"#2a3f5f\",\"arrowhead\":0,\"arrowwidth\":1},\"autotypenumbers\":\"strict\",\"coloraxis\":{\"colorbar\":{\"outlinewidth\":0,\"ticks\":\"\"}},\"colorscale\":{\"diverging\":[[0,\"#8e0152\"],[0.1,\"#c51b7d\"],[0.2,\"#de77ae\"],[0.3,\"#f1b6da\"],[0.4,\"#fde0ef\"],[0.5,\"#f7f7f7\"],[0.6,\"#e6f5d0\"],[0.7,\"#b8e186\"],[0.8,\"#7fbc41\"],[0.9,\"#4d9221\"],[1,\"#276419\"]],\"sequential\":[[0.0,\"#0d0887\"],[0.1111111111111111,\"#46039f\"],[0.2222222222222222,\"#7201a8\"],[0.3333333333333333,\"#9c179e\"],[0.4444444444444444,\"#bd3786\"],[0.5555555555555556,\"#d8576b\"],[0.6666666666666666,\"#ed7953\"],[0.7777777777777778,\"#fb9f3a\"],[0.8888888888888888,\"#fdca26\"],[1.0,\"#f0f921\"]],\"sequentialminus\":[[0.0,\"#0d0887\"],[0.1111111111111111,\"#46039f\"],[0.2222222222222222,\"#7201a8\"],[0.3333333333333333,\"#9c179e\"],[0.4444444444444444,\"#bd3786\"],[0.5555555555555556,\"#d8576b\"],[0.6666666666666666,\"#ed7953\"],[0.7777777777777778,\"#fb9f3a\"],[0.8888888888888888,\"#fdca26\"],[1.0,\"#f0f921\"]]},\"colorway\":[\"#636efa\",\"#EF553B\",\"#00cc96\",\"#ab63fa\",\"#FFA15A\",\"#19d3f3\",\"#FF6692\",\"#B6E880\",\"#FF97FF\",\"#FECB52\"],\"font\":{\"color\":\"#2a3f5f\"},\"geo\":{\"bgcolor\":\"white\",\"lakecolor\":\"white\",\"landcolor\":\"#E5ECF6\",\"showlakes\":true,\"showland\":true,\"subunitcolor\":\"white\"},\"hoverlabel\":{\"align\":\"left\"},\"hovermode\":\"closest\",\"mapbox\":{\"style\":\"light\"},\"paper_bgcolor\":\"white\",\"plot_bgcolor\":\"#E5ECF6\",\"polar\":{\"angularaxis\":{\"gridcolor\":\"white\",\"linecolor\":\"white\",\"ticks\":\"\"},\"bgcolor\":\"#E5ECF6\",\"radialaxis\":{\"gridcolor\":\"white\",\"linecolor\":\"white\",\"ticks\":\"\"}},\"scene\":{\"xaxis\":{\"backgroundcolor\":\"#E5ECF6\",\"gridcolor\":\"white\",\"gridwidth\":2,\"linecolor\":\"white\",\"showbackground\":true,\"ticks\":\"\",\"zerolinecolor\":\"white\"},\"yaxis\":{\"backgroundcolor\":\"#E5ECF6\",\"gridcolor\":\"white\",\"gridwidth\":2,\"linecolor\":\"white\",\"showbackground\":true,\"ticks\":\"\",\"zerolinecolor\":\"white\"},\"zaxis\":{\"backgroundcolor\":\"#E5ECF6\",\"gridcolor\":\"white\",\"gridwidth\":2,\"linecolor\":\"white\",\"showbackground\":true,\"ticks\":\"\",\"zerolinecolor\":\"white\"}},\"shapedefaults\":{\"line\":{\"color\":\"#2a3f5f\"}},\"ternary\":{\"aaxis\":{\"gridcolor\":\"white\",\"linecolor\":\"white\",\"ticks\":\"\"},\"baxis\":{\"gridcolor\":\"white\",\"linecolor\":\"white\",\"ticks\":\"\"},\"bgcolor\":\"#E5ECF6\",\"caxis\":{\"gridcolor\":\"white\",\"linecolor\":\"white\",\"ticks\":\"\"}},\"title\":{\"x\":0.05},\"xaxis\":{\"automargin\":true,\"gridcolor\":\"white\",\"linecolor\":\"white\",\"ticks\":\"\",\"title\":{\"standoff\":15},\"zerolinecolor\":\"white\",\"zerolinewidth\":2},\"yaxis\":{\"automargin\":true,\"gridcolor\":\"white\",\"linecolor\":\"white\",\"ticks\":\"\",\"title\":{\"standoff\":15},\"zerolinecolor\":\"white\",\"zerolinewidth\":2}}}},                        {\"responsive\": true}                    ).then(function(){\n",
              "                            \n",
              "var gd = document.getElementById('29c90804-a23b-4809-a007-88c76e253c8c');\n",
              "var x = new MutationObserver(function (mutations, observer) {{\n",
              "        var display = window.getComputedStyle(gd).display;\n",
              "        if (!display || display === 'none') {{\n",
              "            console.log([gd, 'removed!']);\n",
              "            Plotly.purge(gd);\n",
              "            observer.disconnect();\n",
              "        }}\n",
              "}});\n",
              "\n",
              "// Listen for the removal of the full notebook cells\n",
              "var notebookContainer = gd.closest('#notebook-container');\n",
              "if (notebookContainer) {{\n",
              "    x.observe(notebookContainer, {childList: true});\n",
              "}}\n",
              "\n",
              "// Listen for the clearing of the current output cell\n",
              "var outputEl = gd.closest('.output');\n",
              "if (outputEl) {{\n",
              "    x.observe(outputEl, {childList: true});\n",
              "}}\n",
              "\n",
              "                        })                };                            </script>        </div>\n",
              "</body>\n",
              "</html>"
            ]
          },
          "metadata": {}
        }
      ]
    },
    {
      "cell_type": "code",
      "source": [
        "y_true = 100 + 20 * np.random.randn(1000)\n",
        "y_pred = y_true + 10 * np.random.randn(1000)\n",
        "results = pd.DataFrame({'y_true': y_true, 'y_pred': y_pred})\n",
        "results['error'] = results['y_true'] - results['y_pred']\n",
        "\n",
        "px.histogram(results, x='error', nbins=50, width=800)"
      ],
      "metadata": {
        "colab": {
          "base_uri": "https://localhost:8080/",
          "height": 562
        },
        "id": "R2NMPCTazELS",
        "outputId": "01cba29e-62b9-4a17-a35f-01c9b38bdd79"
      },
      "execution_count": 13,
      "outputs": [
        {
          "output_type": "display_data",
          "data": {
            "text/html": [
              "<html>\n",
              "<head><meta charset=\"utf-8\" /></head>\n",
              "<body>\n",
              "    <div>            <script src=\"https://cdnjs.cloudflare.com/ajax/libs/mathjax/2.7.5/MathJax.js?config=TeX-AMS-MML_SVG\"></script><script type=\"text/javascript\">if (window.MathJax) {MathJax.Hub.Config({SVG: {font: \"STIX-Web\"}});}</script>                <script type=\"text/javascript\">window.PlotlyConfig = {MathJaxConfig: 'local'};</script>\n",
              "        <script src=\"https://cdn.plot.ly/plotly-2.8.3.min.js\"></script>                <div id=\"39a714a0-871c-4816-90fe-e81c2f325058\" class=\"plotly-graph-div\" style=\"height:525px; width:800px;\"></div>            <script type=\"text/javascript\">                                    window.PLOTLYENV=window.PLOTLYENV || {};                                    if (document.getElementById(\"39a714a0-871c-4816-90fe-e81c2f325058\")) {                    Plotly.newPlot(                        \"39a714a0-871c-4816-90fe-e81c2f325058\",                        [{\"alignmentgroup\":\"True\",\"bingroup\":\"x\",\"hovertemplate\":\"error=%{x}<br>count=%{y}<extra></extra>\",\"legendgroup\":\"\",\"marker\":{\"color\":\"#636efa\",\"pattern\":{\"shape\":\"\"}},\"name\":\"\",\"nbinsx\":50,\"offsetgroup\":\"\",\"orientation\":\"v\",\"showlegend\":false,\"x\":[8.182507514250773,-3.9133090658168186,-6.032560135348305,9.789046095594259,1.6508395208472706,-25.30326456700635,10.217568112646944,4.287699379659557,5.237079099227046,-15.10757094963266,14.656170799544924,-0.6558845397529041,2.556525503479051,14.959481869616866,-3.274882382550956,14.545494077860461,-3.1567885052464675,3.2061631187490462,9.98896401972506,-10.378436772516878,1.7038425028903958,8.62056815354316,2.7111710060821252,-13.122030729833881,-7.42101111898026,-2.233264447543121,-15.953423979504976,9.051940196713261,-7.6919340846386035,6.283526848235141,6.696401362415401,-7.040501970326744,-12.379356549669339,1.4950560928515557,-2.3492635773337724,3.0019046624744306,-10.51435510381863,0.8730138162592667,-3.132183286164718,-7.177071466927018,-10.158189084179142,2.9479134006447794,15.901154267053442,-12.770408749517273,19.64852786707651,-4.308375274854853,1.0312963638202888,-1.2591158644118963,9.506263777620134,-0.29970390919100964,-6.968022484942082,-0.5207272721606842,16.309410962812734,5.63348726208703,8.020104825624273,12.67899522044209,-6.393242635197964,-3.231484002240606,-2.3007334271712097,-13.803398416176748,0.0228254948787594,-7.867376937245638,-2.982403348194495,-1.7629099243158066,-8.44994610448353,-7.620975452517115,14.290359661927198,13.809305527904073,4.773718817252572,10.228865856062498,-13.382148101677899,-5.674373184354039,2.135229137036461,-11.46479420559659,1.93393219301457,-8.848582851239428,2.3948510731950137,16.389148135942634,-11.90331191462316,8.996459259888354,5.701278603258096,-4.230724686269554,-15.4917755040277,3.050731503763217,-9.064326008255406,-3.5422760045687767,-2.4871231018554454,-12.734826201762402,-7.238272115807177,-15.581465527129652,8.357269989483711,-7.3891861634267855,0.6354095392048151,-2.7501750875982083,-8.56016104431454,-10.583240832220625,5.038983164465847,-2.4956843353082547,-6.224361147723386,-3.6748591477012553,1.4192994452219807,-19.60075809585085,-7.861505883492526,-5.556173491074446,-3.500086946823643,-11.694717973528142,-7.952421707649307,-8.901989673914883,-16.476107947975834,12.836597153810914,-7.395233932121286,3.6771880208200685,5.831284278539641,-4.022040074491471,5.272473252462575,-2.06950536268522,17.32614827874154,9.079734738151402,-3.8305130976027186,0.7399448642682813,1.7456116466931206,2.241113973661342,4.8872665658895755,4.9620405464771125,8.022847093984382,0.6924345300733705,2.0791586287502355,-1.4298685210629856,8.589093567056267,0.20814781413457695,-0.7850867723710309,6.857686391235102,-17.81799420266846,14.986123236226447,8.162602250308794,-6.9670110721651355,0.990979749124449,-13.98653194571881,-7.459010045118589,2.2049988607723066,-3.1555044636075706,16.855932066567746,3.7343242304116018,2.284968908811436,-6.150795401767738,-3.710050724695961,6.545035709757741,4.905380311079128,-13.443853564619232,-0.549651387510238,-0.5703131003828901,-7.507005742767802,5.168319896914582,-15.014870759207525,-5.291168060187715,6.888968313495084,-2.5556160837919606,-12.7948637005627,-2.2830625637307946,-14.388116628934597,2.6641138664245005,-6.5264537875218736,11.584652358129318,13.798711700073824,-11.84435605571933,6.70942439592082,-4.209129913612287,-2.6404491227228704,-31.879557409884598,-4.498089264471176,10.662799470005673,8.428489807887388,0.9287683406371912,-3.983664777345055,0.2798418407661529,-12.954137220735504,1.2790822624325386,-13.123054280964823,-2.5710811329025915,-13.25832780328389,-12.020935772111073,6.641651081262552,-10.268363345116825,1.471538499969867,27.421540916783826,19.559392886171466,-5.091411045575299,-13.971893672968875,8.479451846959932,9.916450555297104,4.022251682516611,-13.666171904350065,5.484527000245734,-10.618832858953652,-13.235953800749229,25.462077380811294,1.549753962693046,14.662690744460917,-8.69807750003433,-3.3360708593723984,11.530544921966154,-17.585675727148697,6.580800503765261,8.825791978976639,0.3182238230342449,-2.811016550789688,-3.5612446426821833,10.595564258643748,-13.218010297361019,-13.157642729635597,0.1753837548897792,10.363942562239671,19.97752266425148,-12.339164858973135,-3.3019585874934307,-11.70080159410439,11.392646205763,9.703566130878741,-4.409136459342676,-4.394813056746926,-6.34214103571027,-1.194219352127746,4.912221060132822,10.13910759587867,-14.522381790602992,1.9644946227664377,-19.817335365823183,-4.268909242613802,3.660077715149953,15.184478591646595,-11.137300550182289,1.1505944913230053,-2.8910149679392134,4.945490660207696,8.37870599107815,6.341977398799592,-12.585252066641402,-6.543742255773694,6.625340528803406,-5.973525517522958,1.8680412715919488,-2.8462615626429226,28.111507280490017,-0.3755634908797276,3.7590777424839388,4.9020343362703755,-18.191427570170006,-4.400579144381055,11.185520324395966,13.47639385242887,-2.2777114114309285,0.41413067381174073,0.7102303068537026,-19.87235526798503,-7.370192359049469,-1.1621058982410375,-9.100001399225917,15.860147240642192,-4.506115374477787,1.1991010155194886,-6.976207696109967,4.838853569069272,6.658560207226969,1.5030089759635956,-5.303826345442232,11.096723654619836,2.0639712015716896,-1.8831952246326438,-18.09270906958234,-7.779871244200962,-8.565642672401424,-13.53514489887776,-6.166825395111275,-7.879375261469534,5.149603556416224,7.516052166346739,-16.406480470353358,10.14334489235204,-15.20001425063991,15.609854498002761,6.2577840253495935,2.383566252607679,-3.992273076951747,0.010574324387505385,-0.9496734254662442,2.2980178836319425,-6.8909155665173785,-5.986411572374081,-6.845427738555699,6.3523141746337615,-2.4783504809972356,10.644537641049212,3.6398142793586032,6.872561840565979,7.880734354732255,-8.364565751978489,0.04373279169972477,1.332055002320729,-0.5247489083069468,4.781672303672508,6.2983146706577315,9.480560041479947,11.135054771444572,14.981525070869537,-5.865309275859076,-23.874195574829685,0.9062140629153532,-6.885637517102069,-15.102398067984907,14.043964081500434,-1.2141462525017346,19.62094478701175,17.80347952737651,-2.7352844159013614,9.593477583629735,2.758106635298816,6.6258834026805005,-4.924500106626326,3.366400235791602,-6.804050926283949,-6.445528715831884,-12.519738719899436,16.308036656136608,-9.913305368879378,-0.2721277174818084,8.295866630907213,-4.418667893543628,3.3808386290702828,10.6392873019022,-15.399208694990932,-1.8420924146172837,0.7211498366663278,-12.794531737372154,-5.883652576814768,6.220087558599857,1.746992015809525,3.5413865903429667,-5.458235836947523,-9.397390874596255,19.721974542557078,12.583445066952876,8.573230607364508,-3.9057291398318768,-7.699583902511819,2.138259234861863,-5.43438507283571,2.332408831972984,1.6107494258365662,-5.209919873253767,3.2731818931403467,-4.022532016244469,5.087039874091474,18.737578877099082,4.091775152031701,-9.856071496942874,11.991942800577377,-13.079847815466337,-2.3531967872301607,7.375021793257815,1.5933234832954355,-2.3056422109880543,0.7466174845612841,-2.4547326408603993,-15.770086988802106,19.589735000939214,-11.030733253927096,13.110048110937043,-13.012199360749037,2.7296646797091597,0.9814454922951086,-19.53627632266553,22.75493610671893,-3.856763837728508,-9.407337452876007,0.19610934353906373,-2.2714078793708268,5.332382724090266,5.548113076294399,-10.871770932767888,14.781118466812515,3.1119848744463923,-3.176333693594728,15.884188474365118,2.958633688160603,-1.8602608267029268,-10.404559149921553,-0.05205509734811642,-7.201494649034302,-6.426845847913754,-11.459258313769283,-4.117454033633109,18.066926737340765,16.17337175821507,12.947799400668856,1.3286355283549653,0.9255433416279004,20.07378802642397,10.489227317092315,0.20526119358667927,-2.4939462476812366,-12.228962575541416,-16.10716507316802,6.193003804804903,-1.446432033825701,3.113746549877092,3.7830690373506854,-10.472237937023138,12.587492155744798,-10.917004587281355,-8.701221578053094,2.298001272345388,1.9354862249874287,-9.79559586712189,4.488441619142563,-2.307690066251425,16.96225845449319,7.388747998261692,-6.362351760250263,-17.593394236998094,-6.0760944088380455,14.833823830971951,-9.944099428658362,-9.611859022995873,21.160429865664526,-7.630796515111484,4.5507392085371094,-12.224306550270711,2.838789414559031,-2.592003919837339,-8.308954175567976,2.4798864861018757,2.7159038583437365,5.876640641092408,2.1867164109911954,14.378920552737341,-11.662904545527141,10.02064757116544,13.315028130942693,12.399593849398897,4.3009842451973554,-8.669980238161955,3.8633544150996784,-5.826967821423779,21.759889410152596,-6.218561198942581,0.046807381018552974,17.282556085239648,3.67220872687561,4.527168805946715,-13.422733963212693,4.188309814988401,7.567570404887675,-10.974894537988007,-1.671320385155056,-1.8021941740374814,16.979836920397048,15.176384966737814,-4.7718882009929615,-15.088880716695968,3.5204550135602375,-14.877980586320852,6.506066923612721,13.703499101275952,-3.7979926901738565,8.617651079180447,7.246959293663238,5.966651262408234,2.922870608993506,-13.141346429780214,2.428359077739813,-12.544384047009416,-5.114555238955035,-15.773622444837429,7.013826021478025,-10.813234250865534,-19.889065928150004,-0.5729888603021323,-19.614128891794863,-0.3944439833222759,-0.9147569191957956,6.9448702563791755,-7.819430630579419,-2.252529781774868,11.80908472657012,2.4792045803289398,13.193241813507285,-5.121341564970265,-4.12287616167248,-5.420111434419439,-1.92093232859537,-14.647536339231777,-9.844132068115556,13.388520831912928,-6.108807217149263,18.461075985386913,-8.500196398497934,-8.829571099226314,-8.129221888737618,11.937458899211194,-0.4981004257031003,-11.492505795837772,8.32135174360343,-12.369927749135513,-0.7694730113492625,8.846869927413692,-4.5017164830383365,-21.755108359413498,-17.10636927617594,-13.653558600140258,-5.253277962069163,17.421270010277922,4.660679853902181,0.48808828110739455,16.356695296628544,-8.436541709579814,16.946408662902513,-3.5545660859060746,10.696006525777406,-2.443521836911799,5.781369154187516,-11.394233670816703,1.887724773596716,-7.382450563720738,3.285264188807112,-11.95805794553209,-13.990820784703573,-2.2042091759529825,-8.40386953584337,-3.3143437793371078,3.1250104754533794,0.7925150134492327,2.832646607668636,1.362742476134656,-3.3058281569909553,18.309200569646563,13.047387431708756,10.832596148693568,-23.529271206588454,-3.138636417839024,-9.365206516246559,1.6907321603295316,11.98642869691588,1.1126583155792957,4.781908223001224,1.595358966423376,10.49558979315924,-8.452983107686038,8.555683178851524,9.132000451155008,0.31690830890046584,-16.590082739346755,4.3623993919963056,-6.095258931019046,7.6399996934521965,-12.756271311087858,-4.882088184225239,-1.878352235175413,-1.185448869812916,0.2725007791190137,5.718134605552592,-9.062272346540581,5.477405212725671,-7.598911737762947,3.547560105162759,-10.531548912339218,-11.380867033343364,4.121224478722553,-4.0921731166677375,10.899059807678512,6.178451500949919,-3.490294682287086,5.281510856323919,-12.741015064467007,-5.836996185568353,-17.156198395261868,9.330041256303971,8.240764073464106,-3.397261870206094,-10.832808832535918,26.1047479820226,3.9399424900010445,-6.520647435114569,-1.2550203766814718,-6.380995216846799,-27.22583705739855,17.42280383746518,5.881759726641228,7.478588543708298,-9.316446996032042,-16.31063054169269,-5.752874779526536,-10.494907241980698,-4.27524391939474,-6.735109581761648,-8.094866191519287,8.214314588266987,4.955137656754857,2.314511422450906,-9.612473963210235,-6.442735497130116,-7.017717181440844,-6.692119692049388,-2.4984750655249996,3.404437207652194,-3.1715324047302005,-16.119965932260584,-20.610041013492364,-1.199442745370078,2.8030417816410846,-24.0666774703423,-9.749815336230085,5.6992166856343545,-8.724978432069577,-11.608038189856018,5.776763413290212,-24.23122995243544,16.806891590966615,-0.9479077229998154,4.664117215175068,6.562339136222832,7.868941236587943,-4.367223982634869,11.753470963117081,0.1706758429348696,-10.388646431119184,-12.788006605314735,25.782108936360643,8.757493665111575,2.9136495491827077,-3.681910048105536,-17.53613737132565,0.11576469790128385,-27.801888803180532,9.22679646723411,-0.9193595191386237,-12.625582090608418,-4.013608800679123,1.647093179727321,0.35371064605071467,5.605780711942316,-2.4679729708488054,18.518906676232604,-24.887742895030797,8.740524016141435,2.497172508173719,-2.3177248654680085,-6.8507923880308965,-5.585566944553676,-3.9825420336664905,-4.78466667205268,-1.44732489284128,15.31414274984084,19.92707960825902,-3.909969728633513,1.14351059564234,1.3153608941157415,7.647931160949469,-16.793012543414562,1.848310208511748,10.45512581672719,1.2435806226885404,-9.16759649049365,2.40796090363591,-8.729711024379952,-0.2577478576993286,2.8415947549583365,-4.354218552927108,5.7154703160557006,-9.49315562646919,4.789909920457816,8.681715485702284,-1.9730132973962213,1.0585349185979283,13.694688054731984,2.977356174629307,-14.288119785210355,-3.3722384256811964,7.662336896927172,-23.308394764976512,-12.783086104008007,-7.585311209356206,-4.230983250992054,-0.30360322561095643,-2.5153259511808557,-8.529299279136922,-7.483430449508489,0.3076486770408735,-5.696271401778901,7.189297646341984,9.975951812394243,11.179082545773895,-4.341676433067889,1.2627379949364297,8.492369830203074,19.313366460534894,-16.102373384802334,-4.659633380900317,-5.337379968558167,9.05968646868699,3.421430658451243,2.8516353606781166,-14.442371588752906,7.929302053257274,3.897689370404791,2.9226620766291234,17.12027794353591,-10.76886606495728,-3.055428060301395,-2.6798521535297084,-3.782771520465431,5.864183171862962,15.021508738493452,-4.406467360195563,-11.140619963679214,1.036715678816357,6.681477483559519,12.544651321794326,0.2653786940670386,4.642165308807947,-1.473463112872281,9.40148701704048,-6.454064094873047,-2.353664915276795,-3.352919161282557,-7.750355921479553,-9.683387056636718,-7.5743411409889205,-7.291205616478081,-22.595627312629347,-10.134931909524227,1.6163690178153018,-3.587195742366376,-3.859056148857192,4.649949162437778,6.304030622222086,10.734624169910859,-15.751605060843758,-1.4607459277949317,-2.895951511327837,-6.961028543417072,-0.5506269405174038,-1.3119252576526321,10.90168098214589,6.635465150589411,26.63711059778707,-1.2259954999364737,1.9324177821090132,-14.248497007200484,-7.07833076043174,4.377257059894006,2.917284902958599,-7.583704645161902,-14.032815283861524,6.236066056061688,13.870069231544946,2.785898188801937,-1.0626224687556487,12.661476694229648,-8.515288265131247,-3.5471055765329567,1.3437198249015267,-7.3956390334194,8.184135147076887,10.592349726948697,22.28725270614089,9.831865000354284,1.4367246943691043,-6.582506637855332,-4.400958838593127,8.112184855979706,-6.929566109907043,-0.388669755151156,7.581344840564839,-2.0694596053114793,-3.3201856593744026,-19.652095287121043,-6.125411281084297,19.756096731976342,6.263478334033763,11.79369035705514,24.9334352864644,-14.14238463814658,-2.3341274885815153,-0.8852492967773173,-4.703713519102905,1.0447588765734395,3.2935444308410524,10.107330427185602,2.988483901058771,-19.16388077102917,-12.924521784971375,13.409352380605895,-2.980661753527656,-8.110260465860563,1.3487850808107424,0.004825540926304939,2.6345944538042545,-0.5837602227202154,-16.664450408553748,-4.9920121161173086,5.106250428259003,-6.001710297537954,3.4846736087572623,7.1851451367716095,-2.219704147494781,-0.09294926039528661,2.703158504901154,-9.210271999720902,0.6550439171167284,-3.478980754044244,4.062947389039948,-11.14630689988033,0.409647899164014,-12.196389846772789,1.6121477474294892,-7.641214852586415,-1.116709459200365,-16.197538206256525,6.186681027897535,-8.853637252292188,2.8837480169940193,-2.3056729108078997,-2.738317562493151,-15.194439438088367,1.3563652860928173,-15.581613502558383,13.872445066426152,-8.105849913639744,1.163024988936158,14.237034443064246,4.325612670464821,-1.5865337996955589,-8.846593118543524,15.87934027432918,-9.789417540662967,13.50628097378214,3.127250410527978,-7.186619839337737,-9.054127720797368,-2.896268572415451,4.826057991898068,7.971276106205337,-13.002624597573742,14.172776392343067,-1.4931713835502194,3.5204738898863326,6.5182096729689505,-11.139472217076005,8.281650489140617,-2.1240372796160045,18.490225769284606,-14.470500831853101,1.172650149532842,7.839140418706251,8.176404600666501,-1.405444247413655,-3.685840572568324,0.0763889047893116,10.26417789613005,6.831069541893086,-11.28402825102124,-10.733005852351013,13.41974692990479,0.8758277609361187,22.567808435727457,-21.166962487079857,-7.205091225003926,-4.164361371258451,-6.225870683649092,-16.133681741302865,5.4459715899451595,1.709145164637107,-6.965359022682819,-4.2567002440923005,-8.018125888277098,-2.7416205991321476,7.790761026010145,-16.480838198786635,17.07683540923739,11.833521373295355,-8.308582508794032,-10.575772078986134,9.18741457169034,2.3354428447748177,-0.7478058678170214,1.145624512833919,7.493966416631935,-1.6957243050770927,-1.9472286113508517,-6.19852597830355,-5.588947975507637,0.0343094858019839,16.024023357998416,-21.60162327594783,10.44626223156557,-9.12549377741945,-3.6001282630617055,11.04882656929719,-4.3476824677158845,-5.261431857163288,-0.07772495288905645,3.673186418878089,-4.326299228316799,-1.6041275286253551,-6.02380992594361,-8.49189767374304,-20.269283426333715,9.472952492323046,-0.86169164706223,-19.705970086602747,6.963618448332724,15.748947406047549,-6.584103654471335,-10.610893755215187,4.717563034683195,-20.47632231211469,-8.67431595190935,15.817207289471398,4.213686638660398,8.865111793481745,-5.3469673193097265,13.575735867609126,-6.326058313975551,-5.597589162204372,9.339665962273159,-6.996325367807486,0.15073559381220036,-10.615953575466861,-18.559720180039193,-8.104093201228423,-3.6541010512546848,6.298536007994471,11.44722233867293,-13.420143983251407,-11.487886376909529,-0.7999212441642669,-4.185494694183035,8.197214313235776,0.726610505308031,-9.32690128473567,0.8838829323429849,-9.60082011121402,22.244376085821557,15.953918691573136,4.571292648584617,2.6311824619550066,-19.82821450812088,9.012855578295387,-20.122070651606364,-10.663630371563642,3.900921360595504,2.3707039563999786,16.895175949317675,-26.093148263648374,3.0029291695866362,7.599687470497599,4.342041161414684,-8.6135754864938,-7.486402813154257,8.943318413930754,-16.502483725505186,-10.9916157503868,-1.619002712858972,10.724866818881765,-0.3421289281837261,11.501373715139266,0.35401142654524165,-13.869762071619874,12.709748918735556,22.13738280715333,15.315116571751531,4.5972323772773365,-5.6591407210832045,9.17771191973111,-12.284493694766724,-1.664201119587048,-17.01913285906889,-15.970180424680365,8.605739476861274,10.764183321838814,-16.079044797866317,-8.409542206289416,-7.608866627674729,-8.116286433034404,30.224199638516637,-15.43202872974426,-6.409279421271485,-3.525112113798073,9.321071006932343,0.8261152197256223,-7.6841707571269495,-9.692395213401781,-17.65912156068856,4.969035266187788,2.1872020455525103,2.9140011692983734,-6.292385498023123,5.302330459963102,-1.6517451348312164,3.289551708205593],\"xaxis\":\"x\",\"yaxis\":\"y\",\"type\":\"histogram\"}],                        {\"template\":{\"data\":{\"bar\":[{\"error_x\":{\"color\":\"#2a3f5f\"},\"error_y\":{\"color\":\"#2a3f5f\"},\"marker\":{\"line\":{\"color\":\"#E5ECF6\",\"width\":0.5},\"pattern\":{\"fillmode\":\"overlay\",\"size\":10,\"solidity\":0.2}},\"type\":\"bar\"}],\"barpolar\":[{\"marker\":{\"line\":{\"color\":\"#E5ECF6\",\"width\":0.5},\"pattern\":{\"fillmode\":\"overlay\",\"size\":10,\"solidity\":0.2}},\"type\":\"barpolar\"}],\"carpet\":[{\"aaxis\":{\"endlinecolor\":\"#2a3f5f\",\"gridcolor\":\"white\",\"linecolor\":\"white\",\"minorgridcolor\":\"white\",\"startlinecolor\":\"#2a3f5f\"},\"baxis\":{\"endlinecolor\":\"#2a3f5f\",\"gridcolor\":\"white\",\"linecolor\":\"white\",\"minorgridcolor\":\"white\",\"startlinecolor\":\"#2a3f5f\"},\"type\":\"carpet\"}],\"choropleth\":[{\"colorbar\":{\"outlinewidth\":0,\"ticks\":\"\"},\"type\":\"choropleth\"}],\"contour\":[{\"colorbar\":{\"outlinewidth\":0,\"ticks\":\"\"},\"colorscale\":[[0.0,\"#0d0887\"],[0.1111111111111111,\"#46039f\"],[0.2222222222222222,\"#7201a8\"],[0.3333333333333333,\"#9c179e\"],[0.4444444444444444,\"#bd3786\"],[0.5555555555555556,\"#d8576b\"],[0.6666666666666666,\"#ed7953\"],[0.7777777777777778,\"#fb9f3a\"],[0.8888888888888888,\"#fdca26\"],[1.0,\"#f0f921\"]],\"type\":\"contour\"}],\"contourcarpet\":[{\"colorbar\":{\"outlinewidth\":0,\"ticks\":\"\"},\"type\":\"contourcarpet\"}],\"heatmap\":[{\"colorbar\":{\"outlinewidth\":0,\"ticks\":\"\"},\"colorscale\":[[0.0,\"#0d0887\"],[0.1111111111111111,\"#46039f\"],[0.2222222222222222,\"#7201a8\"],[0.3333333333333333,\"#9c179e\"],[0.4444444444444444,\"#bd3786\"],[0.5555555555555556,\"#d8576b\"],[0.6666666666666666,\"#ed7953\"],[0.7777777777777778,\"#fb9f3a\"],[0.8888888888888888,\"#fdca26\"],[1.0,\"#f0f921\"]],\"type\":\"heatmap\"}],\"heatmapgl\":[{\"colorbar\":{\"outlinewidth\":0,\"ticks\":\"\"},\"colorscale\":[[0.0,\"#0d0887\"],[0.1111111111111111,\"#46039f\"],[0.2222222222222222,\"#7201a8\"],[0.3333333333333333,\"#9c179e\"],[0.4444444444444444,\"#bd3786\"],[0.5555555555555556,\"#d8576b\"],[0.6666666666666666,\"#ed7953\"],[0.7777777777777778,\"#fb9f3a\"],[0.8888888888888888,\"#fdca26\"],[1.0,\"#f0f921\"]],\"type\":\"heatmapgl\"}],\"histogram\":[{\"marker\":{\"pattern\":{\"fillmode\":\"overlay\",\"size\":10,\"solidity\":0.2}},\"type\":\"histogram\"}],\"histogram2d\":[{\"colorbar\":{\"outlinewidth\":0,\"ticks\":\"\"},\"colorscale\":[[0.0,\"#0d0887\"],[0.1111111111111111,\"#46039f\"],[0.2222222222222222,\"#7201a8\"],[0.3333333333333333,\"#9c179e\"],[0.4444444444444444,\"#bd3786\"],[0.5555555555555556,\"#d8576b\"],[0.6666666666666666,\"#ed7953\"],[0.7777777777777778,\"#fb9f3a\"],[0.8888888888888888,\"#fdca26\"],[1.0,\"#f0f921\"]],\"type\":\"histogram2d\"}],\"histogram2dcontour\":[{\"colorbar\":{\"outlinewidth\":0,\"ticks\":\"\"},\"colorscale\":[[0.0,\"#0d0887\"],[0.1111111111111111,\"#46039f\"],[0.2222222222222222,\"#7201a8\"],[0.3333333333333333,\"#9c179e\"],[0.4444444444444444,\"#bd3786\"],[0.5555555555555556,\"#d8576b\"],[0.6666666666666666,\"#ed7953\"],[0.7777777777777778,\"#fb9f3a\"],[0.8888888888888888,\"#fdca26\"],[1.0,\"#f0f921\"]],\"type\":\"histogram2dcontour\"}],\"mesh3d\":[{\"colorbar\":{\"outlinewidth\":0,\"ticks\":\"\"},\"type\":\"mesh3d\"}],\"parcoords\":[{\"line\":{\"colorbar\":{\"outlinewidth\":0,\"ticks\":\"\"}},\"type\":\"parcoords\"}],\"pie\":[{\"automargin\":true,\"type\":\"pie\"}],\"scatter\":[{\"marker\":{\"colorbar\":{\"outlinewidth\":0,\"ticks\":\"\"}},\"type\":\"scatter\"}],\"scatter3d\":[{\"line\":{\"colorbar\":{\"outlinewidth\":0,\"ticks\":\"\"}},\"marker\":{\"colorbar\":{\"outlinewidth\":0,\"ticks\":\"\"}},\"type\":\"scatter3d\"}],\"scattercarpet\":[{\"marker\":{\"colorbar\":{\"outlinewidth\":0,\"ticks\":\"\"}},\"type\":\"scattercarpet\"}],\"scattergeo\":[{\"marker\":{\"colorbar\":{\"outlinewidth\":0,\"ticks\":\"\"}},\"type\":\"scattergeo\"}],\"scattergl\":[{\"marker\":{\"colorbar\":{\"outlinewidth\":0,\"ticks\":\"\"}},\"type\":\"scattergl\"}],\"scattermapbox\":[{\"marker\":{\"colorbar\":{\"outlinewidth\":0,\"ticks\":\"\"}},\"type\":\"scattermapbox\"}],\"scatterpolar\":[{\"marker\":{\"colorbar\":{\"outlinewidth\":0,\"ticks\":\"\"}},\"type\":\"scatterpolar\"}],\"scatterpolargl\":[{\"marker\":{\"colorbar\":{\"outlinewidth\":0,\"ticks\":\"\"}},\"type\":\"scatterpolargl\"}],\"scatterternary\":[{\"marker\":{\"colorbar\":{\"outlinewidth\":0,\"ticks\":\"\"}},\"type\":\"scatterternary\"}],\"surface\":[{\"colorbar\":{\"outlinewidth\":0,\"ticks\":\"\"},\"colorscale\":[[0.0,\"#0d0887\"],[0.1111111111111111,\"#46039f\"],[0.2222222222222222,\"#7201a8\"],[0.3333333333333333,\"#9c179e\"],[0.4444444444444444,\"#bd3786\"],[0.5555555555555556,\"#d8576b\"],[0.6666666666666666,\"#ed7953\"],[0.7777777777777778,\"#fb9f3a\"],[0.8888888888888888,\"#fdca26\"],[1.0,\"#f0f921\"]],\"type\":\"surface\"}],\"table\":[{\"cells\":{\"fill\":{\"color\":\"#EBF0F8\"},\"line\":{\"color\":\"white\"}},\"header\":{\"fill\":{\"color\":\"#C8D4E3\"},\"line\":{\"color\":\"white\"}},\"type\":\"table\"}]},\"layout\":{\"annotationdefaults\":{\"arrowcolor\":\"#2a3f5f\",\"arrowhead\":0,\"arrowwidth\":1},\"autotypenumbers\":\"strict\",\"coloraxis\":{\"colorbar\":{\"outlinewidth\":0,\"ticks\":\"\"}},\"colorscale\":{\"diverging\":[[0,\"#8e0152\"],[0.1,\"#c51b7d\"],[0.2,\"#de77ae\"],[0.3,\"#f1b6da\"],[0.4,\"#fde0ef\"],[0.5,\"#f7f7f7\"],[0.6,\"#e6f5d0\"],[0.7,\"#b8e186\"],[0.8,\"#7fbc41\"],[0.9,\"#4d9221\"],[1,\"#276419\"]],\"sequential\":[[0.0,\"#0d0887\"],[0.1111111111111111,\"#46039f\"],[0.2222222222222222,\"#7201a8\"],[0.3333333333333333,\"#9c179e\"],[0.4444444444444444,\"#bd3786\"],[0.5555555555555556,\"#d8576b\"],[0.6666666666666666,\"#ed7953\"],[0.7777777777777778,\"#fb9f3a\"],[0.8888888888888888,\"#fdca26\"],[1.0,\"#f0f921\"]],\"sequentialminus\":[[0.0,\"#0d0887\"],[0.1111111111111111,\"#46039f\"],[0.2222222222222222,\"#7201a8\"],[0.3333333333333333,\"#9c179e\"],[0.4444444444444444,\"#bd3786\"],[0.5555555555555556,\"#d8576b\"],[0.6666666666666666,\"#ed7953\"],[0.7777777777777778,\"#fb9f3a\"],[0.8888888888888888,\"#fdca26\"],[1.0,\"#f0f921\"]]},\"colorway\":[\"#636efa\",\"#EF553B\",\"#00cc96\",\"#ab63fa\",\"#FFA15A\",\"#19d3f3\",\"#FF6692\",\"#B6E880\",\"#FF97FF\",\"#FECB52\"],\"font\":{\"color\":\"#2a3f5f\"},\"geo\":{\"bgcolor\":\"white\",\"lakecolor\":\"white\",\"landcolor\":\"#E5ECF6\",\"showlakes\":true,\"showland\":true,\"subunitcolor\":\"white\"},\"hoverlabel\":{\"align\":\"left\"},\"hovermode\":\"closest\",\"mapbox\":{\"style\":\"light\"},\"paper_bgcolor\":\"white\",\"plot_bgcolor\":\"#E5ECF6\",\"polar\":{\"angularaxis\":{\"gridcolor\":\"white\",\"linecolor\":\"white\",\"ticks\":\"\"},\"bgcolor\":\"#E5ECF6\",\"radialaxis\":{\"gridcolor\":\"white\",\"linecolor\":\"white\",\"ticks\":\"\"}},\"scene\":{\"xaxis\":{\"backgroundcolor\":\"#E5ECF6\",\"gridcolor\":\"white\",\"gridwidth\":2,\"linecolor\":\"white\",\"showbackground\":true,\"ticks\":\"\",\"zerolinecolor\":\"white\"},\"yaxis\":{\"backgroundcolor\":\"#E5ECF6\",\"gridcolor\":\"white\",\"gridwidth\":2,\"linecolor\":\"white\",\"showbackground\":true,\"ticks\":\"\",\"zerolinecolor\":\"white\"},\"zaxis\":{\"backgroundcolor\":\"#E5ECF6\",\"gridcolor\":\"white\",\"gridwidth\":2,\"linecolor\":\"white\",\"showbackground\":true,\"ticks\":\"\",\"zerolinecolor\":\"white\"}},\"shapedefaults\":{\"line\":{\"color\":\"#2a3f5f\"}},\"ternary\":{\"aaxis\":{\"gridcolor\":\"white\",\"linecolor\":\"white\",\"ticks\":\"\"},\"baxis\":{\"gridcolor\":\"white\",\"linecolor\":\"white\",\"ticks\":\"\"},\"bgcolor\":\"#E5ECF6\",\"caxis\":{\"gridcolor\":\"white\",\"linecolor\":\"white\",\"ticks\":\"\"}},\"title\":{\"x\":0.05},\"xaxis\":{\"automargin\":true,\"gridcolor\":\"white\",\"linecolor\":\"white\",\"ticks\":\"\",\"title\":{\"standoff\":15},\"zerolinecolor\":\"white\",\"zerolinewidth\":2},\"yaxis\":{\"automargin\":true,\"gridcolor\":\"white\",\"linecolor\":\"white\",\"ticks\":\"\",\"title\":{\"standoff\":15},\"zerolinecolor\":\"white\",\"zerolinewidth\":2}}},\"xaxis\":{\"anchor\":\"y\",\"domain\":[0.0,1.0],\"title\":{\"text\":\"error\"}},\"yaxis\":{\"anchor\":\"x\",\"domain\":[0.0,1.0],\"title\":{\"text\":\"count\"}},\"legend\":{\"tracegroupgap\":0},\"margin\":{\"t\":60},\"barmode\":\"relative\",\"width\":800},                        {\"responsive\": true}                    ).then(function(){\n",
              "                            \n",
              "var gd = document.getElementById('39a714a0-871c-4816-90fe-e81c2f325058');\n",
              "var x = new MutationObserver(function (mutations, observer) {{\n",
              "        var display = window.getComputedStyle(gd).display;\n",
              "        if (!display || display === 'none') {{\n",
              "            console.log([gd, 'removed!']);\n",
              "            Plotly.purge(gd);\n",
              "            observer.disconnect();\n",
              "        }}\n",
              "}});\n",
              "\n",
              "// Listen for the removal of the full notebook cells\n",
              "var notebookContainer = gd.closest('#notebook-container');\n",
              "if (notebookContainer) {{\n",
              "    x.observe(notebookContainer, {childList: true});\n",
              "}}\n",
              "\n",
              "// Listen for the clearing of the current output cell\n",
              "var outputEl = gd.closest('.output');\n",
              "if (outputEl) {{\n",
              "    x.observe(outputEl, {childList: true});\n",
              "}}\n",
              "\n",
              "                        })                };                            </script>        </div>\n",
              "</body>\n",
              "</html>"
            ]
          },
          "metadata": {}
        }
      ]
    },
    {
      "cell_type": "markdown",
      "source": [
        "Średni błąd bezwzględny"
      ],
      "metadata": {
        "id": "vOfMcwlg5NlK"
      }
    },
    {
      "cell_type": "code",
      "source": [
        "def mean_absolute_error(y_true, y_pred):\n",
        "    return abs(y_true - y_pred).sum() / len(y_true)\n",
        "\n",
        "mean_absolute_error(y_true, y_pred)"
      ],
      "metadata": {
        "colab": {
          "base_uri": "https://localhost:8080/"
        },
        "id": "aFZyviwf5MNX",
        "outputId": "fd573bb9-78b7-4bc0-d994-85a14a2af27f"
      },
      "execution_count": 14,
      "outputs": [
        {
          "output_type": "execute_result",
          "data": {
            "text/plain": [
              "7.8679318884801805"
            ]
          },
          "metadata": {},
          "execution_count": 14
        }
      ]
    },
    {
      "cell_type": "code",
      "source": [
        "from sklearn.metrics import mean_absolute_error\n",
        "mean_absolute_error(y_true, y_pred)"
      ],
      "metadata": {
        "colab": {
          "base_uri": "https://localhost:8080/"
        },
        "id": "QB1bBhjM5i4V",
        "outputId": "cdb02816-8916-4cdd-87c3-b0c61f4977fd"
      },
      "execution_count": 15,
      "outputs": [
        {
          "output_type": "execute_result",
          "data": {
            "text/plain": [
              "7.8679318884801805"
            ]
          },
          "metadata": {},
          "execution_count": 15
        }
      ]
    },
    {
      "cell_type": "markdown",
      "source": [
        "Błąd średniokwadratowy"
      ],
      "metadata": {
        "id": "48p17QtO5eDO"
      }
    },
    {
      "cell_type": "code",
      "source": [
        "def mean_squared_error(y_true, y_pred):\n",
        "    return ((y_true - y_pred) ** 2).sum() / len(y_true)\n",
        "\n",
        "mean_squared_error(y_true, y_pred)"
      ],
      "metadata": {
        "colab": {
          "base_uri": "https://localhost:8080/"
        },
        "id": "RH575YZi5MJa",
        "outputId": "b481b6f4-3502-47c8-adda-f479f4a0096b"
      },
      "execution_count": 16,
      "outputs": [
        {
          "output_type": "execute_result",
          "data": {
            "text/plain": [
              "96.40429105133371"
            ]
          },
          "metadata": {},
          "execution_count": 16
        }
      ]
    },
    {
      "cell_type": "code",
      "source": [
        "from sklearn.metrics import mean_squared_error\n",
        "\n",
        "mean_squared_error(y_true, y_pred)"
      ],
      "metadata": {
        "colab": {
          "base_uri": "https://localhost:8080/"
        },
        "id": "h34AFkT_5MGU",
        "outputId": "86ce233a-3837-4fd7-de31-9eec86380035"
      },
      "execution_count": 17,
      "outputs": [
        {
          "output_type": "execute_result",
          "data": {
            "text/plain": [
              "96.40429105133371"
            ]
          },
          "metadata": {},
          "execution_count": 17
        }
      ]
    },
    {
      "cell_type": "markdown",
      "source": [
        "Pierwiastek błędu średniokwadratowego"
      ],
      "metadata": {
        "id": "MK88d3uk5qVt"
      }
    },
    {
      "cell_type": "code",
      "source": [
        "def root_mean_squared_error(y_true, y_pred):\n",
        "    return np.sqrt(((y_true - y_pred) ** 2).sum() / len(y_true))\n",
        "\n",
        "root_mean_squared_error(y_true, y_pred)"
      ],
      "metadata": {
        "colab": {
          "base_uri": "https://localhost:8080/"
        },
        "id": "a7WHxpxA5MDb",
        "outputId": "c2a0656c-302a-4573-ca3c-25353f7a70c3"
      },
      "execution_count": 18,
      "outputs": [
        {
          "output_type": "execute_result",
          "data": {
            "text/plain": [
              "9.818568686490599"
            ]
          },
          "metadata": {},
          "execution_count": 18
        }
      ]
    },
    {
      "cell_type": "code",
      "source": [
        "np.sqrt(mean_squared_error(y_true, y_pred))"
      ],
      "metadata": {
        "colab": {
          "base_uri": "https://localhost:8080/"
        },
        "id": "_YwLm2S35riv",
        "outputId": "4fab7b0e-aeed-488e-b658-08ac60785e05"
      },
      "execution_count": 19,
      "outputs": [
        {
          "output_type": "execute_result",
          "data": {
            "text/plain": [
              "9.818568686490599"
            ]
          },
          "metadata": {},
          "execution_count": 19
        }
      ]
    },
    {
      "cell_type": "markdown",
      "source": [
        "Błąd maksymalny"
      ],
      "metadata": {
        "id": "Qdsv8JSV9QXz"
      }
    },
    {
      "cell_type": "code",
      "source": [
        "def max_error(y_true, y_pred):\n",
        "    return abs(y_true - y_pred).max()"
      ],
      "metadata": {
        "id": "aLHSiqtP5rdo"
      },
      "execution_count": 20,
      "outputs": []
    },
    {
      "cell_type": "code",
      "source": [
        "max_error(y_true, y_pred)"
      ],
      "metadata": {
        "colab": {
          "base_uri": "https://localhost:8080/"
        },
        "id": "nYpJXwuS5rYv",
        "outputId": "fa09c4cc-1bc8-4b88-f945-5fc7387c325a"
      },
      "execution_count": 21,
      "outputs": [
        {
          "output_type": "execute_result",
          "data": {
            "text/plain": [
              "31.879557409884598"
            ]
          },
          "metadata": {},
          "execution_count": 21
        }
      ]
    },
    {
      "cell_type": "markdown",
      "source": [
        "Współcyznnik determinacji"
      ],
      "metadata": {
        "id": "8_MAy6qk9XoU"
      }
    },
    {
      "cell_type": "code",
      "source": [
        "from sklearn.metrics import r2_score\n",
        "\n",
        "r2_score(y_true, y_pred)"
      ],
      "metadata": {
        "colab": {
          "base_uri": "https://localhost:8080/"
        },
        "id": "EMEapiU45rVx",
        "outputId": "0ed5f151-5804-417a-8ff0-6660eab26bac"
      },
      "execution_count": 22,
      "outputs": [
        {
          "output_type": "execute_result",
          "data": {
            "text/plain": [
              "0.7611878871604747"
            ]
          },
          "metadata": {},
          "execution_count": 22
        }
      ]
    },
    {
      "cell_type": "code",
      "source": [
        "def r2_score(y_true, y_pred):\n",
        "    numerator = ((y_true - y_pred) ** 2).sum()\n",
        "    denominator = ((y_true - y_true.mean()) ** 2).sum()\n",
        "    try:\n",
        "        r2 = 1 - numerator / denominator\n",
        "    except ZeroDivisionError:\n",
        "        print('Dzielenie przez zero')\n",
        "    return r2"
      ],
      "metadata": {
        "id": "QDui-sl25rSX"
      },
      "execution_count": 23,
      "outputs": []
    },
    {
      "cell_type": "code",
      "source": [
        "r2_score(y_true, y_pred)"
      ],
      "metadata": {
        "colab": {
          "base_uri": "https://localhost:8080/"
        },
        "id": "dFwTO0_R5rOu",
        "outputId": "d2c63f87-8cea-4f67-efe0-b3176b6c7ec5"
      },
      "execution_count": 24,
      "outputs": [
        {
          "output_type": "execute_result",
          "data": {
            "text/plain": [
              "0.7611878871604747"
            ]
          },
          "metadata": {},
          "execution_count": 24
        }
      ]
    },
    {
      "cell_type": "code",
      "source": [],
      "metadata": {
        "id": "M426oT_G5Ks_"
      },
      "execution_count": null,
      "outputs": []
    },
    {
      "cell_type": "markdown",
      "source": [],
      "metadata": {
        "id": "4P6Le3dI5Kgx"
      }
    },
    {
      "cell_type": "markdown",
      "source": [],
      "metadata": {
        "id": "T7Ens_oI5KZN"
      }
    }
  ]
}