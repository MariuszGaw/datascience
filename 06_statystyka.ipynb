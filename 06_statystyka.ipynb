{
  "nbformat": 4,
  "nbformat_minor": 0,
  "metadata": {
    "colab": {
      "provenance": [],
      "authorship_tag": "ABX9TyNc3tqkpmHqZsN/gxjAQ2Lt",
      "include_colab_link": true
    },
    "kernelspec": {
      "name": "python3",
      "display_name": "Python 3"
    },
    "language_info": {
      "name": "python"
    }
  },
  "cells": [
    {
      "cell_type": "markdown",
      "metadata": {
        "id": "view-in-github",
        "colab_type": "text"
      },
      "source": [
        "<a href=\"https://colab.research.google.com/github/MariuszGaw/datascience/blob/main/06_statystyka.ipynb\" target=\"_parent\"><img src=\"https://colab.research.google.com/assets/colab-badge.svg\" alt=\"Open In Colab\"/></a>"
      ]
    },
    {
      "cell_type": "code",
      "execution_count": 9,
      "metadata": {
        "id": "SIcrZXTXqPHk"
      },
      "outputs": [],
      "source": [
        "import numpy as np\n",
        "import pandas as pd"
      ]
    },
    {
      "cell_type": "markdown",
      "source": [
        "dany dyskretne, dane ciągłe"
      ],
      "metadata": {
        "id": "KejAK2eXq-vB"
      }
    },
    {
      "cell_type": "markdown",
      "source": [
        "średnia"
      ],
      "metadata": {
        "id": "6vkh9Tx0rhp0"
      }
    },
    {
      "cell_type": "code",
      "source": [
        "X = np.array([3,4.5,5,4.5,3])\n",
        "X.mean()"
      ],
      "metadata": {
        "colab": {
          "base_uri": "https://localhost:8080/"
        },
        "id": "sSlcrW0cqZd7",
        "outputId": "d93d9347-7c51-49ca-b156-328872c202ce"
      },
      "execution_count": 5,
      "outputs": [
        {
          "output_type": "execute_result",
          "data": {
            "text/plain": [
              "4.0"
            ]
          },
          "metadata": {},
          "execution_count": 5
        }
      ]
    },
    {
      "cell_type": "markdown",
      "source": [
        "mediana"
      ],
      "metadata": {
        "id": "eUB7GgXLrlQR"
      }
    },
    {
      "cell_type": "code",
      "source": [
        "np.median(X)"
      ],
      "metadata": {
        "colab": {
          "base_uri": "https://localhost:8080/"
        },
        "id": "5xLFQ_KPrfup",
        "outputId": "acc170f1-c960-4aad-d7f3-f47c43d7e2ee"
      },
      "execution_count": 6,
      "outputs": [
        {
          "output_type": "execute_result",
          "data": {
            "text/plain": [
              "4.5"
            ]
          },
          "metadata": {},
          "execution_count": 6
        }
      ]
    },
    {
      "cell_type": "markdown",
      "source": [
        "moda, dominanta najczęściej występująca wartość"
      ],
      "metadata": {
        "id": "dforWITPr3rk"
      }
    },
    {
      "cell_type": "markdown",
      "source": [
        "Statystyka opisowa - miary rozrzutu\n",
        "średni błąd"
      ],
      "metadata": {
        "id": "ih03o07wANb3"
      }
    },
    {
      "cell_type": "code",
      "source": [
        "\n",
        "X = [3.5, 4.0, 4.0]\n",
        "Y = [2.0, 4.0, 5.0]\n",
        "\n",
        "X_mean = np.mean(X)\n",
        "Y_mean = np.mean(Y)\n",
        "\n",
        "print(X_mean)\n",
        "print(Y_mean)\n",
        "\n",
        "print(f'X_mean: {X_mean:.2f}')\n",
        "print(f'Y_mean: {Y_mean:.2f}')"
      ],
      "metadata": {
        "colab": {
          "base_uri": "https://localhost:8080/"
        },
        "id": "W8dmfAdKryCa",
        "outputId": "49397950-3abf-4b2e-aacd-9367f6dee8bc"
      },
      "execution_count": 6,
      "outputs": [
        {
          "output_type": "stream",
          "name": "stdout",
          "text": [
            "3.8333333333333335\n",
            "3.6666666666666665\n",
            "X_mean: 3.83\n",
            "Y_mean: 3.67\n"
          ]
        }
      ]
    },
    {
      "cell_type": "code",
      "source": [
        "b_X = 1/len(X) * (abs(X-X_mean).sum())\n",
        "b_Y = 1/len(Y) * (abs(Y-Y_mean).sum())\n",
        "\n",
        "print(b_X)\n",
        "print(b_Y)"
      ],
      "metadata": {
        "colab": {
          "base_uri": "https://localhost:8080/"
        },
        "id": "vOvuw8lMABj8",
        "outputId": "f8d5d390-8820-4266-e2f1-fb0a6c29fe01"
      },
      "execution_count": 7,
      "outputs": [
        {
          "output_type": "stream",
          "name": "stdout",
          "text": [
            "0.22222222222222215\n",
            "1.1111111111111112\n"
          ]
        }
      ]
    },
    {
      "cell_type": "code",
      "source": [
        "var_X = 1/len(X) * ((X - X_mean)**2).sum()\n",
        "var_Y = 1/len(Y) * ((Y - Y_mean)**2).sum()\n",
        "\n",
        "print('Wariancja zmiennej X:',var_X)\n",
        "print('Wariancja zmiennej Y:',var_Y)\n",
        "\n",
        "print('Odchylenie standardowe zmiennej X:', np.sqrt(var_X))\n",
        "print('Odchylenie standardowe zmiennej Y:', np.sqrt(var_Y))"
      ],
      "metadata": {
        "colab": {
          "base_uri": "https://localhost:8080/"
        },
        "id": "IhGnRSeDAtWn",
        "outputId": "5f46f80c-299b-477c-aef1-c38ab882d4d7"
      },
      "execution_count": 13,
      "outputs": [
        {
          "output_type": "stream",
          "name": "stdout",
          "text": [
            "Wariancja zmiennej X: 0.05555555555555556\n",
            "Wariancja zmiennej Y: 1.5555555555555554\n",
            "Odchylenie standardowe zmiennej X: 0.23570226039551584\n",
            "Odchylenie standardowe zmiennej Y: 1.247219128924647\n"
          ]
        }
      ]
    },
    {
      "cell_type": "code",
      "source": [
        "print(np.std(X))\n",
        "print(np.std(Y))"
      ],
      "metadata": {
        "colab": {
          "base_uri": "https://localhost:8080/"
        },
        "id": "-he5hlpSHIEW",
        "outputId": "d8bc416a-18c9-4fd7-ea41-d510044b34e8"
      },
      "execution_count": 14,
      "outputs": [
        {
          "output_type": "stream",
          "name": "stdout",
          "text": [
            "0.23570226039551584\n",
            "1.247219128924647\n"
          ]
        }
      ]
    },
    {
      "cell_type": "markdown",
      "source": [
        "Dystrybuanta empiryczna\n",
        "Kwantyl, mediana, \n",
        "Kwartyle\n",
        "Przestrzeń probabilistyczna\n"
      ],
      "metadata": {
        "id": "zqrokulIHeVb"
      }
    },
    {
      "cell_type": "code",
      "source": [
        "omega = {1,2,3,4,5,6}\n",
        "A = {item for item in omega if item % 2==0}\n",
        "P_A = len(A)/len(omega)\n",
        "print(P_A)"
      ],
      "metadata": {
        "colab": {
          "base_uri": "https://localhost:8080/"
        },
        "id": "OAiDwkOoHa23",
        "outputId": "48755521-9a3a-4acc-ff46-e065f203c571"
      },
      "execution_count": 16,
      "outputs": [
        {
          "output_type": "stream",
          "name": "stdout",
          "text": [
            "0.5\n"
          ]
        }
      ]
    },
    {
      "cell_type": "code",
      "source": [
        "B = {item for item in omega if item > 4}\n",
        "P_B = len(B)/len(omega)\n",
        "print(P_B)"
      ],
      "metadata": {
        "colab": {
          "base_uri": "https://localhost:8080/"
        },
        "id": "K-LcwfmrMqWR",
        "outputId": "8cf8f10c-5eda-45c5-8ca6-a60e85438226"
      },
      "execution_count": 19,
      "outputs": [
        {
          "output_type": "stream",
          "name": "stdout",
          "text": [
            "0.3333333333333333\n"
          ]
        }
      ]
    },
    {
      "cell_type": "markdown",
      "source": [
        "Niezależność zdarzeń\n",
        "Prawdopodobieństwo warunkowe"
      ],
      "metadata": {
        "id": "xcCR4-YmNLkS"
      }
    },
    {
      "cell_type": "code",
      "source": [],
      "metadata": {
        "id": "KmlgZmkYNJRZ"
      },
      "execution_count": null,
      "outputs": []
    },
    {
      "cell_type": "markdown",
      "source": [
        "Zmienna losowa\n",
        "Dystrybuanta\n",
        "Wartość oczekowana"
      ],
      "metadata": {
        "id": "yQy1pS4rRHyy"
      }
    },
    {
      "cell_type": "code",
      "source": [],
      "metadata": {
        "id": "t7LxVuB1NHTO"
      },
      "execution_count": null,
      "outputs": []
    },
    {
      "cell_type": "markdown",
      "source": [
        "Wariancja zmiennej losowej, odchylenie standardowe, kowariancja, korelacja"
      ],
      "metadata": {
        "id": "28pVqo7aRzL4"
      }
    },
    {
      "cell_type": "code",
      "source": [],
      "metadata": {
        "id": "Bc5n085TND0H"
      },
      "execution_count": null,
      "outputs": []
    },
    {
      "cell_type": "markdown",
      "source": [
        "Rozkład normalny"
      ],
      "metadata": {
        "id": "CCw4f6jDh5Ww"
      }
    },
    {
      "cell_type": "code",
      "source": [
        "import matplotlib.pyplot as plt\n",
        "import seaborn as sns\n",
        "from scipy.stats import norm\n",
        "sns.set()"
      ],
      "metadata": {
        "id": "MrjPg6yvMm0d"
      },
      "execution_count": 21,
      "outputs": []
    },
    {
      "cell_type": "code",
      "source": [],
      "metadata": {
        "id": "vs4WgyepiGYg"
      },
      "execution_count": null,
      "outputs": []
    },
    {
      "cell_type": "code",
      "source": [],
      "metadata": {
        "id": "P7pWP4SgiDuT"
      },
      "execution_count": null,
      "outputs": []
    },
    {
      "cell_type": "code",
      "source": [],
      "metadata": {
        "id": "_nSo-hQXHF_j"
      },
      "execution_count": null,
      "outputs": []
    },
    {
      "cell_type": "code",
      "source": [],
      "metadata": {
        "id": "0s_PLeRaGs88"
      },
      "execution_count": null,
      "outputs": []
    },
    {
      "cell_type": "code",
      "source": [],
      "metadata": {
        "id": "dI9_HdpNGoce"
      },
      "execution_count": null,
      "outputs": []
    },
    {
      "cell_type": "markdown",
      "source": [
        "Wariancja"
      ],
      "metadata": {
        "id": "sITTML0QDbep"
      }
    },
    {
      "cell_type": "code",
      "source": [],
      "metadata": {
        "id": "MxnU1C18_tW9"
      },
      "execution_count": null,
      "outputs": []
    },
    {
      "cell_type": "code",
      "source": [],
      "metadata": {
        "id": "35YXY4D__pjW"
      },
      "execution_count": null,
      "outputs": []
    },
    {
      "cell_type": "code",
      "source": [],
      "metadata": {
        "id": "UhEgkXHm_kI1"
      },
      "execution_count": null,
      "outputs": []
    },
    {
      "cell_type": "code",
      "source": [],
      "metadata": {
        "id": "mWVh7S2P_YPR"
      },
      "execution_count": null,
      "outputs": []
    },
    {
      "cell_type": "code",
      "source": [],
      "metadata": {
        "id": "aQn2-_RX_SIQ"
      },
      "execution_count": null,
      "outputs": []
    },
    {
      "cell_type": "code",
      "source": [],
      "metadata": {
        "id": "KXDU0MNKrd59"
      },
      "execution_count": null,
      "outputs": []
    },
    {
      "cell_type": "code",
      "source": [],
      "metadata": {
        "id": "8f6_rvgIrcWK"
      },
      "execution_count": null,
      "outputs": []
    },
    {
      "cell_type": "code",
      "source": [],
      "metadata": {
        "id": "3h9lgaURrYa5"
      },
      "execution_count": null,
      "outputs": []
    }
  ]
}