{
  "nbformat": 4,
  "nbformat_minor": 0,
  "metadata": {
    "colab": {
      "provenance": [],
      "authorship_tag": "ABX9TyMtxDsqqjI+9pqmENoL/fjA",
      "include_colab_link": true
    },
    "kernelspec": {
      "name": "python3",
      "display_name": "Python 3"
    },
    "language_info": {
      "name": "python"
    }
  },
  "cells": [
    {
      "cell_type": "markdown",
      "metadata": {
        "id": "view-in-github",
        "colab_type": "text"
      },
      "source": [
        "<a href=\"https://colab.research.google.com/github/MariuszGaw/datascience/blob/main/03_pandas_case_study2.ipynb\" target=\"_parent\"><img src=\"https://colab.research.google.com/assets/colab-badge.svg\" alt=\"Open In Colab\"/></a>"
      ]
    },
    {
      "cell_type": "code",
      "execution_count": 1,
      "metadata": {
        "id": "A0jBLXMeJ-hQ"
      },
      "outputs": [],
      "source": [
        "import numpy as np\n",
        "import pandas as pd"
      ]
    },
    {
      "cell_type": "code",
      "source": [
        "url = 'https://storage.googleapis.com/esmartdata-courses-files/ds-bootcamp/appstore_games.csv'\n",
        "df_raw = pd.read_csv(url)\n",
        "df_raw.head()"
      ],
      "metadata": {
        "colab": {
          "base_uri": "https://localhost:8080/",
          "height": 687
        },
        "id": "a57Mg6FhKEwe",
        "outputId": "9db024ce-33bd-4027-f84d-1bf646bef19e"
      },
      "execution_count": 4,
      "outputs": [
        {
          "output_type": "execute_result",
          "data": {
            "text/plain": [
              "                                                 URL         ID  \\\n",
              "0   https://apps.apple.com/us/app/sudoku/id284921427  284921427   \n",
              "1  https://apps.apple.com/us/app/reversi/id284926400  284926400   \n",
              "2  https://apps.apple.com/us/app/morocco/id284946595  284946595   \n",
              "3  https://apps.apple.com/us/app/sudoku-free/id28...  285755462   \n",
              "4  https://apps.apple.com/us/app/senet-deluxe/id2...  285831220   \n",
              "\n",
              "            Name Subtitle                                           Icon URL  \\\n",
              "0         Sudoku      NaN  https://is2-ssl.mzstatic.com/image/thumb/Purpl...   \n",
              "1        Reversi      NaN  https://is4-ssl.mzstatic.com/image/thumb/Purpl...   \n",
              "2        Morocco      NaN  https://is5-ssl.mzstatic.com/image/thumb/Purpl...   \n",
              "3  Sudoku (Free)      NaN  https://is3-ssl.mzstatic.com/image/thumb/Purpl...   \n",
              "4   Senet Deluxe      NaN  https://is1-ssl.mzstatic.com/image/thumb/Purpl...   \n",
              "\n",
              "   Average User Rating  User Rating Count  Price In-app Purchases  \\\n",
              "0                  4.0             3553.0   2.99              NaN   \n",
              "1                  3.5              284.0   1.99              NaN   \n",
              "2                  3.0             8376.0   0.00              NaN   \n",
              "3                  3.5           190394.0   0.00              NaN   \n",
              "4                  3.5               28.0   2.99              NaN   \n",
              "\n",
              "                                         Description  \\\n",
              "0  Join over 21,000,000 of our fans and download ...   \n",
              "1  The classic game of Reversi, also known as Oth...   \n",
              "2  Play the classic strategy game Othello (also k...   \n",
              "3  Top 100 free app for over a year.\\nRated \"Best...   \n",
              "4  \"Senet Deluxe - The Ancient Game of Life and A...   \n",
              "\n",
              "                  Developer Age Rating  \\\n",
              "0  Mighty Mighty Good Games         4+   \n",
              "1          Kiss The Machine         4+   \n",
              "2               Bayou Games         4+   \n",
              "3  Mighty Mighty Good Games         4+   \n",
              "4           RoGame Software         4+   \n",
              "\n",
              "                                           Languages        Size  \\\n",
              "0  DA, NL, EN, FI, FR, DE, IT, JA, KO, NB, PL, PT...  15853568.0   \n",
              "1                                                 EN  12328960.0   \n",
              "2                                                 EN    674816.0   \n",
              "3  DA, NL, EN, FI, FR, DE, IT, JA, KO, NB, PL, PT...  21552128.0   \n",
              "4  DA, NL, EN, FR, DE, EL, IT, JA, KO, NO, PT, RU...  34689024.0   \n",
              "\n",
              "  Primary Genre                             Genres Original Release Date  \\\n",
              "0         Games            Games, Strategy, Puzzle            11/07/2008   \n",
              "1         Games             Games, Strategy, Board            11/07/2008   \n",
              "2         Games             Games, Board, Strategy            11/07/2008   \n",
              "3         Games            Games, Strategy, Puzzle            23/07/2008   \n",
              "4         Games  Games, Strategy, Board, Education            18/07/2008   \n",
              "\n",
              "  Current Version Release Date  \n",
              "0                   30/05/2017  \n",
              "1                   17/05/2018  \n",
              "2                    5/09/2017  \n",
              "3                   30/05/2017  \n",
              "4                   22/07/2018  "
            ],
            "text/html": [
              "\n",
              "  <div id=\"df-aa12ae5a-9d56-472c-9bbc-b09405a299ae\">\n",
              "    <div class=\"colab-df-container\">\n",
              "      <div>\n",
              "<style scoped>\n",
              "    .dataframe tbody tr th:only-of-type {\n",
              "        vertical-align: middle;\n",
              "    }\n",
              "\n",
              "    .dataframe tbody tr th {\n",
              "        vertical-align: top;\n",
              "    }\n",
              "\n",
              "    .dataframe thead th {\n",
              "        text-align: right;\n",
              "    }\n",
              "</style>\n",
              "<table border=\"1\" class=\"dataframe\">\n",
              "  <thead>\n",
              "    <tr style=\"text-align: right;\">\n",
              "      <th></th>\n",
              "      <th>URL</th>\n",
              "      <th>ID</th>\n",
              "      <th>Name</th>\n",
              "      <th>Subtitle</th>\n",
              "      <th>Icon URL</th>\n",
              "      <th>Average User Rating</th>\n",
              "      <th>User Rating Count</th>\n",
              "      <th>Price</th>\n",
              "      <th>In-app Purchases</th>\n",
              "      <th>Description</th>\n",
              "      <th>Developer</th>\n",
              "      <th>Age Rating</th>\n",
              "      <th>Languages</th>\n",
              "      <th>Size</th>\n",
              "      <th>Primary Genre</th>\n",
              "      <th>Genres</th>\n",
              "      <th>Original Release Date</th>\n",
              "      <th>Current Version Release Date</th>\n",
              "    </tr>\n",
              "  </thead>\n",
              "  <tbody>\n",
              "    <tr>\n",
              "      <th>0</th>\n",
              "      <td>https://apps.apple.com/us/app/sudoku/id284921427</td>\n",
              "      <td>284921427</td>\n",
              "      <td>Sudoku</td>\n",
              "      <td>NaN</td>\n",
              "      <td>https://is2-ssl.mzstatic.com/image/thumb/Purpl...</td>\n",
              "      <td>4.0</td>\n",
              "      <td>3553.0</td>\n",
              "      <td>2.99</td>\n",
              "      <td>NaN</td>\n",
              "      <td>Join over 21,000,000 of our fans and download ...</td>\n",
              "      <td>Mighty Mighty Good Games</td>\n",
              "      <td>4+</td>\n",
              "      <td>DA, NL, EN, FI, FR, DE, IT, JA, KO, NB, PL, PT...</td>\n",
              "      <td>15853568.0</td>\n",
              "      <td>Games</td>\n",
              "      <td>Games, Strategy, Puzzle</td>\n",
              "      <td>11/07/2008</td>\n",
              "      <td>30/05/2017</td>\n",
              "    </tr>\n",
              "    <tr>\n",
              "      <th>1</th>\n",
              "      <td>https://apps.apple.com/us/app/reversi/id284926400</td>\n",
              "      <td>284926400</td>\n",
              "      <td>Reversi</td>\n",
              "      <td>NaN</td>\n",
              "      <td>https://is4-ssl.mzstatic.com/image/thumb/Purpl...</td>\n",
              "      <td>3.5</td>\n",
              "      <td>284.0</td>\n",
              "      <td>1.99</td>\n",
              "      <td>NaN</td>\n",
              "      <td>The classic game of Reversi, also known as Oth...</td>\n",
              "      <td>Kiss The Machine</td>\n",
              "      <td>4+</td>\n",
              "      <td>EN</td>\n",
              "      <td>12328960.0</td>\n",
              "      <td>Games</td>\n",
              "      <td>Games, Strategy, Board</td>\n",
              "      <td>11/07/2008</td>\n",
              "      <td>17/05/2018</td>\n",
              "    </tr>\n",
              "    <tr>\n",
              "      <th>2</th>\n",
              "      <td>https://apps.apple.com/us/app/morocco/id284946595</td>\n",
              "      <td>284946595</td>\n",
              "      <td>Morocco</td>\n",
              "      <td>NaN</td>\n",
              "      <td>https://is5-ssl.mzstatic.com/image/thumb/Purpl...</td>\n",
              "      <td>3.0</td>\n",
              "      <td>8376.0</td>\n",
              "      <td>0.00</td>\n",
              "      <td>NaN</td>\n",
              "      <td>Play the classic strategy game Othello (also k...</td>\n",
              "      <td>Bayou Games</td>\n",
              "      <td>4+</td>\n",
              "      <td>EN</td>\n",
              "      <td>674816.0</td>\n",
              "      <td>Games</td>\n",
              "      <td>Games, Board, Strategy</td>\n",
              "      <td>11/07/2008</td>\n",
              "      <td>5/09/2017</td>\n",
              "    </tr>\n",
              "    <tr>\n",
              "      <th>3</th>\n",
              "      <td>https://apps.apple.com/us/app/sudoku-free/id28...</td>\n",
              "      <td>285755462</td>\n",
              "      <td>Sudoku (Free)</td>\n",
              "      <td>NaN</td>\n",
              "      <td>https://is3-ssl.mzstatic.com/image/thumb/Purpl...</td>\n",
              "      <td>3.5</td>\n",
              "      <td>190394.0</td>\n",
              "      <td>0.00</td>\n",
              "      <td>NaN</td>\n",
              "      <td>Top 100 free app for over a year.\\nRated \"Best...</td>\n",
              "      <td>Mighty Mighty Good Games</td>\n",
              "      <td>4+</td>\n",
              "      <td>DA, NL, EN, FI, FR, DE, IT, JA, KO, NB, PL, PT...</td>\n",
              "      <td>21552128.0</td>\n",
              "      <td>Games</td>\n",
              "      <td>Games, Strategy, Puzzle</td>\n",
              "      <td>23/07/2008</td>\n",
              "      <td>30/05/2017</td>\n",
              "    </tr>\n",
              "    <tr>\n",
              "      <th>4</th>\n",
              "      <td>https://apps.apple.com/us/app/senet-deluxe/id2...</td>\n",
              "      <td>285831220</td>\n",
              "      <td>Senet Deluxe</td>\n",
              "      <td>NaN</td>\n",
              "      <td>https://is1-ssl.mzstatic.com/image/thumb/Purpl...</td>\n",
              "      <td>3.5</td>\n",
              "      <td>28.0</td>\n",
              "      <td>2.99</td>\n",
              "      <td>NaN</td>\n",
              "      <td>\"Senet Deluxe - The Ancient Game of Life and A...</td>\n",
              "      <td>RoGame Software</td>\n",
              "      <td>4+</td>\n",
              "      <td>DA, NL, EN, FR, DE, EL, IT, JA, KO, NO, PT, RU...</td>\n",
              "      <td>34689024.0</td>\n",
              "      <td>Games</td>\n",
              "      <td>Games, Strategy, Board, Education</td>\n",
              "      <td>18/07/2008</td>\n",
              "      <td>22/07/2018</td>\n",
              "    </tr>\n",
              "  </tbody>\n",
              "</table>\n",
              "</div>\n",
              "      <button class=\"colab-df-convert\" onclick=\"convertToInteractive('df-aa12ae5a-9d56-472c-9bbc-b09405a299ae')\"\n",
              "              title=\"Convert this dataframe to an interactive table.\"\n",
              "              style=\"display:none;\">\n",
              "        \n",
              "  <svg xmlns=\"http://www.w3.org/2000/svg\" height=\"24px\"viewBox=\"0 0 24 24\"\n",
              "       width=\"24px\">\n",
              "    <path d=\"M0 0h24v24H0V0z\" fill=\"none\"/>\n",
              "    <path d=\"M18.56 5.44l.94 2.06.94-2.06 2.06-.94-2.06-.94-.94-2.06-.94 2.06-2.06.94zm-11 1L8.5 8.5l.94-2.06 2.06-.94-2.06-.94L8.5 2.5l-.94 2.06-2.06.94zm10 10l.94 2.06.94-2.06 2.06-.94-2.06-.94-.94-2.06-.94 2.06-2.06.94z\"/><path d=\"M17.41 7.96l-1.37-1.37c-.4-.4-.92-.59-1.43-.59-.52 0-1.04.2-1.43.59L10.3 9.45l-7.72 7.72c-.78.78-.78 2.05 0 2.83L4 21.41c.39.39.9.59 1.41.59.51 0 1.02-.2 1.41-.59l7.78-7.78 2.81-2.81c.8-.78.8-2.07 0-2.86zM5.41 20L4 18.59l7.72-7.72 1.47 1.35L5.41 20z\"/>\n",
              "  </svg>\n",
              "      </button>\n",
              "      \n",
              "  <style>\n",
              "    .colab-df-container {\n",
              "      display:flex;\n",
              "      flex-wrap:wrap;\n",
              "      gap: 12px;\n",
              "    }\n",
              "\n",
              "    .colab-df-convert {\n",
              "      background-color: #E8F0FE;\n",
              "      border: none;\n",
              "      border-radius: 50%;\n",
              "      cursor: pointer;\n",
              "      display: none;\n",
              "      fill: #1967D2;\n",
              "      height: 32px;\n",
              "      padding: 0 0 0 0;\n",
              "      width: 32px;\n",
              "    }\n",
              "\n",
              "    .colab-df-convert:hover {\n",
              "      background-color: #E2EBFA;\n",
              "      box-shadow: 0px 1px 2px rgba(60, 64, 67, 0.3), 0px 1px 3px 1px rgba(60, 64, 67, 0.15);\n",
              "      fill: #174EA6;\n",
              "    }\n",
              "\n",
              "    [theme=dark] .colab-df-convert {\n",
              "      background-color: #3B4455;\n",
              "      fill: #D2E3FC;\n",
              "    }\n",
              "\n",
              "    [theme=dark] .colab-df-convert:hover {\n",
              "      background-color: #434B5C;\n",
              "      box-shadow: 0px 1px 3px 1px rgba(0, 0, 0, 0.15);\n",
              "      filter: drop-shadow(0px 1px 2px rgba(0, 0, 0, 0.3));\n",
              "      fill: #FFFFFF;\n",
              "    }\n",
              "  </style>\n",
              "\n",
              "      <script>\n",
              "        const buttonEl =\n",
              "          document.querySelector('#df-aa12ae5a-9d56-472c-9bbc-b09405a299ae button.colab-df-convert');\n",
              "        buttonEl.style.display =\n",
              "          google.colab.kernel.accessAllowed ? 'block' : 'none';\n",
              "\n",
              "        async function convertToInteractive(key) {\n",
              "          const element = document.querySelector('#df-aa12ae5a-9d56-472c-9bbc-b09405a299ae');\n",
              "          const dataTable =\n",
              "            await google.colab.kernel.invokeFunction('convertToInteractive',\n",
              "                                                     [key], {});\n",
              "          if (!dataTable) return;\n",
              "\n",
              "          const docLinkHtml = 'Like what you see? Visit the ' +\n",
              "            '<a target=\"_blank\" href=https://colab.research.google.com/notebooks/data_table.ipynb>data table notebook</a>'\n",
              "            + ' to learn more about interactive tables.';\n",
              "          element.innerHTML = '';\n",
              "          dataTable['output_type'] = 'display_data';\n",
              "          await google.colab.output.renderOutput(dataTable, element);\n",
              "          const docLink = document.createElement('div');\n",
              "          docLink.innerHTML = docLinkHtml;\n",
              "          element.appendChild(docLink);\n",
              "        }\n",
              "      </script>\n",
              "    </div>\n",
              "  </div>\n",
              "  "
            ]
          },
          "metadata": {},
          "execution_count": 4
        }
      ]
    },
    {
      "cell_type": "markdown",
      "source": [
        "Wstępne przygotowanie danych"
      ],
      "metadata": {
        "id": "TgWJSomoLMJ-"
      }
    },
    {
      "cell_type": "code",
      "source": [
        "df_raw.columns"
      ],
      "metadata": {
        "colab": {
          "base_uri": "https://localhost:8080/"
        },
        "id": "yA_X_MzeLP0o",
        "outputId": "ca9e1921-d289-416f-a757-c3a74c18158c"
      },
      "execution_count": 18,
      "outputs": [
        {
          "output_type": "execute_result",
          "data": {
            "text/plain": [
              "Index(['URL', 'ID', 'Name', 'Subtitle', 'Icon URL', 'Average User Rating',\n",
              "       'User Rating Count', 'Price', 'In-app Purchases', 'Description',\n",
              "       'Developer', 'Age Rating', 'Languages', 'Size', 'Primary Genre',\n",
              "       'Genres', 'Original Release Date', 'Current Version Release Date'],\n",
              "      dtype='object')"
            ]
          },
          "metadata": {},
          "execution_count": 18
        }
      ]
    },
    {
      "cell_type": "code",
      "source": [
        "df = df_raw.copy()"
      ],
      "metadata": {
        "id": "ViXGz_jaLRUJ"
      },
      "execution_count": 19,
      "outputs": []
    },
    {
      "cell_type": "code",
      "source": [
        "df.info()"
      ],
      "metadata": {
        "colab": {
          "base_uri": "https://localhost:8080/"
        },
        "id": "k5bTDOO2LZ0w",
        "outputId": "da6fc0aa-e86d-4631-8060-0d00612bc059"
      },
      "execution_count": 20,
      "outputs": [
        {
          "output_type": "stream",
          "name": "stdout",
          "text": [
            "<class 'pandas.core.frame.DataFrame'>\n",
            "RangeIndex: 17007 entries, 0 to 17006\n",
            "Data columns (total 18 columns):\n",
            " #   Column                        Non-Null Count  Dtype  \n",
            "---  ------                        --------------  -----  \n",
            " 0   URL                           17007 non-null  object \n",
            " 1   ID                            17007 non-null  int64  \n",
            " 2   Name                          17007 non-null  object \n",
            " 3   Subtitle                      5261 non-null   object \n",
            " 4   Icon URL                      17007 non-null  object \n",
            " 5   Average User Rating           7561 non-null   float64\n",
            " 6   User Rating Count             7561 non-null   float64\n",
            " 7   Price                         16983 non-null  float64\n",
            " 8   In-app Purchases              7683 non-null   object \n",
            " 9   Description                   17007 non-null  object \n",
            " 10  Developer                     17007 non-null  object \n",
            " 11  Age Rating                    17007 non-null  object \n",
            " 12  Languages                     16947 non-null  object \n",
            " 13  Size                          17006 non-null  float64\n",
            " 14  Primary Genre                 17007 non-null  object \n",
            " 15  Genres                        17007 non-null  object \n",
            " 16  Original Release Date         17007 non-null  object \n",
            " 17  Current Version Release Date  17007 non-null  object \n",
            "dtypes: float64(4), int64(1), object(13)\n",
            "memory usage: 2.3+ MB\n"
          ]
        }
      ]
    },
    {
      "cell_type": "code",
      "source": [
        "df = df.drop(columns=['URL','Icon URL','Subtitle','Description','In-app Purchases'])\n",
        "df.head()"
      ],
      "metadata": {
        "colab": {
          "base_uri": "https://localhost:8080/",
          "height": 617
        },
        "id": "qpfnW3qLLa5B",
        "outputId": "a4940896-3958-4c16-ff06-57ac4538a536"
      },
      "execution_count": 21,
      "outputs": [
        {
          "output_type": "execute_result",
          "data": {
            "text/plain": [
              "          ID           Name  Average User Rating  User Rating Count  Price  \\\n",
              "0  284921427         Sudoku                  4.0             3553.0   2.99   \n",
              "1  284926400        Reversi                  3.5              284.0   1.99   \n",
              "2  284946595        Morocco                  3.0             8376.0   0.00   \n",
              "3  285755462  Sudoku (Free)                  3.5           190394.0   0.00   \n",
              "4  285831220   Senet Deluxe                  3.5               28.0   2.99   \n",
              "\n",
              "                  Developer Age Rating  \\\n",
              "0  Mighty Mighty Good Games         4+   \n",
              "1          Kiss The Machine         4+   \n",
              "2               Bayou Games         4+   \n",
              "3  Mighty Mighty Good Games         4+   \n",
              "4           RoGame Software         4+   \n",
              "\n",
              "                                           Languages        Size  \\\n",
              "0  DA, NL, EN, FI, FR, DE, IT, JA, KO, NB, PL, PT...  15853568.0   \n",
              "1                                                 EN  12328960.0   \n",
              "2                                                 EN    674816.0   \n",
              "3  DA, NL, EN, FI, FR, DE, IT, JA, KO, NB, PL, PT...  21552128.0   \n",
              "4  DA, NL, EN, FR, DE, EL, IT, JA, KO, NO, PT, RU...  34689024.0   \n",
              "\n",
              "  Primary Genre                             Genres Original Release Date  \\\n",
              "0         Games            Games, Strategy, Puzzle            11/07/2008   \n",
              "1         Games             Games, Strategy, Board            11/07/2008   \n",
              "2         Games             Games, Board, Strategy            11/07/2008   \n",
              "3         Games            Games, Strategy, Puzzle            23/07/2008   \n",
              "4         Games  Games, Strategy, Board, Education            18/07/2008   \n",
              "\n",
              "  Current Version Release Date  \n",
              "0                   30/05/2017  \n",
              "1                   17/05/2018  \n",
              "2                    5/09/2017  \n",
              "3                   30/05/2017  \n",
              "4                   22/07/2018  "
            ],
            "text/html": [
              "\n",
              "  <div id=\"df-d209253a-02da-40a7-8aea-526a97ddb6d4\">\n",
              "    <div class=\"colab-df-container\">\n",
              "      <div>\n",
              "<style scoped>\n",
              "    .dataframe tbody tr th:only-of-type {\n",
              "        vertical-align: middle;\n",
              "    }\n",
              "\n",
              "    .dataframe tbody tr th {\n",
              "        vertical-align: top;\n",
              "    }\n",
              "\n",
              "    .dataframe thead th {\n",
              "        text-align: right;\n",
              "    }\n",
              "</style>\n",
              "<table border=\"1\" class=\"dataframe\">\n",
              "  <thead>\n",
              "    <tr style=\"text-align: right;\">\n",
              "      <th></th>\n",
              "      <th>ID</th>\n",
              "      <th>Name</th>\n",
              "      <th>Average User Rating</th>\n",
              "      <th>User Rating Count</th>\n",
              "      <th>Price</th>\n",
              "      <th>Developer</th>\n",
              "      <th>Age Rating</th>\n",
              "      <th>Languages</th>\n",
              "      <th>Size</th>\n",
              "      <th>Primary Genre</th>\n",
              "      <th>Genres</th>\n",
              "      <th>Original Release Date</th>\n",
              "      <th>Current Version Release Date</th>\n",
              "    </tr>\n",
              "  </thead>\n",
              "  <tbody>\n",
              "    <tr>\n",
              "      <th>0</th>\n",
              "      <td>284921427</td>\n",
              "      <td>Sudoku</td>\n",
              "      <td>4.0</td>\n",
              "      <td>3553.0</td>\n",
              "      <td>2.99</td>\n",
              "      <td>Mighty Mighty Good Games</td>\n",
              "      <td>4+</td>\n",
              "      <td>DA, NL, EN, FI, FR, DE, IT, JA, KO, NB, PL, PT...</td>\n",
              "      <td>15853568.0</td>\n",
              "      <td>Games</td>\n",
              "      <td>Games, Strategy, Puzzle</td>\n",
              "      <td>11/07/2008</td>\n",
              "      <td>30/05/2017</td>\n",
              "    </tr>\n",
              "    <tr>\n",
              "      <th>1</th>\n",
              "      <td>284926400</td>\n",
              "      <td>Reversi</td>\n",
              "      <td>3.5</td>\n",
              "      <td>284.0</td>\n",
              "      <td>1.99</td>\n",
              "      <td>Kiss The Machine</td>\n",
              "      <td>4+</td>\n",
              "      <td>EN</td>\n",
              "      <td>12328960.0</td>\n",
              "      <td>Games</td>\n",
              "      <td>Games, Strategy, Board</td>\n",
              "      <td>11/07/2008</td>\n",
              "      <td>17/05/2018</td>\n",
              "    </tr>\n",
              "    <tr>\n",
              "      <th>2</th>\n",
              "      <td>284946595</td>\n",
              "      <td>Morocco</td>\n",
              "      <td>3.0</td>\n",
              "      <td>8376.0</td>\n",
              "      <td>0.00</td>\n",
              "      <td>Bayou Games</td>\n",
              "      <td>4+</td>\n",
              "      <td>EN</td>\n",
              "      <td>674816.0</td>\n",
              "      <td>Games</td>\n",
              "      <td>Games, Board, Strategy</td>\n",
              "      <td>11/07/2008</td>\n",
              "      <td>5/09/2017</td>\n",
              "    </tr>\n",
              "    <tr>\n",
              "      <th>3</th>\n",
              "      <td>285755462</td>\n",
              "      <td>Sudoku (Free)</td>\n",
              "      <td>3.5</td>\n",
              "      <td>190394.0</td>\n",
              "      <td>0.00</td>\n",
              "      <td>Mighty Mighty Good Games</td>\n",
              "      <td>4+</td>\n",
              "      <td>DA, NL, EN, FI, FR, DE, IT, JA, KO, NB, PL, PT...</td>\n",
              "      <td>21552128.0</td>\n",
              "      <td>Games</td>\n",
              "      <td>Games, Strategy, Puzzle</td>\n",
              "      <td>23/07/2008</td>\n",
              "      <td>30/05/2017</td>\n",
              "    </tr>\n",
              "    <tr>\n",
              "      <th>4</th>\n",
              "      <td>285831220</td>\n",
              "      <td>Senet Deluxe</td>\n",
              "      <td>3.5</td>\n",
              "      <td>28.0</td>\n",
              "      <td>2.99</td>\n",
              "      <td>RoGame Software</td>\n",
              "      <td>4+</td>\n",
              "      <td>DA, NL, EN, FR, DE, EL, IT, JA, KO, NO, PT, RU...</td>\n",
              "      <td>34689024.0</td>\n",
              "      <td>Games</td>\n",
              "      <td>Games, Strategy, Board, Education</td>\n",
              "      <td>18/07/2008</td>\n",
              "      <td>22/07/2018</td>\n",
              "    </tr>\n",
              "  </tbody>\n",
              "</table>\n",
              "</div>\n",
              "      <button class=\"colab-df-convert\" onclick=\"convertToInteractive('df-d209253a-02da-40a7-8aea-526a97ddb6d4')\"\n",
              "              title=\"Convert this dataframe to an interactive table.\"\n",
              "              style=\"display:none;\">\n",
              "        \n",
              "  <svg xmlns=\"http://www.w3.org/2000/svg\" height=\"24px\"viewBox=\"0 0 24 24\"\n",
              "       width=\"24px\">\n",
              "    <path d=\"M0 0h24v24H0V0z\" fill=\"none\"/>\n",
              "    <path d=\"M18.56 5.44l.94 2.06.94-2.06 2.06-.94-2.06-.94-.94-2.06-.94 2.06-2.06.94zm-11 1L8.5 8.5l.94-2.06 2.06-.94-2.06-.94L8.5 2.5l-.94 2.06-2.06.94zm10 10l.94 2.06.94-2.06 2.06-.94-2.06-.94-.94-2.06-.94 2.06-2.06.94z\"/><path d=\"M17.41 7.96l-1.37-1.37c-.4-.4-.92-.59-1.43-.59-.52 0-1.04.2-1.43.59L10.3 9.45l-7.72 7.72c-.78.78-.78 2.05 0 2.83L4 21.41c.39.39.9.59 1.41.59.51 0 1.02-.2 1.41-.59l7.78-7.78 2.81-2.81c.8-.78.8-2.07 0-2.86zM5.41 20L4 18.59l7.72-7.72 1.47 1.35L5.41 20z\"/>\n",
              "  </svg>\n",
              "      </button>\n",
              "      \n",
              "  <style>\n",
              "    .colab-df-container {\n",
              "      display:flex;\n",
              "      flex-wrap:wrap;\n",
              "      gap: 12px;\n",
              "    }\n",
              "\n",
              "    .colab-df-convert {\n",
              "      background-color: #E8F0FE;\n",
              "      border: none;\n",
              "      border-radius: 50%;\n",
              "      cursor: pointer;\n",
              "      display: none;\n",
              "      fill: #1967D2;\n",
              "      height: 32px;\n",
              "      padding: 0 0 0 0;\n",
              "      width: 32px;\n",
              "    }\n",
              "\n",
              "    .colab-df-convert:hover {\n",
              "      background-color: #E2EBFA;\n",
              "      box-shadow: 0px 1px 2px rgba(60, 64, 67, 0.3), 0px 1px 3px 1px rgba(60, 64, 67, 0.15);\n",
              "      fill: #174EA6;\n",
              "    }\n",
              "\n",
              "    [theme=dark] .colab-df-convert {\n",
              "      background-color: #3B4455;\n",
              "      fill: #D2E3FC;\n",
              "    }\n",
              "\n",
              "    [theme=dark] .colab-df-convert:hover {\n",
              "      background-color: #434B5C;\n",
              "      box-shadow: 0px 1px 3px 1px rgba(0, 0, 0, 0.15);\n",
              "      filter: drop-shadow(0px 1px 2px rgba(0, 0, 0, 0.3));\n",
              "      fill: #FFFFFF;\n",
              "    }\n",
              "  </style>\n",
              "\n",
              "      <script>\n",
              "        const buttonEl =\n",
              "          document.querySelector('#df-d209253a-02da-40a7-8aea-526a97ddb6d4 button.colab-df-convert');\n",
              "        buttonEl.style.display =\n",
              "          google.colab.kernel.accessAllowed ? 'block' : 'none';\n",
              "\n",
              "        async function convertToInteractive(key) {\n",
              "          const element = document.querySelector('#df-d209253a-02da-40a7-8aea-526a97ddb6d4');\n",
              "          const dataTable =\n",
              "            await google.colab.kernel.invokeFunction('convertToInteractive',\n",
              "                                                     [key], {});\n",
              "          if (!dataTable) return;\n",
              "\n",
              "          const docLinkHtml = 'Like what you see? Visit the ' +\n",
              "            '<a target=\"_blank\" href=https://colab.research.google.com/notebooks/data_table.ipynb>data table notebook</a>'\n",
              "            + ' to learn more about interactive tables.';\n",
              "          element.innerHTML = '';\n",
              "          dataTable['output_type'] = 'display_data';\n",
              "          await google.colab.output.renderOutput(dataTable, element);\n",
              "          const docLink = document.createElement('div');\n",
              "          docLink.innerHTML = docLinkHtml;\n",
              "          element.appendChild(docLink);\n",
              "        }\n",
              "      </script>\n",
              "    </div>\n",
              "  </div>\n",
              "  "
            ]
          },
          "metadata": {},
          "execution_count": 21
        }
      ]
    },
    {
      "cell_type": "code",
      "source": [
        "df = df.set_index('ID')\n",
        "df.head()"
      ],
      "metadata": {
        "colab": {
          "base_uri": "https://localhost:8080/",
          "height": 649
        },
        "id": "1odafb_AMBHH",
        "outputId": "117962b3-812c-464f-bf24-a5084c78dd29"
      },
      "execution_count": 22,
      "outputs": [
        {
          "output_type": "execute_result",
          "data": {
            "text/plain": [
              "                    Name  Average User Rating  User Rating Count  Price  \\\n",
              "ID                                                                        \n",
              "284921427         Sudoku                  4.0             3553.0   2.99   \n",
              "284926400        Reversi                  3.5              284.0   1.99   \n",
              "284946595        Morocco                  3.0             8376.0   0.00   \n",
              "285755462  Sudoku (Free)                  3.5           190394.0   0.00   \n",
              "285831220   Senet Deluxe                  3.5               28.0   2.99   \n",
              "\n",
              "                          Developer Age Rating  \\\n",
              "ID                                               \n",
              "284921427  Mighty Mighty Good Games         4+   \n",
              "284926400          Kiss The Machine         4+   \n",
              "284946595               Bayou Games         4+   \n",
              "285755462  Mighty Mighty Good Games         4+   \n",
              "285831220           RoGame Software         4+   \n",
              "\n",
              "                                                   Languages        Size  \\\n",
              "ID                                                                         \n",
              "284921427  DA, NL, EN, FI, FR, DE, IT, JA, KO, NB, PL, PT...  15853568.0   \n",
              "284926400                                                 EN  12328960.0   \n",
              "284946595                                                 EN    674816.0   \n",
              "285755462  DA, NL, EN, FI, FR, DE, IT, JA, KO, NB, PL, PT...  21552128.0   \n",
              "285831220  DA, NL, EN, FR, DE, EL, IT, JA, KO, NO, PT, RU...  34689024.0   \n",
              "\n",
              "          Primary Genre                             Genres  \\\n",
              "ID                                                           \n",
              "284921427         Games            Games, Strategy, Puzzle   \n",
              "284926400         Games             Games, Strategy, Board   \n",
              "284946595         Games             Games, Board, Strategy   \n",
              "285755462         Games            Games, Strategy, Puzzle   \n",
              "285831220         Games  Games, Strategy, Board, Education   \n",
              "\n",
              "          Original Release Date Current Version Release Date  \n",
              "ID                                                            \n",
              "284921427            11/07/2008                   30/05/2017  \n",
              "284926400            11/07/2008                   17/05/2018  \n",
              "284946595            11/07/2008                    5/09/2017  \n",
              "285755462            23/07/2008                   30/05/2017  \n",
              "285831220            18/07/2008                   22/07/2018  "
            ],
            "text/html": [
              "\n",
              "  <div id=\"df-75ef7ddc-c11a-4d63-9f3e-6f630033cbee\">\n",
              "    <div class=\"colab-df-container\">\n",
              "      <div>\n",
              "<style scoped>\n",
              "    .dataframe tbody tr th:only-of-type {\n",
              "        vertical-align: middle;\n",
              "    }\n",
              "\n",
              "    .dataframe tbody tr th {\n",
              "        vertical-align: top;\n",
              "    }\n",
              "\n",
              "    .dataframe thead th {\n",
              "        text-align: right;\n",
              "    }\n",
              "</style>\n",
              "<table border=\"1\" class=\"dataframe\">\n",
              "  <thead>\n",
              "    <tr style=\"text-align: right;\">\n",
              "      <th></th>\n",
              "      <th>Name</th>\n",
              "      <th>Average User Rating</th>\n",
              "      <th>User Rating Count</th>\n",
              "      <th>Price</th>\n",
              "      <th>Developer</th>\n",
              "      <th>Age Rating</th>\n",
              "      <th>Languages</th>\n",
              "      <th>Size</th>\n",
              "      <th>Primary Genre</th>\n",
              "      <th>Genres</th>\n",
              "      <th>Original Release Date</th>\n",
              "      <th>Current Version Release Date</th>\n",
              "    </tr>\n",
              "    <tr>\n",
              "      <th>ID</th>\n",
              "      <th></th>\n",
              "      <th></th>\n",
              "      <th></th>\n",
              "      <th></th>\n",
              "      <th></th>\n",
              "      <th></th>\n",
              "      <th></th>\n",
              "      <th></th>\n",
              "      <th></th>\n",
              "      <th></th>\n",
              "      <th></th>\n",
              "      <th></th>\n",
              "    </tr>\n",
              "  </thead>\n",
              "  <tbody>\n",
              "    <tr>\n",
              "      <th>284921427</th>\n",
              "      <td>Sudoku</td>\n",
              "      <td>4.0</td>\n",
              "      <td>3553.0</td>\n",
              "      <td>2.99</td>\n",
              "      <td>Mighty Mighty Good Games</td>\n",
              "      <td>4+</td>\n",
              "      <td>DA, NL, EN, FI, FR, DE, IT, JA, KO, NB, PL, PT...</td>\n",
              "      <td>15853568.0</td>\n",
              "      <td>Games</td>\n",
              "      <td>Games, Strategy, Puzzle</td>\n",
              "      <td>11/07/2008</td>\n",
              "      <td>30/05/2017</td>\n",
              "    </tr>\n",
              "    <tr>\n",
              "      <th>284926400</th>\n",
              "      <td>Reversi</td>\n",
              "      <td>3.5</td>\n",
              "      <td>284.0</td>\n",
              "      <td>1.99</td>\n",
              "      <td>Kiss The Machine</td>\n",
              "      <td>4+</td>\n",
              "      <td>EN</td>\n",
              "      <td>12328960.0</td>\n",
              "      <td>Games</td>\n",
              "      <td>Games, Strategy, Board</td>\n",
              "      <td>11/07/2008</td>\n",
              "      <td>17/05/2018</td>\n",
              "    </tr>\n",
              "    <tr>\n",
              "      <th>284946595</th>\n",
              "      <td>Morocco</td>\n",
              "      <td>3.0</td>\n",
              "      <td>8376.0</td>\n",
              "      <td>0.00</td>\n",
              "      <td>Bayou Games</td>\n",
              "      <td>4+</td>\n",
              "      <td>EN</td>\n",
              "      <td>674816.0</td>\n",
              "      <td>Games</td>\n",
              "      <td>Games, Board, Strategy</td>\n",
              "      <td>11/07/2008</td>\n",
              "      <td>5/09/2017</td>\n",
              "    </tr>\n",
              "    <tr>\n",
              "      <th>285755462</th>\n",
              "      <td>Sudoku (Free)</td>\n",
              "      <td>3.5</td>\n",
              "      <td>190394.0</td>\n",
              "      <td>0.00</td>\n",
              "      <td>Mighty Mighty Good Games</td>\n",
              "      <td>4+</td>\n",
              "      <td>DA, NL, EN, FI, FR, DE, IT, JA, KO, NB, PL, PT...</td>\n",
              "      <td>21552128.0</td>\n",
              "      <td>Games</td>\n",
              "      <td>Games, Strategy, Puzzle</td>\n",
              "      <td>23/07/2008</td>\n",
              "      <td>30/05/2017</td>\n",
              "    </tr>\n",
              "    <tr>\n",
              "      <th>285831220</th>\n",
              "      <td>Senet Deluxe</td>\n",
              "      <td>3.5</td>\n",
              "      <td>28.0</td>\n",
              "      <td>2.99</td>\n",
              "      <td>RoGame Software</td>\n",
              "      <td>4+</td>\n",
              "      <td>DA, NL, EN, FR, DE, EL, IT, JA, KO, NO, PT, RU...</td>\n",
              "      <td>34689024.0</td>\n",
              "      <td>Games</td>\n",
              "      <td>Games, Strategy, Board, Education</td>\n",
              "      <td>18/07/2008</td>\n",
              "      <td>22/07/2018</td>\n",
              "    </tr>\n",
              "  </tbody>\n",
              "</table>\n",
              "</div>\n",
              "      <button class=\"colab-df-convert\" onclick=\"convertToInteractive('df-75ef7ddc-c11a-4d63-9f3e-6f630033cbee')\"\n",
              "              title=\"Convert this dataframe to an interactive table.\"\n",
              "              style=\"display:none;\">\n",
              "        \n",
              "  <svg xmlns=\"http://www.w3.org/2000/svg\" height=\"24px\"viewBox=\"0 0 24 24\"\n",
              "       width=\"24px\">\n",
              "    <path d=\"M0 0h24v24H0V0z\" fill=\"none\"/>\n",
              "    <path d=\"M18.56 5.44l.94 2.06.94-2.06 2.06-.94-2.06-.94-.94-2.06-.94 2.06-2.06.94zm-11 1L8.5 8.5l.94-2.06 2.06-.94-2.06-.94L8.5 2.5l-.94 2.06-2.06.94zm10 10l.94 2.06.94-2.06 2.06-.94-2.06-.94-.94-2.06-.94 2.06-2.06.94z\"/><path d=\"M17.41 7.96l-1.37-1.37c-.4-.4-.92-.59-1.43-.59-.52 0-1.04.2-1.43.59L10.3 9.45l-7.72 7.72c-.78.78-.78 2.05 0 2.83L4 21.41c.39.39.9.59 1.41.59.51 0 1.02-.2 1.41-.59l7.78-7.78 2.81-2.81c.8-.78.8-2.07 0-2.86zM5.41 20L4 18.59l7.72-7.72 1.47 1.35L5.41 20z\"/>\n",
              "  </svg>\n",
              "      </button>\n",
              "      \n",
              "  <style>\n",
              "    .colab-df-container {\n",
              "      display:flex;\n",
              "      flex-wrap:wrap;\n",
              "      gap: 12px;\n",
              "    }\n",
              "\n",
              "    .colab-df-convert {\n",
              "      background-color: #E8F0FE;\n",
              "      border: none;\n",
              "      border-radius: 50%;\n",
              "      cursor: pointer;\n",
              "      display: none;\n",
              "      fill: #1967D2;\n",
              "      height: 32px;\n",
              "      padding: 0 0 0 0;\n",
              "      width: 32px;\n",
              "    }\n",
              "\n",
              "    .colab-df-convert:hover {\n",
              "      background-color: #E2EBFA;\n",
              "      box-shadow: 0px 1px 2px rgba(60, 64, 67, 0.3), 0px 1px 3px 1px rgba(60, 64, 67, 0.15);\n",
              "      fill: #174EA6;\n",
              "    }\n",
              "\n",
              "    [theme=dark] .colab-df-convert {\n",
              "      background-color: #3B4455;\n",
              "      fill: #D2E3FC;\n",
              "    }\n",
              "\n",
              "    [theme=dark] .colab-df-convert:hover {\n",
              "      background-color: #434B5C;\n",
              "      box-shadow: 0px 1px 3px 1px rgba(0, 0, 0, 0.15);\n",
              "      filter: drop-shadow(0px 1px 2px rgba(0, 0, 0, 0.3));\n",
              "      fill: #FFFFFF;\n",
              "    }\n",
              "  </style>\n",
              "\n",
              "      <script>\n",
              "        const buttonEl =\n",
              "          document.querySelector('#df-75ef7ddc-c11a-4d63-9f3e-6f630033cbee button.colab-df-convert');\n",
              "        buttonEl.style.display =\n",
              "          google.colab.kernel.accessAllowed ? 'block' : 'none';\n",
              "\n",
              "        async function convertToInteractive(key) {\n",
              "          const element = document.querySelector('#df-75ef7ddc-c11a-4d63-9f3e-6f630033cbee');\n",
              "          const dataTable =\n",
              "            await google.colab.kernel.invokeFunction('convertToInteractive',\n",
              "                                                     [key], {});\n",
              "          if (!dataTable) return;\n",
              "\n",
              "          const docLinkHtml = 'Like what you see? Visit the ' +\n",
              "            '<a target=\"_blank\" href=https://colab.research.google.com/notebooks/data_table.ipynb>data table notebook</a>'\n",
              "            + ' to learn more about interactive tables.';\n",
              "          element.innerHTML = '';\n",
              "          dataTable['output_type'] = 'display_data';\n",
              "          await google.colab.output.renderOutput(dataTable, element);\n",
              "          const docLink = document.createElement('div');\n",
              "          docLink.innerHTML = docLinkHtml;\n",
              "          element.appendChild(docLink);\n",
              "        }\n",
              "      </script>\n",
              "    </div>\n",
              "  </div>\n",
              "  "
            ]
          },
          "metadata": {},
          "execution_count": 22
        }
      ]
    },
    {
      "cell_type": "code",
      "source": [
        "df.describe().T"
      ],
      "metadata": {
        "colab": {
          "base_uri": "https://localhost:8080/",
          "height": 308
        },
        "id": "euWT68oYMlM8",
        "outputId": "28e6e53a-7d5a-4912-9292-0d4ce0dcc847"
      },
      "execution_count": 24,
      "outputs": [
        {
          "output_type": "execute_result",
          "data": {
            "text/plain": [
              "                       count          mean           std      min         25%  \\\n",
              "Average User Rating   7561.0  4.060905e+00  7.514275e-01      1.0         3.5   \n",
              "User Rating Count     7561.0  3.306531e+03  4.232256e+04      5.0        12.0   \n",
              "Price                16983.0  8.134187e-01  7.835732e+00      0.0         0.0   \n",
              "Size                 17006.0  1.157064e+08  2.036477e+08  51328.0  22950144.0   \n",
              "\n",
              "                            50%          75%           max  \n",
              "Average User Rating         4.5          4.5  5.000000e+00  \n",
              "User Rating Count          46.0        309.0  3.032734e+06  \n",
              "Price                       0.0          0.0  1.799900e+02  \n",
              "Size                 56768954.0  133027072.0  4.005591e+09  "
            ],
            "text/html": [
              "\n",
              "  <div id=\"df-dca2b6eb-c1f1-4889-b2e9-d8e4fd163400\">\n",
              "    <div class=\"colab-df-container\">\n",
              "      <div>\n",
              "<style scoped>\n",
              "    .dataframe tbody tr th:only-of-type {\n",
              "        vertical-align: middle;\n",
              "    }\n",
              "\n",
              "    .dataframe tbody tr th {\n",
              "        vertical-align: top;\n",
              "    }\n",
              "\n",
              "    .dataframe thead th {\n",
              "        text-align: right;\n",
              "    }\n",
              "</style>\n",
              "<table border=\"1\" class=\"dataframe\">\n",
              "  <thead>\n",
              "    <tr style=\"text-align: right;\">\n",
              "      <th></th>\n",
              "      <th>count</th>\n",
              "      <th>mean</th>\n",
              "      <th>std</th>\n",
              "      <th>min</th>\n",
              "      <th>25%</th>\n",
              "      <th>50%</th>\n",
              "      <th>75%</th>\n",
              "      <th>max</th>\n",
              "    </tr>\n",
              "  </thead>\n",
              "  <tbody>\n",
              "    <tr>\n",
              "      <th>Average User Rating</th>\n",
              "      <td>7561.0</td>\n",
              "      <td>4.060905e+00</td>\n",
              "      <td>7.514275e-01</td>\n",
              "      <td>1.0</td>\n",
              "      <td>3.5</td>\n",
              "      <td>4.5</td>\n",
              "      <td>4.5</td>\n",
              "      <td>5.000000e+00</td>\n",
              "    </tr>\n",
              "    <tr>\n",
              "      <th>User Rating Count</th>\n",
              "      <td>7561.0</td>\n",
              "      <td>3.306531e+03</td>\n",
              "      <td>4.232256e+04</td>\n",
              "      <td>5.0</td>\n",
              "      <td>12.0</td>\n",
              "      <td>46.0</td>\n",
              "      <td>309.0</td>\n",
              "      <td>3.032734e+06</td>\n",
              "    </tr>\n",
              "    <tr>\n",
              "      <th>Price</th>\n",
              "      <td>16983.0</td>\n",
              "      <td>8.134187e-01</td>\n",
              "      <td>7.835732e+00</td>\n",
              "      <td>0.0</td>\n",
              "      <td>0.0</td>\n",
              "      <td>0.0</td>\n",
              "      <td>0.0</td>\n",
              "      <td>1.799900e+02</td>\n",
              "    </tr>\n",
              "    <tr>\n",
              "      <th>Size</th>\n",
              "      <td>17006.0</td>\n",
              "      <td>1.157064e+08</td>\n",
              "      <td>2.036477e+08</td>\n",
              "      <td>51328.0</td>\n",
              "      <td>22950144.0</td>\n",
              "      <td>56768954.0</td>\n",
              "      <td>133027072.0</td>\n",
              "      <td>4.005591e+09</td>\n",
              "    </tr>\n",
              "  </tbody>\n",
              "</table>\n",
              "</div>\n",
              "      <button class=\"colab-df-convert\" onclick=\"convertToInteractive('df-dca2b6eb-c1f1-4889-b2e9-d8e4fd163400')\"\n",
              "              title=\"Convert this dataframe to an interactive table.\"\n",
              "              style=\"display:none;\">\n",
              "        \n",
              "  <svg xmlns=\"http://www.w3.org/2000/svg\" height=\"24px\"viewBox=\"0 0 24 24\"\n",
              "       width=\"24px\">\n",
              "    <path d=\"M0 0h24v24H0V0z\" fill=\"none\"/>\n",
              "    <path d=\"M18.56 5.44l.94 2.06.94-2.06 2.06-.94-2.06-.94-.94-2.06-.94 2.06-2.06.94zm-11 1L8.5 8.5l.94-2.06 2.06-.94-2.06-.94L8.5 2.5l-.94 2.06-2.06.94zm10 10l.94 2.06.94-2.06 2.06-.94-2.06-.94-.94-2.06-.94 2.06-2.06.94z\"/><path d=\"M17.41 7.96l-1.37-1.37c-.4-.4-.92-.59-1.43-.59-.52 0-1.04.2-1.43.59L10.3 9.45l-7.72 7.72c-.78.78-.78 2.05 0 2.83L4 21.41c.39.39.9.59 1.41.59.51 0 1.02-.2 1.41-.59l7.78-7.78 2.81-2.81c.8-.78.8-2.07 0-2.86zM5.41 20L4 18.59l7.72-7.72 1.47 1.35L5.41 20z\"/>\n",
              "  </svg>\n",
              "      </button>\n",
              "      \n",
              "  <style>\n",
              "    .colab-df-container {\n",
              "      display:flex;\n",
              "      flex-wrap:wrap;\n",
              "      gap: 12px;\n",
              "    }\n",
              "\n",
              "    .colab-df-convert {\n",
              "      background-color: #E8F0FE;\n",
              "      border: none;\n",
              "      border-radius: 50%;\n",
              "      cursor: pointer;\n",
              "      display: none;\n",
              "      fill: #1967D2;\n",
              "      height: 32px;\n",
              "      padding: 0 0 0 0;\n",
              "      width: 32px;\n",
              "    }\n",
              "\n",
              "    .colab-df-convert:hover {\n",
              "      background-color: #E2EBFA;\n",
              "      box-shadow: 0px 1px 2px rgba(60, 64, 67, 0.3), 0px 1px 3px 1px rgba(60, 64, 67, 0.15);\n",
              "      fill: #174EA6;\n",
              "    }\n",
              "\n",
              "    [theme=dark] .colab-df-convert {\n",
              "      background-color: #3B4455;\n",
              "      fill: #D2E3FC;\n",
              "    }\n",
              "\n",
              "    [theme=dark] .colab-df-convert:hover {\n",
              "      background-color: #434B5C;\n",
              "      box-shadow: 0px 1px 3px 1px rgba(0, 0, 0, 0.15);\n",
              "      filter: drop-shadow(0px 1px 2px rgba(0, 0, 0, 0.3));\n",
              "      fill: #FFFFFF;\n",
              "    }\n",
              "  </style>\n",
              "\n",
              "      <script>\n",
              "        const buttonEl =\n",
              "          document.querySelector('#df-dca2b6eb-c1f1-4889-b2e9-d8e4fd163400 button.colab-df-convert');\n",
              "        buttonEl.style.display =\n",
              "          google.colab.kernel.accessAllowed ? 'block' : 'none';\n",
              "\n",
              "        async function convertToInteractive(key) {\n",
              "          const element = document.querySelector('#df-dca2b6eb-c1f1-4889-b2e9-d8e4fd163400');\n",
              "          const dataTable =\n",
              "            await google.colab.kernel.invokeFunction('convertToInteractive',\n",
              "                                                     [key], {});\n",
              "          if (!dataTable) return;\n",
              "\n",
              "          const docLinkHtml = 'Like what you see? Visit the ' +\n",
              "            '<a target=\"_blank\" href=https://colab.research.google.com/notebooks/data_table.ipynb>data table notebook</a>'\n",
              "            + ' to learn more about interactive tables.';\n",
              "          element.innerHTML = '';\n",
              "          dataTable['output_type'] = 'display_data';\n",
              "          await google.colab.output.renderOutput(dataTable, element);\n",
              "          const docLink = document.createElement('div');\n",
              "          docLink.innerHTML = docLinkHtml;\n",
              "          element.appendChild(docLink);\n",
              "        }\n",
              "      </script>\n",
              "    </div>\n",
              "  </div>\n",
              "  "
            ]
          },
          "metadata": {},
          "execution_count": 24
        }
      ]
    },
    {
      "cell_type": "code",
      "source": [
        "df.describe(include=['object']).T"
      ],
      "metadata": {
        "colab": {
          "base_uri": "https://localhost:8080/",
          "height": 379
        },
        "id": "C3Y4CeMNQ70q",
        "outputId": "4273dc59-f4d0-42a8-af89-e63952e8c394"
      },
      "execution_count": 26,
      "outputs": [
        {
          "output_type": "execute_result",
          "data": {
            "text/plain": [
              "                              count unique  \\\n",
              "Name                          17007  16847   \n",
              "Developer                     17007   8693   \n",
              "Age Rating                    17007      4   \n",
              "Languages                     16947    990   \n",
              "Primary Genre                 17007     21   \n",
              "Genres                        17007   1004   \n",
              "Original Release Date         17007   3084   \n",
              "Current Version Release Date  17007   2512   \n",
              "\n",
              "                                                                     top  \\\n",
              "Name                                                           Additions   \n",
              "Developer                     Tapps Tecnologia da Informa\\xe7\\xe3o Ltda.   \n",
              "Age Rating                                                            4+   \n",
              "Languages                                                             EN   \n",
              "Primary Genre                                                      Games   \n",
              "Genres                                           Games, Strategy, Puzzle   \n",
              "Original Release Date                                          2/09/2016   \n",
              "Current Version Release Date                                   1/08/2019   \n",
              "\n",
              "                               freq  \n",
              "Name                              2  \n",
              "Developer                       123  \n",
              "Age Rating                    11806  \n",
              "Languages                     12467  \n",
              "Primary Genre                 16286  \n",
              "Genres                          778  \n",
              "Original Release Date            75  \n",
              "Current Version Release Date    118  "
            ],
            "text/html": [
              "\n",
              "  <div id=\"df-52beb293-a2d1-475f-8194-a193f284fba7\">\n",
              "    <div class=\"colab-df-container\">\n",
              "      <div>\n",
              "<style scoped>\n",
              "    .dataframe tbody tr th:only-of-type {\n",
              "        vertical-align: middle;\n",
              "    }\n",
              "\n",
              "    .dataframe tbody tr th {\n",
              "        vertical-align: top;\n",
              "    }\n",
              "\n",
              "    .dataframe thead th {\n",
              "        text-align: right;\n",
              "    }\n",
              "</style>\n",
              "<table border=\"1\" class=\"dataframe\">\n",
              "  <thead>\n",
              "    <tr style=\"text-align: right;\">\n",
              "      <th></th>\n",
              "      <th>count</th>\n",
              "      <th>unique</th>\n",
              "      <th>top</th>\n",
              "      <th>freq</th>\n",
              "    </tr>\n",
              "  </thead>\n",
              "  <tbody>\n",
              "    <tr>\n",
              "      <th>Name</th>\n",
              "      <td>17007</td>\n",
              "      <td>16847</td>\n",
              "      <td>Additions</td>\n",
              "      <td>2</td>\n",
              "    </tr>\n",
              "    <tr>\n",
              "      <th>Developer</th>\n",
              "      <td>17007</td>\n",
              "      <td>8693</td>\n",
              "      <td>Tapps Tecnologia da Informa\\xe7\\xe3o Ltda.</td>\n",
              "      <td>123</td>\n",
              "    </tr>\n",
              "    <tr>\n",
              "      <th>Age Rating</th>\n",
              "      <td>17007</td>\n",
              "      <td>4</td>\n",
              "      <td>4+</td>\n",
              "      <td>11806</td>\n",
              "    </tr>\n",
              "    <tr>\n",
              "      <th>Languages</th>\n",
              "      <td>16947</td>\n",
              "      <td>990</td>\n",
              "      <td>EN</td>\n",
              "      <td>12467</td>\n",
              "    </tr>\n",
              "    <tr>\n",
              "      <th>Primary Genre</th>\n",
              "      <td>17007</td>\n",
              "      <td>21</td>\n",
              "      <td>Games</td>\n",
              "      <td>16286</td>\n",
              "    </tr>\n",
              "    <tr>\n",
              "      <th>Genres</th>\n",
              "      <td>17007</td>\n",
              "      <td>1004</td>\n",
              "      <td>Games, Strategy, Puzzle</td>\n",
              "      <td>778</td>\n",
              "    </tr>\n",
              "    <tr>\n",
              "      <th>Original Release Date</th>\n",
              "      <td>17007</td>\n",
              "      <td>3084</td>\n",
              "      <td>2/09/2016</td>\n",
              "      <td>75</td>\n",
              "    </tr>\n",
              "    <tr>\n",
              "      <th>Current Version Release Date</th>\n",
              "      <td>17007</td>\n",
              "      <td>2512</td>\n",
              "      <td>1/08/2019</td>\n",
              "      <td>118</td>\n",
              "    </tr>\n",
              "  </tbody>\n",
              "</table>\n",
              "</div>\n",
              "      <button class=\"colab-df-convert\" onclick=\"convertToInteractive('df-52beb293-a2d1-475f-8194-a193f284fba7')\"\n",
              "              title=\"Convert this dataframe to an interactive table.\"\n",
              "              style=\"display:none;\">\n",
              "        \n",
              "  <svg xmlns=\"http://www.w3.org/2000/svg\" height=\"24px\"viewBox=\"0 0 24 24\"\n",
              "       width=\"24px\">\n",
              "    <path d=\"M0 0h24v24H0V0z\" fill=\"none\"/>\n",
              "    <path d=\"M18.56 5.44l.94 2.06.94-2.06 2.06-.94-2.06-.94-.94-2.06-.94 2.06-2.06.94zm-11 1L8.5 8.5l.94-2.06 2.06-.94-2.06-.94L8.5 2.5l-.94 2.06-2.06.94zm10 10l.94 2.06.94-2.06 2.06-.94-2.06-.94-.94-2.06-.94 2.06-2.06.94z\"/><path d=\"M17.41 7.96l-1.37-1.37c-.4-.4-.92-.59-1.43-.59-.52 0-1.04.2-1.43.59L10.3 9.45l-7.72 7.72c-.78.78-.78 2.05 0 2.83L4 21.41c.39.39.9.59 1.41.59.51 0 1.02-.2 1.41-.59l7.78-7.78 2.81-2.81c.8-.78.8-2.07 0-2.86zM5.41 20L4 18.59l7.72-7.72 1.47 1.35L5.41 20z\"/>\n",
              "  </svg>\n",
              "      </button>\n",
              "      \n",
              "  <style>\n",
              "    .colab-df-container {\n",
              "      display:flex;\n",
              "      flex-wrap:wrap;\n",
              "      gap: 12px;\n",
              "    }\n",
              "\n",
              "    .colab-df-convert {\n",
              "      background-color: #E8F0FE;\n",
              "      border: none;\n",
              "      border-radius: 50%;\n",
              "      cursor: pointer;\n",
              "      display: none;\n",
              "      fill: #1967D2;\n",
              "      height: 32px;\n",
              "      padding: 0 0 0 0;\n",
              "      width: 32px;\n",
              "    }\n",
              "\n",
              "    .colab-df-convert:hover {\n",
              "      background-color: #E2EBFA;\n",
              "      box-shadow: 0px 1px 2px rgba(60, 64, 67, 0.3), 0px 1px 3px 1px rgba(60, 64, 67, 0.15);\n",
              "      fill: #174EA6;\n",
              "    }\n",
              "\n",
              "    [theme=dark] .colab-df-convert {\n",
              "      background-color: #3B4455;\n",
              "      fill: #D2E3FC;\n",
              "    }\n",
              "\n",
              "    [theme=dark] .colab-df-convert:hover {\n",
              "      background-color: #434B5C;\n",
              "      box-shadow: 0px 1px 3px 1px rgba(0, 0, 0, 0.15);\n",
              "      filter: drop-shadow(0px 1px 2px rgba(0, 0, 0, 0.3));\n",
              "      fill: #FFFFFF;\n",
              "    }\n",
              "  </style>\n",
              "\n",
              "      <script>\n",
              "        const buttonEl =\n",
              "          document.querySelector('#df-52beb293-a2d1-475f-8194-a193f284fba7 button.colab-df-convert');\n",
              "        buttonEl.style.display =\n",
              "          google.colab.kernel.accessAllowed ? 'block' : 'none';\n",
              "\n",
              "        async function convertToInteractive(key) {\n",
              "          const element = document.querySelector('#df-52beb293-a2d1-475f-8194-a193f284fba7');\n",
              "          const dataTable =\n",
              "            await google.colab.kernel.invokeFunction('convertToInteractive',\n",
              "                                                     [key], {});\n",
              "          if (!dataTable) return;\n",
              "\n",
              "          const docLinkHtml = 'Like what you see? Visit the ' +\n",
              "            '<a target=\"_blank\" href=https://colab.research.google.com/notebooks/data_table.ipynb>data table notebook</a>'\n",
              "            + ' to learn more about interactive tables.';\n",
              "          element.innerHTML = '';\n",
              "          dataTable['output_type'] = 'display_data';\n",
              "          await google.colab.output.renderOutput(dataTable, element);\n",
              "          const docLink = document.createElement('div');\n",
              "          docLink.innerHTML = docLinkHtml;\n",
              "          element.appendChild(docLink);\n",
              "        }\n",
              "      </script>\n",
              "    </div>\n",
              "  </div>\n",
              "  "
            ]
          },
          "metadata": {},
          "execution_count": 26
        }
      ]
    },
    {
      "cell_type": "code",
      "source": [
        "df.columns"
      ],
      "metadata": {
        "colab": {
          "base_uri": "https://localhost:8080/"
        },
        "id": "JT_WL5eZRLTH",
        "outputId": "f77a930c-5096-4697-8d10-0ec1a56e2524"
      },
      "execution_count": 27,
      "outputs": [
        {
          "output_type": "execute_result",
          "data": {
            "text/plain": [
              "Index(['Name', 'Average User Rating', 'User Rating Count', 'Price',\n",
              "       'Developer', 'Age Rating', 'Languages', 'Size', 'Primary Genre',\n",
              "       'Genres', 'Original Release Date', 'Current Version Release Date'],\n",
              "      dtype='object')"
            ]
          },
          "metadata": {},
          "execution_count": 27
        }
      ]
    },
    {
      "cell_type": "code",
      "source": [
        "df.columns = [col.lower().replace(' ', '_') for col in df.columns]\n",
        "df.head()"
      ],
      "metadata": {
        "colab": {
          "base_uri": "https://localhost:8080/",
          "height": 597
        },
        "id": "gRYdip4mRay5",
        "outputId": "bf8c3ba2-a51d-4ca9-913c-ce47eec6891a"
      },
      "execution_count": 31,
      "outputs": [
        {
          "output_type": "execute_result",
          "data": {
            "text/plain": [
              "                    name  average_user_rating  user_rating_count  price  \\\n",
              "ID                                                                        \n",
              "284921427         Sudoku                  4.0             3553.0   2.99   \n",
              "284926400        Reversi                  3.5              284.0   1.99   \n",
              "284946595        Morocco                  3.0             8376.0   0.00   \n",
              "285755462  Sudoku (Free)                  3.5           190394.0   0.00   \n",
              "285831220   Senet Deluxe                  3.5               28.0   2.99   \n",
              "\n",
              "                          developer age_rating  \\\n",
              "ID                                               \n",
              "284921427  Mighty Mighty Good Games         4+   \n",
              "284926400          Kiss The Machine         4+   \n",
              "284946595               Bayou Games         4+   \n",
              "285755462  Mighty Mighty Good Games         4+   \n",
              "285831220           RoGame Software         4+   \n",
              "\n",
              "                                                   languages        size  \\\n",
              "ID                                                                         \n",
              "284921427  DA, NL, EN, FI, FR, DE, IT, JA, KO, NB, PL, PT...  15853568.0   \n",
              "284926400                                                 EN  12328960.0   \n",
              "284946595                                                 EN    674816.0   \n",
              "285755462  DA, NL, EN, FI, FR, DE, IT, JA, KO, NB, PL, PT...  21552128.0   \n",
              "285831220  DA, NL, EN, FR, DE, EL, IT, JA, KO, NO, PT, RU...  34689024.0   \n",
              "\n",
              "          primary_genre                             genres  \\\n",
              "ID                                                           \n",
              "284921427         Games            Games, Strategy, Puzzle   \n",
              "284926400         Games             Games, Strategy, Board   \n",
              "284946595         Games             Games, Board, Strategy   \n",
              "285755462         Games            Games, Strategy, Puzzle   \n",
              "285831220         Games  Games, Strategy, Board, Education   \n",
              "\n",
              "          original_release_date current_version_release_date  \n",
              "ID                                                            \n",
              "284921427            11/07/2008                   30/05/2017  \n",
              "284926400            11/07/2008                   17/05/2018  \n",
              "284946595            11/07/2008                    5/09/2017  \n",
              "285755462            23/07/2008                   30/05/2017  \n",
              "285831220            18/07/2008                   22/07/2018  "
            ],
            "text/html": [
              "\n",
              "  <div id=\"df-1fc558ea-06e9-49a1-92be-973c9ae95c47\">\n",
              "    <div class=\"colab-df-container\">\n",
              "      <div>\n",
              "<style scoped>\n",
              "    .dataframe tbody tr th:only-of-type {\n",
              "        vertical-align: middle;\n",
              "    }\n",
              "\n",
              "    .dataframe tbody tr th {\n",
              "        vertical-align: top;\n",
              "    }\n",
              "\n",
              "    .dataframe thead th {\n",
              "        text-align: right;\n",
              "    }\n",
              "</style>\n",
              "<table border=\"1\" class=\"dataframe\">\n",
              "  <thead>\n",
              "    <tr style=\"text-align: right;\">\n",
              "      <th></th>\n",
              "      <th>name</th>\n",
              "      <th>average_user_rating</th>\n",
              "      <th>user_rating_count</th>\n",
              "      <th>price</th>\n",
              "      <th>developer</th>\n",
              "      <th>age_rating</th>\n",
              "      <th>languages</th>\n",
              "      <th>size</th>\n",
              "      <th>primary_genre</th>\n",
              "      <th>genres</th>\n",
              "      <th>original_release_date</th>\n",
              "      <th>current_version_release_date</th>\n",
              "    </tr>\n",
              "    <tr>\n",
              "      <th>ID</th>\n",
              "      <th></th>\n",
              "      <th></th>\n",
              "      <th></th>\n",
              "      <th></th>\n",
              "      <th></th>\n",
              "      <th></th>\n",
              "      <th></th>\n",
              "      <th></th>\n",
              "      <th></th>\n",
              "      <th></th>\n",
              "      <th></th>\n",
              "      <th></th>\n",
              "    </tr>\n",
              "  </thead>\n",
              "  <tbody>\n",
              "    <tr>\n",
              "      <th>284921427</th>\n",
              "      <td>Sudoku</td>\n",
              "      <td>4.0</td>\n",
              "      <td>3553.0</td>\n",
              "      <td>2.99</td>\n",
              "      <td>Mighty Mighty Good Games</td>\n",
              "      <td>4+</td>\n",
              "      <td>DA, NL, EN, FI, FR, DE, IT, JA, KO, NB, PL, PT...</td>\n",
              "      <td>15853568.0</td>\n",
              "      <td>Games</td>\n",
              "      <td>Games, Strategy, Puzzle</td>\n",
              "      <td>11/07/2008</td>\n",
              "      <td>30/05/2017</td>\n",
              "    </tr>\n",
              "    <tr>\n",
              "      <th>284926400</th>\n",
              "      <td>Reversi</td>\n",
              "      <td>3.5</td>\n",
              "      <td>284.0</td>\n",
              "      <td>1.99</td>\n",
              "      <td>Kiss The Machine</td>\n",
              "      <td>4+</td>\n",
              "      <td>EN</td>\n",
              "      <td>12328960.0</td>\n",
              "      <td>Games</td>\n",
              "      <td>Games, Strategy, Board</td>\n",
              "      <td>11/07/2008</td>\n",
              "      <td>17/05/2018</td>\n",
              "    </tr>\n",
              "    <tr>\n",
              "      <th>284946595</th>\n",
              "      <td>Morocco</td>\n",
              "      <td>3.0</td>\n",
              "      <td>8376.0</td>\n",
              "      <td>0.00</td>\n",
              "      <td>Bayou Games</td>\n",
              "      <td>4+</td>\n",
              "      <td>EN</td>\n",
              "      <td>674816.0</td>\n",
              "      <td>Games</td>\n",
              "      <td>Games, Board, Strategy</td>\n",
              "      <td>11/07/2008</td>\n",
              "      <td>5/09/2017</td>\n",
              "    </tr>\n",
              "    <tr>\n",
              "      <th>285755462</th>\n",
              "      <td>Sudoku (Free)</td>\n",
              "      <td>3.5</td>\n",
              "      <td>190394.0</td>\n",
              "      <td>0.00</td>\n",
              "      <td>Mighty Mighty Good Games</td>\n",
              "      <td>4+</td>\n",
              "      <td>DA, NL, EN, FI, FR, DE, IT, JA, KO, NB, PL, PT...</td>\n",
              "      <td>21552128.0</td>\n",
              "      <td>Games</td>\n",
              "      <td>Games, Strategy, Puzzle</td>\n",
              "      <td>23/07/2008</td>\n",
              "      <td>30/05/2017</td>\n",
              "    </tr>\n",
              "    <tr>\n",
              "      <th>285831220</th>\n",
              "      <td>Senet Deluxe</td>\n",
              "      <td>3.5</td>\n",
              "      <td>28.0</td>\n",
              "      <td>2.99</td>\n",
              "      <td>RoGame Software</td>\n",
              "      <td>4+</td>\n",
              "      <td>DA, NL, EN, FR, DE, EL, IT, JA, KO, NO, PT, RU...</td>\n",
              "      <td>34689024.0</td>\n",
              "      <td>Games</td>\n",
              "      <td>Games, Strategy, Board, Education</td>\n",
              "      <td>18/07/2008</td>\n",
              "      <td>22/07/2018</td>\n",
              "    </tr>\n",
              "  </tbody>\n",
              "</table>\n",
              "</div>\n",
              "      <button class=\"colab-df-convert\" onclick=\"convertToInteractive('df-1fc558ea-06e9-49a1-92be-973c9ae95c47')\"\n",
              "              title=\"Convert this dataframe to an interactive table.\"\n",
              "              style=\"display:none;\">\n",
              "        \n",
              "  <svg xmlns=\"http://www.w3.org/2000/svg\" height=\"24px\"viewBox=\"0 0 24 24\"\n",
              "       width=\"24px\">\n",
              "    <path d=\"M0 0h24v24H0V0z\" fill=\"none\"/>\n",
              "    <path d=\"M18.56 5.44l.94 2.06.94-2.06 2.06-.94-2.06-.94-.94-2.06-.94 2.06-2.06.94zm-11 1L8.5 8.5l.94-2.06 2.06-.94-2.06-.94L8.5 2.5l-.94 2.06-2.06.94zm10 10l.94 2.06.94-2.06 2.06-.94-2.06-.94-.94-2.06-.94 2.06-2.06.94z\"/><path d=\"M17.41 7.96l-1.37-1.37c-.4-.4-.92-.59-1.43-.59-.52 0-1.04.2-1.43.59L10.3 9.45l-7.72 7.72c-.78.78-.78 2.05 0 2.83L4 21.41c.39.39.9.59 1.41.59.51 0 1.02-.2 1.41-.59l7.78-7.78 2.81-2.81c.8-.78.8-2.07 0-2.86zM5.41 20L4 18.59l7.72-7.72 1.47 1.35L5.41 20z\"/>\n",
              "  </svg>\n",
              "      </button>\n",
              "      \n",
              "  <style>\n",
              "    .colab-df-container {\n",
              "      display:flex;\n",
              "      flex-wrap:wrap;\n",
              "      gap: 12px;\n",
              "    }\n",
              "\n",
              "    .colab-df-convert {\n",
              "      background-color: #E8F0FE;\n",
              "      border: none;\n",
              "      border-radius: 50%;\n",
              "      cursor: pointer;\n",
              "      display: none;\n",
              "      fill: #1967D2;\n",
              "      height: 32px;\n",
              "      padding: 0 0 0 0;\n",
              "      width: 32px;\n",
              "    }\n",
              "\n",
              "    .colab-df-convert:hover {\n",
              "      background-color: #E2EBFA;\n",
              "      box-shadow: 0px 1px 2px rgba(60, 64, 67, 0.3), 0px 1px 3px 1px rgba(60, 64, 67, 0.15);\n",
              "      fill: #174EA6;\n",
              "    }\n",
              "\n",
              "    [theme=dark] .colab-df-convert {\n",
              "      background-color: #3B4455;\n",
              "      fill: #D2E3FC;\n",
              "    }\n",
              "\n",
              "    [theme=dark] .colab-df-convert:hover {\n",
              "      background-color: #434B5C;\n",
              "      box-shadow: 0px 1px 3px 1px rgba(0, 0, 0, 0.15);\n",
              "      filter: drop-shadow(0px 1px 2px rgba(0, 0, 0, 0.3));\n",
              "      fill: #FFFFFF;\n",
              "    }\n",
              "  </style>\n",
              "\n",
              "      <script>\n",
              "        const buttonEl =\n",
              "          document.querySelector('#df-1fc558ea-06e9-49a1-92be-973c9ae95c47 button.colab-df-convert');\n",
              "        buttonEl.style.display =\n",
              "          google.colab.kernel.accessAllowed ? 'block' : 'none';\n",
              "\n",
              "        async function convertToInteractive(key) {\n",
              "          const element = document.querySelector('#df-1fc558ea-06e9-49a1-92be-973c9ae95c47');\n",
              "          const dataTable =\n",
              "            await google.colab.kernel.invokeFunction('convertToInteractive',\n",
              "                                                     [key], {});\n",
              "          if (!dataTable) return;\n",
              "\n",
              "          const docLinkHtml = 'Like what you see? Visit the ' +\n",
              "            '<a target=\"_blank\" href=https://colab.research.google.com/notebooks/data_table.ipynb>data table notebook</a>'\n",
              "            + ' to learn more about interactive tables.';\n",
              "          element.innerHTML = '';\n",
              "          dataTable['output_type'] = 'display_data';\n",
              "          await google.colab.output.renderOutput(dataTable, element);\n",
              "          const docLink = document.createElement('div');\n",
              "          docLink.innerHTML = docLinkHtml;\n",
              "          element.appendChild(docLink);\n",
              "        }\n",
              "      </script>\n",
              "    </div>\n",
              "  </div>\n",
              "  "
            ]
          },
          "metadata": {},
          "execution_count": 31
        }
      ]
    },
    {
      "cell_type": "code",
      "source": [
        "df.average_user_rating\n"
      ],
      "metadata": {
        "colab": {
          "base_uri": "https://localhost:8080/"
        },
        "id": "yR8mnr9XRwFX",
        "outputId": "32142dd2-cbf4-468f-fe79-ee94655cfe53"
      },
      "execution_count": 32,
      "outputs": [
        {
          "output_type": "execute_result",
          "data": {
            "text/plain": [
              "ID\n",
              "284921427     4.0\n",
              "284926400     3.5\n",
              "284946595     3.0\n",
              "285755462     3.5\n",
              "285831220     3.5\n",
              "             ... \n",
              "1474626442    NaN\n",
              "1474919257    NaN\n",
              "1474962324    NaN\n",
              "1474963671    NaN\n",
              "1475076711    NaN\n",
              "Name: average_user_rating, Length: 17007, dtype: float64"
            ]
          },
          "metadata": {},
          "execution_count": 32
        }
      ]
    },
    {
      "cell_type": "code",
      "source": [
        "df.head(2)"
      ],
      "metadata": {
        "colab": {
          "base_uri": "https://localhost:8080/",
          "height": 312
        },
        "id": "dpFiT__pRt6i",
        "outputId": "e677a439-a25f-4b54-9ed8-ef7422c09a88"
      },
      "execution_count": 33,
      "outputs": [
        {
          "output_type": "execute_result",
          "data": {
            "text/plain": [
              "              name  average_user_rating  user_rating_count  price  \\\n",
              "ID                                                                  \n",
              "284921427   Sudoku                  4.0             3553.0   2.99   \n",
              "284926400  Reversi                  3.5              284.0   1.99   \n",
              "\n",
              "                          developer age_rating  \\\n",
              "ID                                               \n",
              "284921427  Mighty Mighty Good Games         4+   \n",
              "284926400          Kiss The Machine         4+   \n",
              "\n",
              "                                                   languages        size  \\\n",
              "ID                                                                         \n",
              "284921427  DA, NL, EN, FI, FR, DE, IT, JA, KO, NB, PL, PT...  15853568.0   \n",
              "284926400                                                 EN  12328960.0   \n",
              "\n",
              "          primary_genre                   genres original_release_date  \\\n",
              "ID                                                                       \n",
              "284921427         Games  Games, Strategy, Puzzle            11/07/2008   \n",
              "284926400         Games   Games, Strategy, Board            11/07/2008   \n",
              "\n",
              "          current_version_release_date  \n",
              "ID                                      \n",
              "284921427                   30/05/2017  \n",
              "284926400                   17/05/2018  "
            ],
            "text/html": [
              "\n",
              "  <div id=\"df-7d944396-e7cb-4722-b5a3-c87579240522\">\n",
              "    <div class=\"colab-df-container\">\n",
              "      <div>\n",
              "<style scoped>\n",
              "    .dataframe tbody tr th:only-of-type {\n",
              "        vertical-align: middle;\n",
              "    }\n",
              "\n",
              "    .dataframe tbody tr th {\n",
              "        vertical-align: top;\n",
              "    }\n",
              "\n",
              "    .dataframe thead th {\n",
              "        text-align: right;\n",
              "    }\n",
              "</style>\n",
              "<table border=\"1\" class=\"dataframe\">\n",
              "  <thead>\n",
              "    <tr style=\"text-align: right;\">\n",
              "      <th></th>\n",
              "      <th>name</th>\n",
              "      <th>average_user_rating</th>\n",
              "      <th>user_rating_count</th>\n",
              "      <th>price</th>\n",
              "      <th>developer</th>\n",
              "      <th>age_rating</th>\n",
              "      <th>languages</th>\n",
              "      <th>size</th>\n",
              "      <th>primary_genre</th>\n",
              "      <th>genres</th>\n",
              "      <th>original_release_date</th>\n",
              "      <th>current_version_release_date</th>\n",
              "    </tr>\n",
              "    <tr>\n",
              "      <th>ID</th>\n",
              "      <th></th>\n",
              "      <th></th>\n",
              "      <th></th>\n",
              "      <th></th>\n",
              "      <th></th>\n",
              "      <th></th>\n",
              "      <th></th>\n",
              "      <th></th>\n",
              "      <th></th>\n",
              "      <th></th>\n",
              "      <th></th>\n",
              "      <th></th>\n",
              "    </tr>\n",
              "  </thead>\n",
              "  <tbody>\n",
              "    <tr>\n",
              "      <th>284921427</th>\n",
              "      <td>Sudoku</td>\n",
              "      <td>4.0</td>\n",
              "      <td>3553.0</td>\n",
              "      <td>2.99</td>\n",
              "      <td>Mighty Mighty Good Games</td>\n",
              "      <td>4+</td>\n",
              "      <td>DA, NL, EN, FI, FR, DE, IT, JA, KO, NB, PL, PT...</td>\n",
              "      <td>15853568.0</td>\n",
              "      <td>Games</td>\n",
              "      <td>Games, Strategy, Puzzle</td>\n",
              "      <td>11/07/2008</td>\n",
              "      <td>30/05/2017</td>\n",
              "    </tr>\n",
              "    <tr>\n",
              "      <th>284926400</th>\n",
              "      <td>Reversi</td>\n",
              "      <td>3.5</td>\n",
              "      <td>284.0</td>\n",
              "      <td>1.99</td>\n",
              "      <td>Kiss The Machine</td>\n",
              "      <td>4+</td>\n",
              "      <td>EN</td>\n",
              "      <td>12328960.0</td>\n",
              "      <td>Games</td>\n",
              "      <td>Games, Strategy, Board</td>\n",
              "      <td>11/07/2008</td>\n",
              "      <td>17/05/2018</td>\n",
              "    </tr>\n",
              "  </tbody>\n",
              "</table>\n",
              "</div>\n",
              "      <button class=\"colab-df-convert\" onclick=\"convertToInteractive('df-7d944396-e7cb-4722-b5a3-c87579240522')\"\n",
              "              title=\"Convert this dataframe to an interactive table.\"\n",
              "              style=\"display:none;\">\n",
              "        \n",
              "  <svg xmlns=\"http://www.w3.org/2000/svg\" height=\"24px\"viewBox=\"0 0 24 24\"\n",
              "       width=\"24px\">\n",
              "    <path d=\"M0 0h24v24H0V0z\" fill=\"none\"/>\n",
              "    <path d=\"M18.56 5.44l.94 2.06.94-2.06 2.06-.94-2.06-.94-.94-2.06-.94 2.06-2.06.94zm-11 1L8.5 8.5l.94-2.06 2.06-.94-2.06-.94L8.5 2.5l-.94 2.06-2.06.94zm10 10l.94 2.06.94-2.06 2.06-.94-2.06-.94-.94-2.06-.94 2.06-2.06.94z\"/><path d=\"M17.41 7.96l-1.37-1.37c-.4-.4-.92-.59-1.43-.59-.52 0-1.04.2-1.43.59L10.3 9.45l-7.72 7.72c-.78.78-.78 2.05 0 2.83L4 21.41c.39.39.9.59 1.41.59.51 0 1.02-.2 1.41-.59l7.78-7.78 2.81-2.81c.8-.78.8-2.07 0-2.86zM5.41 20L4 18.59l7.72-7.72 1.47 1.35L5.41 20z\"/>\n",
              "  </svg>\n",
              "      </button>\n",
              "      \n",
              "  <style>\n",
              "    .colab-df-container {\n",
              "      display:flex;\n",
              "      flex-wrap:wrap;\n",
              "      gap: 12px;\n",
              "    }\n",
              "\n",
              "    .colab-df-convert {\n",
              "      background-color: #E8F0FE;\n",
              "      border: none;\n",
              "      border-radius: 50%;\n",
              "      cursor: pointer;\n",
              "      display: none;\n",
              "      fill: #1967D2;\n",
              "      height: 32px;\n",
              "      padding: 0 0 0 0;\n",
              "      width: 32px;\n",
              "    }\n",
              "\n",
              "    .colab-df-convert:hover {\n",
              "      background-color: #E2EBFA;\n",
              "      box-shadow: 0px 1px 2px rgba(60, 64, 67, 0.3), 0px 1px 3px 1px rgba(60, 64, 67, 0.15);\n",
              "      fill: #174EA6;\n",
              "    }\n",
              "\n",
              "    [theme=dark] .colab-df-convert {\n",
              "      background-color: #3B4455;\n",
              "      fill: #D2E3FC;\n",
              "    }\n",
              "\n",
              "    [theme=dark] .colab-df-convert:hover {\n",
              "      background-color: #434B5C;\n",
              "      box-shadow: 0px 1px 3px 1px rgba(0, 0, 0, 0.15);\n",
              "      filter: drop-shadow(0px 1px 2px rgba(0, 0, 0, 0.3));\n",
              "      fill: #FFFFFF;\n",
              "    }\n",
              "  </style>\n",
              "\n",
              "      <script>\n",
              "        const buttonEl =\n",
              "          document.querySelector('#df-7d944396-e7cb-4722-b5a3-c87579240522 button.colab-df-convert');\n",
              "        buttonEl.style.display =\n",
              "          google.colab.kernel.accessAllowed ? 'block' : 'none';\n",
              "\n",
              "        async function convertToInteractive(key) {\n",
              "          const element = document.querySelector('#df-7d944396-e7cb-4722-b5a3-c87579240522');\n",
              "          const dataTable =\n",
              "            await google.colab.kernel.invokeFunction('convertToInteractive',\n",
              "                                                     [key], {});\n",
              "          if (!dataTable) return;\n",
              "\n",
              "          const docLinkHtml = 'Like what you see? Visit the ' +\n",
              "            '<a target=\"_blank\" href=https://colab.research.google.com/notebooks/data_table.ipynb>data table notebook</a>'\n",
              "            + ' to learn more about interactive tables.';\n",
              "          element.innerHTML = '';\n",
              "          dataTable['output_type'] = 'display_data';\n",
              "          await google.colab.output.renderOutput(dataTable, element);\n",
              "          const docLink = document.createElement('div');\n",
              "          docLink.innerHTML = docLinkHtml;\n",
              "          element.appendChild(docLink);\n",
              "        }\n",
              "      </script>\n",
              "    </div>\n",
              "  </div>\n",
              "  "
            ]
          },
          "metadata": {},
          "execution_count": 33
        }
      ]
    },
    {
      "cell_type": "code",
      "source": [
        "df.primary_genre.value_counts()"
      ],
      "metadata": {
        "colab": {
          "base_uri": "https://localhost:8080/"
        },
        "id": "8ZmXr9KLSHvh",
        "outputId": "32e4d61c-3e3d-49d7-b902-6d4d49b7d86b"
      },
      "execution_count": 35,
      "outputs": [
        {
          "output_type": "execute_result",
          "data": {
            "text/plain": [
              "Games                16286\n",
              "Education              222\n",
              "Entertainment          198\n",
              "Utilities               77\n",
              "Sports                  60\n",
              "Reference               32\n",
              "Stickers                29\n",
              "Finance                 18\n",
              "Business                16\n",
              "Productivity            15\n",
              "Lifestyle               10\n",
              "Book                     9\n",
              "Social Networking        9\n",
              "News                     7\n",
              "Health & Fitness         5\n",
              "Food & Drink             4\n",
              "Music                    3\n",
              "Navigation               3\n",
              "Medical                  2\n",
              "Travel                   1\n",
              "Shopping                 1\n",
              "Name: primary_genre, dtype: int64"
            ]
          },
          "metadata": {},
          "execution_count": 35
        }
      ]
    },
    {
      "cell_type": "code",
      "source": [
        "df.primary_genre.value_counts().nlargest(5)"
      ],
      "metadata": {
        "colab": {
          "base_uri": "https://localhost:8080/"
        },
        "id": "771SLKARSUvE",
        "outputId": "a1918681-60b7-4879-acc7-d3a65f0dfa69"
      },
      "execution_count": 36,
      "outputs": [
        {
          "output_type": "execute_result",
          "data": {
            "text/plain": [
              "Games            16286\n",
              "Education          222\n",
              "Entertainment      198\n",
              "Utilities           77\n",
              "Sports              60\n",
              "Name: primary_genre, dtype: int64"
            ]
          },
          "metadata": {},
          "execution_count": 36
        }
      ]
    },
    {
      "cell_type": "code",
      "source": [
        "df.primary_genre.value_counts().nlargest(5).index"
      ],
      "metadata": {
        "colab": {
          "base_uri": "https://localhost:8080/"
        },
        "id": "D5nnpoe5TrUU",
        "outputId": "94f0af7b-3ba4-463e-8a60-5d7bd8fb4497"
      },
      "execution_count": 37,
      "outputs": [
        {
          "output_type": "execute_result",
          "data": {
            "text/plain": [
              "Index(['Games', 'Education', 'Entertainment', 'Utilities', 'Sports'], dtype='object')"
            ]
          },
          "metadata": {},
          "execution_count": 37
        }
      ]
    },
    {
      "cell_type": "code",
      "source": [
        "list(df.primary_genre.value_counts().nlargest(5).index)"
      ],
      "metadata": {
        "colab": {
          "base_uri": "https://localhost:8080/"
        },
        "id": "GnKHVj1GTvJ1",
        "outputId": "09411b1c-329b-4f1c-d927-bd9396b5d425"
      },
      "execution_count": 38,
      "outputs": [
        {
          "output_type": "execute_result",
          "data": {
            "text/plain": [
              "['Games', 'Education', 'Entertainment', 'Utilities', 'Sports']"
            ]
          },
          "metadata": {},
          "execution_count": 38
        }
      ]
    },
    {
      "cell_type": "code",
      "source": [
        "df.age_rating.value_counts()"
      ],
      "metadata": {
        "colab": {
          "base_uri": "https://localhost:8080/"
        },
        "id": "hQ5C7H8XTxqP",
        "outputId": "6bf9bec5-42ee-46b6-9dab-549bbfedef55"
      },
      "execution_count": 40,
      "outputs": [
        {
          "output_type": "execute_result",
          "data": {
            "text/plain": [
              "4+     11806\n",
              "9+      2481\n",
              "12+     2055\n",
              "17+      665\n",
              "Name: age_rating, dtype: int64"
            ]
          },
          "metadata": {},
          "execution_count": 40
        }
      ]
    },
    {
      "cell_type": "code",
      "source": [
        "type(df.age_rating.value_counts())"
      ],
      "metadata": {
        "colab": {
          "base_uri": "https://localhost:8080/"
        },
        "id": "1LlX_u82T3qP",
        "outputId": "c7bf8377-5218-4966-c57f-301748cdc111"
      },
      "execution_count": 41,
      "outputs": [
        {
          "output_type": "execute_result",
          "data": {
            "text/plain": [
              "pandas.core.series.Series"
            ]
          },
          "metadata": {},
          "execution_count": 41
        }
      ]
    },
    {
      "cell_type": "code",
      "source": [
        "import seaborn as sns\n",
        "sns.set()\n",
        "_ = df.age_rating.value_counts().plot(kind='bar')"
      ],
      "metadata": {
        "colab": {
          "base_uri": "https://localhost:8080/",
          "height": 281
        },
        "id": "drvYhdN0UFQ_",
        "outputId": "205cf006-573b-4213-b6f3-397e175d871c"
      },
      "execution_count": 47,
      "outputs": [
        {
          "output_type": "display_data",
          "data": {
            "text/plain": [
              "<Figure size 432x288 with 1 Axes>"
            ],
            "image/png": "[encoded data removed]"
          },
          "metadata": {}
        }
      ]
    },
    {
      "cell_type": "code",
      "source": [
        "_ = df.age_rating.value_counts().plot(kind='pie')"
      ],
      "metadata": {
        "colab": {
          "base_uri": "https://localhost:8080/",
          "height": 248
        },
        "id": "H5fCqnsKUQd2",
        "outputId": "2bbbe4d6-1d3e-4ed1-b9ad-fc05f46378b8"
      },
      "execution_count": 46,
      "outputs": [
        {
          "output_type": "display_data",
          "data": {
            "text/plain": [
              "<Figure size 432x288 with 1 Axes>"
            ],
            "image/png": "[encoded data removed]"
          },
          "metadata": {}
        }
      ]
    },
    {
      "cell_type": "code",
      "source": [
        "df.price"
      ],
      "metadata": {
        "colab": {
          "base_uri": "https://localhost:8080/"
        },
        "id": "RdQ3yqdeUgFU",
        "outputId": "23c6a0c8-4703-4096-e1ff-12b24e7b8c45"
      },
      "execution_count": 48,
      "outputs": [
        {
          "output_type": "execute_result",
          "data": {
            "text/plain": [
              "ID\n",
              "284921427     2.99\n",
              "284926400     1.99\n",
              "284946595     0.00\n",
              "285755462     0.00\n",
              "285831220     2.99\n",
              "              ... \n",
              "1474626442    0.00\n",
              "1474919257    0.00\n",
              "1474962324    0.00\n",
              "1474963671    0.00\n",
              "1475076711    0.00\n",
              "Name: price, Length: 17007, dtype: float64"
            ]
          },
          "metadata": {},
          "execution_count": 48
        }
      ]
    },
    {
      "cell_type": "code",
      "source": [
        "df.price.value_counts()"
      ],
      "metadata": {
        "colab": {
          "base_uri": "https://localhost:8080/"
        },
        "id": "uWqBEwkCUl-r",
        "outputId": "2db9667c-42d4-402e-86e0-857af7cf9c7d"
      },
      "execution_count": 50,
      "outputs": [
        {
          "output_type": "execute_result",
          "data": {
            "text/plain": [
              "0.00      14212\n",
              "0.99       1078\n",
              "1.99        515\n",
              "2.99        471\n",
              "4.99        237\n",
              "3.99        163\n",
              "9.99         88\n",
              "11.99        59\n",
              "5.99         42\n",
              "6.99         32\n",
              "179.99       30\n",
              "7.99         17\n",
              "8.99         13\n",
              "19.99         9\n",
              "14.99         4\n",
              "12.99         3\n",
              "16.99         2\n",
              "29.99         2\n",
              "139.99        1\n",
              "99.99         1\n",
              "37.99         1\n",
              "36.99         1\n",
              "18.99         1\n",
              "59.99         1\n",
              "Name: price, dtype: int64"
            ]
          },
          "metadata": {},
          "execution_count": 50
        }
      ]
    },
    {
      "cell_type": "code",
      "source": [
        "df.average_user_rating.value_counts()"
      ],
      "metadata": {
        "colab": {
          "base_uri": "https://localhost:8080/"
        },
        "id": "bEOHWeMrUtqr",
        "outputId": "0623a103-ae63-4240-cf6f-614ede1bda3b"
      },
      "execution_count": 53,
      "outputs": [
        {
          "output_type": "execute_result",
          "data": {
            "text/plain": [
              "4.5    2861\n",
              "4.0    1722\n",
              "5.0     990\n",
              "3.5     925\n",
              "3.0     514\n",
              "2.5     317\n",
              "2.0     158\n",
              "1.5      60\n",
              "1.0      14\n",
              "Name: average_user_rating, dtype: int64"
            ]
          },
          "metadata": {},
          "execution_count": 53
        }
      ]
    },
    {
      "cell_type": "code",
      "source": [
        "df.languages"
      ],
      "metadata": {
        "colab": {
          "base_uri": "https://localhost:8080/"
        },
        "id": "P6OuEAwiU9C0",
        "outputId": "0f917e02-9dd8-4692-adf2-b304da639d52"
      },
      "execution_count": 55,
      "outputs": [
        {
          "output_type": "execute_result",
          "data": {
            "text/plain": [
              "ID\n",
              "284921427     DA, NL, EN, FI, FR, DE, IT, JA, KO, NB, PL, PT...\n",
              "284926400                                                    EN\n",
              "284946595                                                    EN\n",
              "285755462     DA, NL, EN, FI, FR, DE, IT, JA, KO, NB, PL, PT...\n",
              "285831220     DA, NL, EN, FR, DE, EL, IT, JA, KO, NO, PT, RU...\n",
              "                                    ...                        \n",
              "1474626442                                                   EN\n",
              "1474919257                                                   EN\n",
              "1474962324                                                   EN\n",
              "1474963671                                                   EN\n",
              "1475076711                                               EN, ZH\n",
              "Name: languages, Length: 17007, dtype: object"
            ]
          },
          "metadata": {},
          "execution_count": 55
        }
      ]
    },
    {
      "cell_type": "code",
      "source": [
        "df.languages.value_counts()"
      ],
      "metadata": {
        "colab": {
          "base_uri": "https://localhost:8080/"
        },
        "id": "XxypWeWKVI4d",
        "outputId": "38b95d2c-ba06-40b6-dbff-319ae8fc7bc4"
      },
      "execution_count": 56,
      "outputs": [
        {
          "output_type": "execute_result",
          "data": {
            "text/plain": [
              "EN                                                                            12467\n",
              "EN, ZH                                                                          354\n",
              "CS, NL, EN, FR, DE, IT, JA, KO, PL, PT, RU, ZH, ES, SV, ZH, TR                  277\n",
              "EN, ZH, ZH                                                                      248\n",
              "EN, DE                                                                          147\n",
              "                                                                              ...  \n",
              "DA, NL, EN, FI, FR, DE, IT, JA, KO, NO, PL, PT, RU, ZH, ES, SV, ZH, TR, UK        1\n",
              "EN, FR, IT, JA, KO, PT, RU, ES, TR                                                1\n",
              "DA, NL, EN, FR, DE, IT, NB, PL, PT, ZH, ES, SV, ZH, TR                            1\n",
              "EN, PT, ZH                                                                        1\n",
              "AR, NL, EN, FR, DE, ID, IT, JA, KO, PT, RU, ZH, ES, SV, TH, ZH, TR, VI            1\n",
              "Name: languages, Length: 990, dtype: int64"
            ]
          },
          "metadata": {},
          "execution_count": 56
        }
      ]
    },
    {
      "cell_type": "code",
      "source": [
        "df.languages.str.split(', ')"
      ],
      "metadata": {
        "colab": {
          "base_uri": "https://localhost:8080/"
        },
        "id": "pktBP2SNVOIS",
        "outputId": "12f270fd-ab9b-4da9-d831-ccfba20e97ca"
      },
      "execution_count": 58,
      "outputs": [
        {
          "output_type": "execute_result",
          "data": {
            "text/plain": [
              "ID\n",
              "284921427     [DA, NL, EN, FI, FR, DE, IT, JA, KO, NB, PL, P...\n",
              "284926400                                                  [EN]\n",
              "284946595                                                  [EN]\n",
              "285755462     [DA, NL, EN, FI, FR, DE, IT, JA, KO, NB, PL, P...\n",
              "285831220     [DA, NL, EN, FR, DE, EL, IT, JA, KO, NO, PT, R...\n",
              "                                    ...                        \n",
              "1474626442                                                 [EN]\n",
              "1474919257                                                 [EN]\n",
              "1474962324                                                 [EN]\n",
              "1474963671                                                 [EN]\n",
              "1475076711                                             [EN, ZH]\n",
              "Name: languages, Length: 17007, dtype: object"
            ]
          },
          "metadata": {},
          "execution_count": 58
        }
      ]
    },
    {
      "cell_type": "code",
      "source": [
        "df.languages.str.split(', ').str.len()"
      ],
      "metadata": {
        "colab": {
          "base_uri": "https://localhost:8080/"
        },
        "id": "mw0KZiYrVhTf",
        "outputId": "b51346be-4adc-4e77-ffb5-aae40aadde07"
      },
      "execution_count": 59,
      "outputs": [
        {
          "output_type": "execute_result",
          "data": {
            "text/plain": [
              "ID\n",
              "284921427     17.0\n",
              "284926400      1.0\n",
              "284946595      1.0\n",
              "285755462     17.0\n",
              "285831220     15.0\n",
              "              ... \n",
              "1474626442     1.0\n",
              "1474919257     1.0\n",
              "1474962324     1.0\n",
              "1474963671     1.0\n",
              "1475076711     2.0\n",
              "Name: languages, Length: 17007, dtype: float64"
            ]
          },
          "metadata": {},
          "execution_count": 59
        }
      ]
    },
    {
      "cell_type": "code",
      "source": [
        "df['num_lang'] = df.languages.str.split(', ').str.len()\n",
        "df.head()"
      ],
      "metadata": {
        "colab": {
          "base_uri": "https://localhost:8080/",
          "height": 597
        },
        "id": "Ei5nkkrDVpPe",
        "outputId": "d7e17408-03a2-4cf1-8a21-b64ca8dc63d7"
      },
      "execution_count": 61,
      "outputs": [
        {
          "output_type": "execute_result",
          "data": {
            "text/plain": [
              "                    name  average_user_rating  user_rating_count  price  \\\n",
              "ID                                                                        \n",
              "284921427         Sudoku                  4.0             3553.0   2.99   \n",
              "284926400        Reversi                  3.5              284.0   1.99   \n",
              "284946595        Morocco                  3.0             8376.0   0.00   \n",
              "285755462  Sudoku (Free)                  3.5           190394.0   0.00   \n",
              "285831220   Senet Deluxe                  3.5               28.0   2.99   \n",
              "\n",
              "                          developer age_rating  \\\n",
              "ID                                               \n",
              "284921427  Mighty Mighty Good Games         4+   \n",
              "284926400          Kiss The Machine         4+   \n",
              "284946595               Bayou Games         4+   \n",
              "285755462  Mighty Mighty Good Games         4+   \n",
              "285831220           RoGame Software         4+   \n",
              "\n",
              "                                                   languages        size  \\\n",
              "ID                                                                         \n",
              "284921427  DA, NL, EN, FI, FR, DE, IT, JA, KO, NB, PL, PT...  15853568.0   \n",
              "284926400                                                 EN  12328960.0   \n",
              "284946595                                                 EN    674816.0   \n",
              "285755462  DA, NL, EN, FI, FR, DE, IT, JA, KO, NB, PL, PT...  21552128.0   \n",
              "285831220  DA, NL, EN, FR, DE, EL, IT, JA, KO, NO, PT, RU...  34689024.0   \n",
              "\n",
              "          primary_genre                             genres  \\\n",
              "ID                                                           \n",
              "284921427         Games            Games, Strategy, Puzzle   \n",
              "284926400         Games             Games, Strategy, Board   \n",
              "284946595         Games             Games, Board, Strategy   \n",
              "285755462         Games            Games, Strategy, Puzzle   \n",
              "285831220         Games  Games, Strategy, Board, Education   \n",
              "\n",
              "          original_release_date current_version_release_date  num_lang  \n",
              "ID                                                                      \n",
              "284921427            11/07/2008                   30/05/2017      17.0  \n",
              "284926400            11/07/2008                   17/05/2018       1.0  \n",
              "284946595            11/07/2008                    5/09/2017       1.0  \n",
              "285755462            23/07/2008                   30/05/2017      17.0  \n",
              "285831220            18/07/2008                   22/07/2018      15.0  "
            ],
            "text/html": [
              "\n",
              "  <div id=\"df-4261193d-e20d-4f2e-907f-2bef233a72a3\">\n",
              "    <div class=\"colab-df-container\">\n",
              "      <div>\n",
              "<style scoped>\n",
              "    .dataframe tbody tr th:only-of-type {\n",
              "        vertical-align: middle;\n",
              "    }\n",
              "\n",
              "    .dataframe tbody tr th {\n",
              "        vertical-align: top;\n",
              "    }\n",
              "\n",
              "    .dataframe thead th {\n",
              "        text-align: right;\n",
              "    }\n",
              "</style>\n",
              "<table border=\"1\" class=\"dataframe\">\n",
              "  <thead>\n",
              "    <tr style=\"text-align: right;\">\n",
              "      <th></th>\n",
              "      <th>name</th>\n",
              "      <th>average_user_rating</th>\n",
              "      <th>user_rating_count</th>\n",
              "      <th>price</th>\n",
              "      <th>developer</th>\n",
              "      <th>age_rating</th>\n",
              "      <th>languages</th>\n",
              "      <th>size</th>\n",
              "      <th>primary_genre</th>\n",
              "      <th>genres</th>\n",
              "      <th>original_release_date</th>\n",
              "      <th>current_version_release_date</th>\n",
              "      <th>num_lang</th>\n",
              "    </tr>\n",
              "    <tr>\n",
              "      <th>ID</th>\n",
              "      <th></th>\n",
              "      <th></th>\n",
              "      <th></th>\n",
              "      <th></th>\n",
              "      <th></th>\n",
              "      <th></th>\n",
              "      <th></th>\n",
              "      <th></th>\n",
              "      <th></th>\n",
              "      <th></th>\n",
              "      <th></th>\n",
              "      <th></th>\n",
              "      <th></th>\n",
              "    </tr>\n",
              "  </thead>\n",
              "  <tbody>\n",
              "    <tr>\n",
              "      <th>284921427</th>\n",
              "      <td>Sudoku</td>\n",
              "      <td>4.0</td>\n",
              "      <td>3553.0</td>\n",
              "      <td>2.99</td>\n",
              "      <td>Mighty Mighty Good Games</td>\n",
              "      <td>4+</td>\n",
              "      <td>DA, NL, EN, FI, FR, DE, IT, JA, KO, NB, PL, PT...</td>\n",
              "      <td>15853568.0</td>\n",
              "      <td>Games</td>\n",
              "      <td>Games, Strategy, Puzzle</td>\n",
              "      <td>11/07/2008</td>\n",
              "      <td>30/05/2017</td>\n",
              "      <td>17.0</td>\n",
              "    </tr>\n",
              "    <tr>\n",
              "      <th>284926400</th>\n",
              "      <td>Reversi</td>\n",
              "      <td>3.5</td>\n",
              "      <td>284.0</td>\n",
              "      <td>1.99</td>\n",
              "      <td>Kiss The Machine</td>\n",
              "      <td>4+</td>\n",
              "      <td>EN</td>\n",
              "      <td>12328960.0</td>\n",
              "      <td>Games</td>\n",
              "      <td>Games, Strategy, Board</td>\n",
              "      <td>11/07/2008</td>\n",
              "      <td>17/05/2018</td>\n",
              "      <td>1.0</td>\n",
              "    </tr>\n",
              "    <tr>\n",
              "      <th>284946595</th>\n",
              "      <td>Morocco</td>\n",
              "      <td>3.0</td>\n",
              "      <td>8376.0</td>\n",
              "      <td>0.00</td>\n",
              "      <td>Bayou Games</td>\n",
              "      <td>4+</td>\n",
              "      <td>EN</td>\n",
              "      <td>674816.0</td>\n",
              "      <td>Games</td>\n",
              "      <td>Games, Board, Strategy</td>\n",
              "      <td>11/07/2008</td>\n",
              "      <td>5/09/2017</td>\n",
              "      <td>1.0</td>\n",
              "    </tr>\n",
              "    <tr>\n",
              "      <th>285755462</th>\n",
              "      <td>Sudoku (Free)</td>\n",
              "      <td>3.5</td>\n",
              "      <td>190394.0</td>\n",
              "      <td>0.00</td>\n",
              "      <td>Mighty Mighty Good Games</td>\n",
              "      <td>4+</td>\n",
              "      <td>DA, NL, EN, FI, FR, DE, IT, JA, KO, NB, PL, PT...</td>\n",
              "      <td>21552128.0</td>\n",
              "      <td>Games</td>\n",
              "      <td>Games, Strategy, Puzzle</td>\n",
              "      <td>23/07/2008</td>\n",
              "      <td>30/05/2017</td>\n",
              "      <td>17.0</td>\n",
              "    </tr>\n",
              "    <tr>\n",
              "      <th>285831220</th>\n",
              "      <td>Senet Deluxe</td>\n",
              "      <td>3.5</td>\n",
              "      <td>28.0</td>\n",
              "      <td>2.99</td>\n",
              "      <td>RoGame Software</td>\n",
              "      <td>4+</td>\n",
              "      <td>DA, NL, EN, FR, DE, EL, IT, JA, KO, NO, PT, RU...</td>\n",
              "      <td>34689024.0</td>\n",
              "      <td>Games</td>\n",
              "      <td>Games, Strategy, Board, Education</td>\n",
              "      <td>18/07/2008</td>\n",
              "      <td>22/07/2018</td>\n",
              "      <td>15.0</td>\n",
              "    </tr>\n",
              "  </tbody>\n",
              "</table>\n",
              "</div>\n",
              "      <button class=\"colab-df-convert\" onclick=\"convertToInteractive('df-4261193d-e20d-4f2e-907f-2bef233a72a3')\"\n",
              "              title=\"Convert this dataframe to an interactive table.\"\n",
              "              style=\"display:none;\">\n",
              "        \n",
              "  <svg xmlns=\"http://www.w3.org/2000/svg\" height=\"24px\"viewBox=\"0 0 24 24\"\n",
              "       width=\"24px\">\n",
              "    <path d=\"M0 0h24v24H0V0z\" fill=\"none\"/>\n",
              "    <path d=\"M18.56 5.44l.94 2.06.94-2.06 2.06-.94-2.06-.94-.94-2.06-.94 2.06-2.06.94zm-11 1L8.5 8.5l.94-2.06 2.06-.94-2.06-.94L8.5 2.5l-.94 2.06-2.06.94zm10 10l.94 2.06.94-2.06 2.06-.94-2.06-.94-.94-2.06-.94 2.06-2.06.94z\"/><path d=\"M17.41 7.96l-1.37-1.37c-.4-.4-.92-.59-1.43-.59-.52 0-1.04.2-1.43.59L10.3 9.45l-7.72 7.72c-.78.78-.78 2.05 0 2.83L4 21.41c.39.39.9.59 1.41.59.51 0 1.02-.2 1.41-.59l7.78-7.78 2.81-2.81c.8-.78.8-2.07 0-2.86zM5.41 20L4 18.59l7.72-7.72 1.47 1.35L5.41 20z\"/>\n",
              "  </svg>\n",
              "      </button>\n",
              "      \n",
              "  <style>\n",
              "    .colab-df-container {\n",
              "      display:flex;\n",
              "      flex-wrap:wrap;\n",
              "      gap: 12px;\n",
              "    }\n",
              "\n",
              "    .colab-df-convert {\n",
              "      background-color: #E8F0FE;\n",
              "      border: none;\n",
              "      border-radius: 50%;\n",
              "      cursor: pointer;\n",
              "      display: none;\n",
              "      fill: #1967D2;\n",
              "      height: 32px;\n",
              "      padding: 0 0 0 0;\n",
              "      width: 32px;\n",
              "    }\n",
              "\n",
              "    .colab-df-convert:hover {\n",
              "      background-color: #E2EBFA;\n",
              "      box-shadow: 0px 1px 2px rgba(60, 64, 67, 0.3), 0px 1px 3px 1px rgba(60, 64, 67, 0.15);\n",
              "      fill: #174EA6;\n",
              "    }\n",
              "\n",
              "    [theme=dark] .colab-df-convert {\n",
              "      background-color: #3B4455;\n",
              "      fill: #D2E3FC;\n",
              "    }\n",
              "\n",
              "    [theme=dark] .colab-df-convert:hover {\n",
              "      background-color: #434B5C;\n",
              "      box-shadow: 0px 1px 3px 1px rgba(0, 0, 0, 0.15);\n",
              "      filter: drop-shadow(0px 1px 2px rgba(0, 0, 0, 0.3));\n",
              "      fill: #FFFFFF;\n",
              "    }\n",
              "  </style>\n",
              "\n",
              "      <script>\n",
              "        const buttonEl =\n",
              "          document.querySelector('#df-4261193d-e20d-4f2e-907f-2bef233a72a3 button.colab-df-convert');\n",
              "        buttonEl.style.display =\n",
              "          google.colab.kernel.accessAllowed ? 'block' : 'none';\n",
              "\n",
              "        async function convertToInteractive(key) {\n",
              "          const element = document.querySelector('#df-4261193d-e20d-4f2e-907f-2bef233a72a3');\n",
              "          const dataTable =\n",
              "            await google.colab.kernel.invokeFunction('convertToInteractive',\n",
              "                                                     [key], {});\n",
              "          if (!dataTable) return;\n",
              "\n",
              "          const docLinkHtml = 'Like what you see? Visit the ' +\n",
              "            '<a target=\"_blank\" href=https://colab.research.google.com/notebooks/data_table.ipynb>data table notebook</a>'\n",
              "            + ' to learn more about interactive tables.';\n",
              "          element.innerHTML = '';\n",
              "          dataTable['output_type'] = 'display_data';\n",
              "          await google.colab.output.renderOutput(dataTable, element);\n",
              "          const docLink = document.createElement('div');\n",
              "          docLink.innerHTML = docLinkHtml;\n",
              "          element.appendChild(docLink);\n",
              "        }\n",
              "      </script>\n",
              "    </div>\n",
              "  </div>\n",
              "  "
            ]
          },
          "metadata": {},
          "execution_count": 61
        }
      ]
    },
    {
      "cell_type": "code",
      "source": [
        "df.num_lang.value_counts()"
      ],
      "metadata": {
        "colab": {
          "base_uri": "https://localhost:8080/"
        },
        "id": "gol4W05pV4D6",
        "outputId": "dfd90094-aed9-4f83-f9ee-895ab65549f7"
      },
      "execution_count": 62,
      "outputs": [
        {
          "output_type": "execute_result",
          "data": {
            "text/plain": [
              "1.0      12566\n",
              "2.0       1102\n",
              "3.0        495\n",
              "16.0       316\n",
              "4.0        261\n",
              "5.0        247\n",
              "6.0        220\n",
              "25.0       171\n",
              "9.0        154\n",
              "11.0       147\n",
              "8.0        142\n",
              "7.0        140\n",
              "10.0       140\n",
              "31.0       133\n",
              "12.0        91\n",
              "21.0        77\n",
              "14.0        64\n",
              "13.0        64\n",
              "15.0        54\n",
              "17.0        37\n",
              "30.0        35\n",
              "19.0        34\n",
              "32.0        34\n",
              "33.0        33\n",
              "22.0        31\n",
              "18.0        24\n",
              "46.0        20\n",
              "26.0        18\n",
              "20.0        14\n",
              "24.0        13\n",
              "23.0        11\n",
              "27.0        11\n",
              "28.0         9\n",
              "29.0         8\n",
              "45.0         6\n",
              "44.0         5\n",
              "65.0         4\n",
              "42.0         3\n",
              "43.0         3\n",
              "36.0         2\n",
              "49.0         2\n",
              "48.0         1\n",
              "66.0         1\n",
              "35.0         1\n",
              "34.0         1\n",
              "111.0        1\n",
              "76.0         1\n",
              "Name: num_lang, dtype: int64"
            ]
          },
          "metadata": {},
          "execution_count": 62
        }
      ]
    },
    {
      "cell_type": "markdown",
      "source": [
        "Sprawdzanie braków"
      ],
      "metadata": {
        "id": "DH4xx_sRYW6o"
      }
    },
    {
      "cell_type": "code",
      "source": [
        "df.info()"
      ],
      "metadata": {
        "colab": {
          "base_uri": "https://localhost:8080/"
        },
        "id": "NaFcPQ6iV_iT",
        "outputId": "aef218a0-ba39-4129-c5ab-2b4ab6e7af94"
      },
      "execution_count": 63,
      "outputs": [
        {
          "output_type": "stream",
          "name": "stdout",
          "text": [
            "<class 'pandas.core.frame.DataFrame'>\n",
            "Int64Index: 17007 entries, 284921427 to 1475076711\n",
            "Data columns (total 13 columns):\n",
            " #   Column                        Non-Null Count  Dtype  \n",
            "---  ------                        --------------  -----  \n",
            " 0   name                          17007 non-null  object \n",
            " 1   average_user_rating           7561 non-null   float64\n",
            " 2   user_rating_count             7561 non-null   float64\n",
            " 3   price                         16983 non-null  float64\n",
            " 4   developer                     17007 non-null  object \n",
            " 5   age_rating                    17007 non-null  object \n",
            " 6   languages                     16947 non-null  object \n",
            " 7   size                          17006 non-null  float64\n",
            " 8   primary_genre                 17007 non-null  object \n",
            " 9   genres                        17007 non-null  object \n",
            " 10  original_release_date         17007 non-null  object \n",
            " 11  current_version_release_date  17007 non-null  object \n",
            " 12  num_lang                      16947 non-null  float64\n",
            "dtypes: float64(5), object(8)\n",
            "memory usage: 1.8+ MB\n"
          ]
        }
      ]
    },
    {
      "cell_type": "code",
      "source": [
        "df.average_user_rating.value_counts(dropna=False)"
      ],
      "metadata": {
        "colab": {
          "base_uri": "https://localhost:8080/"
        },
        "id": "a7L-9kX7YaQx",
        "outputId": "7b30eb38-551f-4112-a06a-cf92724dd431"
      },
      "execution_count": 65,
      "outputs": [
        {
          "output_type": "execute_result",
          "data": {
            "text/plain": [
              "NaN    9446\n",
              "4.5    2861\n",
              "4.0    1722\n",
              "5.0     990\n",
              "3.5     925\n",
              "3.0     514\n",
              "2.5     317\n",
              "2.0     158\n",
              "1.5      60\n",
              "1.0      14\n",
              "Name: average_user_rating, dtype: int64"
            ]
          },
          "metadata": {},
          "execution_count": 65
        }
      ]
    },
    {
      "cell_type": "code",
      "source": [
        "df.average_user_rating.value_counts(dropna=False).plot(kind='pie')"
      ],
      "metadata": {
        "colab": {
          "base_uri": "https://localhost:8080/",
          "height": 266
        },
        "id": "AFjIEQbPYxBL",
        "outputId": "faab6bfd-a5fc-4d63-f567-6bd6d458db22"
      },
      "execution_count": 67,
      "outputs": [
        {
          "output_type": "execute_result",
          "data": {
            "text/plain": [
              "<matplotlib.axes._subplots.AxesSubplot at 0x7f15af04ad60>"
            ]
          },
          "metadata": {},
          "execution_count": 67
        },
        {
          "output_type": "display_data",
          "data": {
            "text/plain": [
              "<Figure size 432x288 with 1 Axes>"
            ],
            "image/png": "[encoded data removed]"
          },
          "metadata": {}
        }
      ]
    },
    {
      "cell_type": "code",
      "source": [
        "df.isnull().head(3)"
      ],
      "metadata": {
        "colab": {
          "base_uri": "https://localhost:8080/",
          "height": 239
        },
        "id": "RTjKGpj-ZAYF",
        "outputId": "ab22cbf3-fb15-4a51-e5ba-489abf9d6fc9"
      },
      "execution_count": 70,
      "outputs": [
        {
          "output_type": "execute_result",
          "data": {
            "text/plain": [
              "            name  average_user_rating  user_rating_count  price  developer  \\\n",
              "ID                                                                           \n",
              "284921427  False                False              False  False      False   \n",
              "284926400  False                False              False  False      False   \n",
              "284946595  False                False              False  False      False   \n",
              "\n",
              "           age_rating  languages   size  primary_genre  genres  \\\n",
              "ID                                                               \n",
              "284921427       False      False  False          False   False   \n",
              "284926400       False      False  False          False   False   \n",
              "284946595       False      False  False          False   False   \n",
              "\n",
              "           original_release_date  current_version_release_date  num_lang  \n",
              "ID                                                                        \n",
              "284921427                  False                         False     False  \n",
              "284926400                  False                         False     False  \n",
              "284946595                  False                         False     False  "
            ],
            "text/html": [
              "\n",
              "  <div id=\"df-28792507-9615-4c34-a8dc-79191f9ea7ee\">\n",
              "    <div class=\"colab-df-container\">\n",
              "      <div>\n",
              "<style scoped>\n",
              "    .dataframe tbody tr th:only-of-type {\n",
              "        vertical-align: middle;\n",
              "    }\n",
              "\n",
              "    .dataframe tbody tr th {\n",
              "        vertical-align: top;\n",
              "    }\n",
              "\n",
              "    .dataframe thead th {\n",
              "        text-align: right;\n",
              "    }\n",
              "</style>\n",
              "<table border=\"1\" class=\"dataframe\">\n",
              "  <thead>\n",
              "    <tr style=\"text-align: right;\">\n",
              "      <th></th>\n",
              "      <th>name</th>\n",
              "      <th>average_user_rating</th>\n",
              "      <th>user_rating_count</th>\n",
              "      <th>price</th>\n",
              "      <th>developer</th>\n",
              "      <th>age_rating</th>\n",
              "      <th>languages</th>\n",
              "      <th>size</th>\n",
              "      <th>primary_genre</th>\n",
              "      <th>genres</th>\n",
              "      <th>original_release_date</th>\n",
              "      <th>current_version_release_date</th>\n",
              "      <th>num_lang</th>\n",
              "    </tr>\n",
              "    <tr>\n",
              "      <th>ID</th>\n",
              "      <th></th>\n",
              "      <th></th>\n",
              "      <th></th>\n",
              "      <th></th>\n",
              "      <th></th>\n",
              "      <th></th>\n",
              "      <th></th>\n",
              "      <th></th>\n",
              "      <th></th>\n",
              "      <th></th>\n",
              "      <th></th>\n",
              "      <th></th>\n",
              "      <th></th>\n",
              "    </tr>\n",
              "  </thead>\n",
              "  <tbody>\n",
              "    <tr>\n",
              "      <th>284921427</th>\n",
              "      <td>False</td>\n",
              "      <td>False</td>\n",
              "      <td>False</td>\n",
              "      <td>False</td>\n",
              "      <td>False</td>\n",
              "      <td>False</td>\n",
              "      <td>False</td>\n",
              "      <td>False</td>\n",
              "      <td>False</td>\n",
              "      <td>False</td>\n",
              "      <td>False</td>\n",
              "      <td>False</td>\n",
              "      <td>False</td>\n",
              "    </tr>\n",
              "    <tr>\n",
              "      <th>284926400</th>\n",
              "      <td>False</td>\n",
              "      <td>False</td>\n",
              "      <td>False</td>\n",
              "      <td>False</td>\n",
              "      <td>False</td>\n",
              "      <td>False</td>\n",
              "      <td>False</td>\n",
              "      <td>False</td>\n",
              "      <td>False</td>\n",
              "      <td>False</td>\n",
              "      <td>False</td>\n",
              "      <td>False</td>\n",
              "      <td>False</td>\n",
              "    </tr>\n",
              "    <tr>\n",
              "      <th>284946595</th>\n",
              "      <td>False</td>\n",
              "      <td>False</td>\n",
              "      <td>False</td>\n",
              "      <td>False</td>\n",
              "      <td>False</td>\n",
              "      <td>False</td>\n",
              "      <td>False</td>\n",
              "      <td>False</td>\n",
              "      <td>False</td>\n",
              "      <td>False</td>\n",
              "      <td>False</td>\n",
              "      <td>False</td>\n",
              "      <td>False</td>\n",
              "    </tr>\n",
              "  </tbody>\n",
              "</table>\n",
              "</div>\n",
              "      <button class=\"colab-df-convert\" onclick=\"convertToInteractive('df-28792507-9615-4c34-a8dc-79191f9ea7ee')\"\n",
              "              title=\"Convert this dataframe to an interactive table.\"\n",
              "              style=\"display:none;\">\n",
              "        \n",
              "  <svg xmlns=\"http://www.w3.org/2000/svg\" height=\"24px\"viewBox=\"0 0 24 24\"\n",
              "       width=\"24px\">\n",
              "    <path d=\"M0 0h24v24H0V0z\" fill=\"none\"/>\n",
              "    <path d=\"M18.56 5.44l.94 2.06.94-2.06 2.06-.94-2.06-.94-.94-2.06-.94 2.06-2.06.94zm-11 1L8.5 8.5l.94-2.06 2.06-.94-2.06-.94L8.5 2.5l-.94 2.06-2.06.94zm10 10l.94 2.06.94-2.06 2.06-.94-2.06-.94-.94-2.06-.94 2.06-2.06.94z\"/><path d=\"M17.41 7.96l-1.37-1.37c-.4-.4-.92-.59-1.43-.59-.52 0-1.04.2-1.43.59L10.3 9.45l-7.72 7.72c-.78.78-.78 2.05 0 2.83L4 21.41c.39.39.9.59 1.41.59.51 0 1.02-.2 1.41-.59l7.78-7.78 2.81-2.81c.8-.78.8-2.07 0-2.86zM5.41 20L4 18.59l7.72-7.72 1.47 1.35L5.41 20z\"/>\n",
              "  </svg>\n",
              "      </button>\n",
              "      \n",
              "  <style>\n",
              "    .colab-df-container {\n",
              "      display:flex;\n",
              "      flex-wrap:wrap;\n",
              "      gap: 12px;\n",
              "    }\n",
              "\n",
              "    .colab-df-convert {\n",
              "      background-color: #E8F0FE;\n",
              "      border: none;\n",
              "      border-radius: 50%;\n",
              "      cursor: pointer;\n",
              "      display: none;\n",
              "      fill: #1967D2;\n",
              "      height: 32px;\n",
              "      padding: 0 0 0 0;\n",
              "      width: 32px;\n",
              "    }\n",
              "\n",
              "    .colab-df-convert:hover {\n",
              "      background-color: #E2EBFA;\n",
              "      box-shadow: 0px 1px 2px rgba(60, 64, 67, 0.3), 0px 1px 3px 1px rgba(60, 64, 67, 0.15);\n",
              "      fill: #174EA6;\n",
              "    }\n",
              "\n",
              "    [theme=dark] .colab-df-convert {\n",
              "      background-color: #3B4455;\n",
              "      fill: #D2E3FC;\n",
              "    }\n",
              "\n",
              "    [theme=dark] .colab-df-convert:hover {\n",
              "      background-color: #434B5C;\n",
              "      box-shadow: 0px 1px 3px 1px rgba(0, 0, 0, 0.15);\n",
              "      filter: drop-shadow(0px 1px 2px rgba(0, 0, 0, 0.3));\n",
              "      fill: #FFFFFF;\n",
              "    }\n",
              "  </style>\n",
              "\n",
              "      <script>\n",
              "        const buttonEl =\n",
              "          document.querySelector('#df-28792507-9615-4c34-a8dc-79191f9ea7ee button.colab-df-convert');\n",
              "        buttonEl.style.display =\n",
              "          google.colab.kernel.accessAllowed ? 'block' : 'none';\n",
              "\n",
              "        async function convertToInteractive(key) {\n",
              "          const element = document.querySelector('#df-28792507-9615-4c34-a8dc-79191f9ea7ee');\n",
              "          const dataTable =\n",
              "            await google.colab.kernel.invokeFunction('convertToInteractive',\n",
              "                                                     [key], {});\n",
              "          if (!dataTable) return;\n",
              "\n",
              "          const docLinkHtml = 'Like what you see? Visit the ' +\n",
              "            '<a target=\"_blank\" href=https://colab.research.google.com/notebooks/data_table.ipynb>data table notebook</a>'\n",
              "            + ' to learn more about interactive tables.';\n",
              "          element.innerHTML = '';\n",
              "          dataTable['output_type'] = 'display_data';\n",
              "          await google.colab.output.renderOutput(dataTable, element);\n",
              "          const docLink = document.createElement('div');\n",
              "          docLink.innerHTML = docLinkHtml;\n",
              "          element.appendChild(docLink);\n",
              "        }\n",
              "      </script>\n",
              "    </div>\n",
              "  </div>\n",
              "  "
            ]
          },
          "metadata": {},
          "execution_count": 70
        }
      ]
    },
    {
      "cell_type": "code",
      "source": [
        "df.isnull().sum()"
      ],
      "metadata": {
        "colab": {
          "base_uri": "https://localhost:8080/"
        },
        "id": "EpJtdKBrZH03",
        "outputId": "6148e48f-c0eb-4f7c-a82d-98da01333452"
      },
      "execution_count": 72,
      "outputs": [
        {
          "output_type": "execute_result",
          "data": {
            "text/plain": [
              "name                               0\n",
              "average_user_rating             9446\n",
              "user_rating_count               9446\n",
              "price                             24\n",
              "developer                          0\n",
              "age_rating                         0\n",
              "languages                         60\n",
              "size                               1\n",
              "primary_genre                      0\n",
              "genres                             0\n",
              "original_release_date              0\n",
              "current_version_release_date       0\n",
              "num_lang                          60\n",
              "dtype: int64"
            ]
          },
          "metadata": {},
          "execution_count": 72
        }
      ]
    },
    {
      "cell_type": "code",
      "source": [
        "df = df.dropna()\n",
        "df.isnull().sum()"
      ],
      "metadata": {
        "colab": {
          "base_uri": "https://localhost:8080/"
        },
        "id": "CDiPHTAsZMfR",
        "outputId": "7ba1ece1-e187-458a-c46b-0e8e3a3f3882"
      },
      "execution_count": 75,
      "outputs": [
        {
          "output_type": "execute_result",
          "data": {
            "text/plain": [
              "name                            0\n",
              "average_user_rating             0\n",
              "user_rating_count               0\n",
              "price                           0\n",
              "developer                       0\n",
              "age_rating                      0\n",
              "languages                       0\n",
              "size                            0\n",
              "primary_genre                   0\n",
              "genres                          0\n",
              "original_release_date           0\n",
              "current_version_release_date    0\n",
              "num_lang                        0\n",
              "dtype: int64"
            ]
          },
          "metadata": {},
          "execution_count": 75
        }
      ]
    },
    {
      "cell_type": "code",
      "source": [
        "df.info()"
      ],
      "metadata": {
        "colab": {
          "base_uri": "https://localhost:8080/"
        },
        "id": "sl0woRYqZed-",
        "outputId": "24a9db15-1339-4840-d6e4-0e7c7b52081a"
      },
      "execution_count": 76,
      "outputs": [
        {
          "output_type": "stream",
          "name": "stdout",
          "text": [
            "<class 'pandas.core.frame.DataFrame'>\n",
            "Int64Index: 7537 entries, 284921427 to 1474461379\n",
            "Data columns (total 13 columns):\n",
            " #   Column                        Non-Null Count  Dtype  \n",
            "---  ------                        --------------  -----  \n",
            " 0   name                          7537 non-null   object \n",
            " 1   average_user_rating           7537 non-null   float64\n",
            " 2   user_rating_count             7537 non-null   float64\n",
            " 3   price                         7537 non-null   float64\n",
            " 4   developer                     7537 non-null   object \n",
            " 5   age_rating                    7537 non-null   object \n",
            " 6   languages                     7537 non-null   object \n",
            " 7   size                          7537 non-null   float64\n",
            " 8   primary_genre                 7537 non-null   object \n",
            " 9   genres                        7537 non-null   object \n",
            " 10  original_release_date         7537 non-null   object \n",
            " 11  current_version_release_date  7537 non-null   object \n",
            " 12  num_lang                      7537 non-null   float64\n",
            "dtypes: float64(5), object(8)\n",
            "memory usage: 824.4+ KB\n"
          ]
        }
      ]
    },
    {
      "cell_type": "code",
      "source": [],
      "metadata": {
        "id": "daq3psSRZgGK"
      },
      "execution_count": null,
      "outputs": []
    },
    {
      "cell_type": "code",
      "source": [],
      "metadata": {
        "id": "GF6SD-LiZaoD"
      },
      "execution_count": null,
      "outputs": []
    },
    {
      "cell_type": "code",
      "source": [],
      "metadata": {
        "id": "Upf0TiYTZX6O"
      },
      "execution_count": null,
      "outputs": []
    },
    {
      "cell_type": "code",
      "source": [],
      "metadata": {
        "id": "2kCAnpouZKbw"
      },
      "execution_count": null,
      "outputs": []
    },
    {
      "cell_type": "code",
      "source": [],
      "metadata": {
        "id": "tv1DTOTfZGGb"
      },
      "execution_count": null,
      "outputs": []
    },
    {
      "cell_type": "code",
      "source": [],
      "metadata": {
        "id": "hlYWXbuNZET3"
      },
      "execution_count": null,
      "outputs": []
    },
    {
      "cell_type": "code",
      "source": [],
      "metadata": {
        "id": "0mX447DCY3AT"
      },
      "execution_count": null,
      "outputs": []
    },
    {
      "cell_type": "code",
      "source": [],
      "metadata": {
        "id": "liGY9osvYim1"
      },
      "execution_count": null,
      "outputs": []
    },
    {
      "cell_type": "code",
      "source": [],
      "metadata": {
        "id": "avEIHk1jYZHs"
      },
      "execution_count": null,
      "outputs": []
    },
    {
      "cell_type": "code",
      "source": [],
      "metadata": {
        "id": "8ZKGn7zMV1-L"
      },
      "execution_count": null,
      "outputs": []
    },
    {
      "cell_type": "code",
      "source": [],
      "metadata": {
        "id": "wO03vDVJVfbv"
      },
      "execution_count": null,
      "outputs": []
    },
    {
      "cell_type": "code",
      "source": [],
      "metadata": {
        "id": "Yb0vxr_yVHqA"
      },
      "execution_count": null,
      "outputs": []
    },
    {
      "cell_type": "code",
      "source": [],
      "metadata": {
        "id": "i7HTmzXXU6KY"
      },
      "execution_count": null,
      "outputs": []
    },
    {
      "cell_type": "code",
      "source": [],
      "metadata": {
        "id": "Paj8vAsjU5Zz"
      },
      "execution_count": null,
      "outputs": []
    },
    {
      "cell_type": "code",
      "source": [],
      "metadata": {
        "id": "LVFe267XUroq"
      },
      "execution_count": null,
      "outputs": []
    },
    {
      "cell_type": "code",
      "source": [],
      "metadata": {
        "id": "HaQgXja7UUmi"
      },
      "execution_count": null,
      "outputs": []
    },
    {
      "cell_type": "code",
      "source": [],
      "metadata": {
        "id": "9oqImTeaUMip"
      },
      "execution_count": null,
      "outputs": []
    },
    {
      "cell_type": "code",
      "source": [],
      "metadata": {
        "id": "bzzfLs96UJI6"
      },
      "execution_count": null,
      "outputs": []
    },
    {
      "cell_type": "code",
      "source": [],
      "metadata": {
        "id": "Ai1qLrgUT1EN"
      },
      "execution_count": null,
      "outputs": []
    },
    {
      "cell_type": "code",
      "source": [],
      "metadata": {
        "id": "ujzwVQyvSSnV"
      },
      "execution_count": null,
      "outputs": []
    },
    {
      "cell_type": "code",
      "source": [],
      "metadata": {
        "id": "GJziGskORsT0"
      },
      "execution_count": null,
      "outputs": []
    },
    {
      "cell_type": "code",
      "source": [],
      "metadata": {
        "id": "NGbWleQ5RqeX"
      },
      "execution_count": null,
      "outputs": []
    },
    {
      "cell_type": "code",
      "source": [],
      "metadata": {
        "id": "kWWZSqrmRpsk"
      },
      "execution_count": null,
      "outputs": []
    },
    {
      "cell_type": "code",
      "source": [],
      "metadata": {
        "id": "YT5s91puRDkT"
      },
      "execution_count": null,
      "outputs": []
    },
    {
      "cell_type": "code",
      "source": [],
      "metadata": {
        "id": "tvdLNcV2Q1U8"
      },
      "execution_count": null,
      "outputs": []
    },
    {
      "cell_type": "code",
      "source": [],
      "metadata": {
        "id": "CpJViBmXMgao"
      },
      "execution_count": null,
      "outputs": []
    },
    {
      "cell_type": "code",
      "source": [],
      "metadata": {
        "id": "EN49d9lWMfE_"
      },
      "execution_count": null,
      "outputs": []
    },
    {
      "cell_type": "code",
      "source": [],
      "metadata": {
        "id": "xHALyTv9Md-G"
      },
      "execution_count": null,
      "outputs": []
    },
    {
      "cell_type": "code",
      "source": [],
      "metadata": {
        "id": "JDhQQcPTMUmQ"
      },
      "execution_count": null,
      "outputs": []
    },
    {
      "cell_type": "code",
      "source": [],
      "metadata": {
        "id": "F6ngHjUxMTQ2"
      },
      "execution_count": null,
      "outputs": []
    },
    {
      "cell_type": "code",
      "source": [],
      "metadata": {
        "id": "dgQODj1nL8Ic"
      },
      "execution_count": null,
      "outputs": []
    },
    {
      "cell_type": "code",
      "source": [],
      "metadata": {
        "id": "GrIE5OCRLYcK"
      },
      "execution_count": 6,
      "outputs": []
    },
    {
      "cell_type": "code",
      "source": [],
      "metadata": {
        "id": "X6FoI4R5LYrF"
      },
      "execution_count": null,
      "outputs": []
    },
    {
      "cell_type": "code",
      "source": [],
      "metadata": {
        "id": "YSbwW2CKK4hP"
      },
      "execution_count": null,
      "outputs": []
    },
    {
      "cell_type": "code",
      "source": [],
      "metadata": {
        "id": "OWUdve-pKfvC"
      },
      "execution_count": null,
      "outputs": []
    },
    {
      "cell_type": "code",
      "source": [],
      "metadata": {
        "id": "k_vU1igEKVT1"
      },
      "execution_count": null,
      "outputs": []
    }
  ]
}